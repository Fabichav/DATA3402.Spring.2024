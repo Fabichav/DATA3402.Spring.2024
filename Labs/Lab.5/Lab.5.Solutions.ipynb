{
 "cells": [
  {
   "cell_type": "markdown",
   "metadata": {},
   "source": [
    "# Lab 5\n"
   ]
  },
  {
   "cell_type": "markdown",
   "metadata": {},
   "source": [
    "Matrix Representation: In this lab you will be creating a simple linear algebra system. In memory, we will represent matrices as nested python lists as we have done in lecture. \n",
    "\n",
    "1. Create a `matrix` class with the following properties:\n",
    "    * It can be initialized in 2 ways:\n",
    "        1. ~with arguments `n` and `m`, the size of the matrix. A newly instanciated matrix will contain all zeros.~\n",
    "        2. ~with a list of lists of values. Note that since we are using lists of lists to implement matrices, it is possible that not all rows have the same number of columns. Test explicitly that the matrix is properly specified.~\n",
    "    * ~Matrix instances `M` can be indexed with `M[i][j]` and `M[i,j]`.~\n",
    "    * Matrix assignment works in 2 ways:\n",
    "        1. ~If `M_1` and `M_2` are `matrix` instances `M_1=M_2` sets the values of `M_1` to those of `M_2`, if they are the same size. Error otherwise.~\n",
    "        2. ~In example above `M_2` can be a list of lists of correct size.~\n"
   ]
  },
  {
   "cell_type": "code",
   "execution_count": 1080,
   "metadata": {},
   "outputs": [],
   "source": [
    "class Matrix:\n",
    "    def __init__(self, *args):\n",
    "        if len(args) == 2:\n",
    "            n, m = args\n",
    "            self.data = [[0] * m for _ in range(n)]\n",
    "            self.rows = n\n",
    "            self.cols = m\n",
    "        elif len(args) == 1 and isinstance(args[0], list):\n",
    "            matrix = args[0]\n",
    "            self.rows = len(matrix)\n",
    "            self.cols = len(matrix[0])\n",
    "            if not all(len(row) == self.cols for row in matrix):\n",
    "                raise ValueError(\"All rows must have the same number of columns\")\n",
    "            self.data = matrix\n",
    "        else:\n",
    "            raise ValueError(\"Invalid initialization\")\n",
    "\n",
    "    def __getitem__(self, key):\n",
    "        if isinstance(key, tuple):\n",
    "            i, j = key\n",
    "            return self.data[i][j]\n",
    "        elif isinstance(key, int):\n",
    "            return self.data[key]\n",
    "        else:\n",
    "            raise TypeError(\"Invalid index type\")\n",
    "\n",
    "    def __setitem__(self, key, value):\n",
    "        if isinstance(key, tuple):\n",
    "            i, j = key\n",
    "            if i >= self.rows or j >= self.cols:\n",
    "                raise IndexError(\"Index is out of range\")\n",
    "            self.data[i][j] = value\n",
    "        elif isinstance(key, int):\n",
    "            if key >= self.rows:\n",
    "                raise IndexError(\"Index is out of range\")\n",
    "            self.data[key] = value\n",
    "        else:\n",
    "            raise TypeError(\"Invalid index type\")\n",
    "\n",
    "    def __eq__(self, other):\n",
    "        if isinstance(other, Matrix) and self.rows == other.rows and self.cols == other.cols:\n",
    "            self.data = other.data\n",
    "            return True\n",
    "        elif isinstance(other, list) and len(other) == self.rows and all(len(row) == self.cols for row in other):\n",
    "            self.data = other\n",
    "            return True\n",
    "        else:\n",
    "            raise ValueError(\"Matrices have to be the same size or a list of lists of the right size\")\n",
    "\n",
    "    def __str__(self):\n",
    "        return '\\n'.join([' '.join(map(str, row)) for row in self.data])"
   ]
  },
  {
   "cell_type": "code",
   "execution_count": 1081,
   "metadata": {},
   "outputs": [
    {
     "name": "stdout",
     "output_type": "stream",
     "text": [
      "0 0 0 0 0\n",
      "0 0 0 0 0\n",
      "0 0 0 0 0\n",
      "0 0 0 0 0\n"
     ]
    }
   ],
   "source": [
    "M_1 = Matrix(4,5)\n",
    "print(M_1)"
   ]
  },
  {
   "cell_type": "code",
   "execution_count": 1082,
   "metadata": {},
   "outputs": [
    {
     "ename": "ValueError",
     "evalue": "All rows must have the same number of columns",
     "output_type": "error",
     "traceback": [
      "\u001b[0;31m---------------------------------------------------------------------------\u001b[0m",
      "\u001b[0;31mValueError\u001b[0m                                Traceback (most recent call last)",
      "Cell \u001b[0;32mIn[1082], line 1\u001b[0m\n\u001b[0;32m----> 1\u001b[0m test_L \u001b[38;5;241m=\u001b[39m \u001b[43mMatrix\u001b[49m\u001b[43m(\u001b[49m\u001b[43m[\u001b[49m\u001b[43m[\u001b[49m\u001b[38;5;241;43m1\u001b[39;49m\u001b[43m,\u001b[49m\u001b[38;5;241;43m2\u001b[39;49m\u001b[43m,\u001b[49m\u001b[38;5;241;43m3\u001b[39;49m\u001b[43m]\u001b[49m\u001b[43m,\u001b[49m\u001b[43m[\u001b[49m\u001b[38;5;241;43m4\u001b[39;49m\u001b[43m,\u001b[49m\u001b[38;5;241;43m5\u001b[39;49m\u001b[43m,\u001b[49m\u001b[38;5;241;43m6\u001b[39;49m\u001b[43m,\u001b[49m\u001b[38;5;241;43m7\u001b[39;49m\u001b[43m]\u001b[49m\u001b[43m]\u001b[49m\u001b[43m)\u001b[49m \u001b[38;5;66;03m#expecting error\u001b[39;00m\n",
      "Cell \u001b[0;32mIn[1080], line 13\u001b[0m, in \u001b[0;36mMatrix.__init__\u001b[0;34m(self, *args)\u001b[0m\n\u001b[1;32m     11\u001b[0m     \u001b[38;5;28mself\u001b[39m\u001b[38;5;241m.\u001b[39mcols \u001b[38;5;241m=\u001b[39m \u001b[38;5;28mlen\u001b[39m(matrix[\u001b[38;5;241m0\u001b[39m])\n\u001b[1;32m     12\u001b[0m     \u001b[38;5;28;01mif\u001b[39;00m \u001b[38;5;129;01mnot\u001b[39;00m \u001b[38;5;28mall\u001b[39m(\u001b[38;5;28mlen\u001b[39m(row) \u001b[38;5;241m==\u001b[39m \u001b[38;5;28mself\u001b[39m\u001b[38;5;241m.\u001b[39mcols \u001b[38;5;28;01mfor\u001b[39;00m row \u001b[38;5;129;01min\u001b[39;00m matrix):\n\u001b[0;32m---> 13\u001b[0m         \u001b[38;5;28;01mraise\u001b[39;00m \u001b[38;5;167;01mValueError\u001b[39;00m(\u001b[38;5;124m\"\u001b[39m\u001b[38;5;124mAll rows must have the same number of columns\u001b[39m\u001b[38;5;124m\"\u001b[39m)\n\u001b[1;32m     14\u001b[0m     \u001b[38;5;28mself\u001b[39m\u001b[38;5;241m.\u001b[39mdata \u001b[38;5;241m=\u001b[39m matrix\n\u001b[1;32m     15\u001b[0m \u001b[38;5;28;01melse\u001b[39;00m:\n",
      "\u001b[0;31mValueError\u001b[0m: All rows must have the same number of columns"
     ]
    }
   ],
   "source": [
    "test_L = Matrix([[1,2,3],[4,5,6,7]]) #expecting error"
   ]
  },
  {
   "cell_type": "code",
   "execution_count": 1083,
   "metadata": {},
   "outputs": [
    {
     "name": "stdout",
     "output_type": "stream",
     "text": [
      "1 2 3 4 5\n",
      "6 7 8 9 1\n",
      "2 3 4 5 6\n",
      "7 8 9 1 2\n"
     ]
    }
   ],
   "source": [
    "M_2 = Matrix([[1,2,3,4,5],[6,7,8,9,1],[2,3,4,5,6],[7,8,9,1,2]])\n",
    "print(M_2)"
   ]
  },
  {
   "cell_type": "code",
   "execution_count": 1084,
   "metadata": {},
   "outputs": [
    {
     "name": "stdout",
     "output_type": "stream",
     "text": [
      "8\n"
     ]
    }
   ],
   "source": [
    "print(M_2[1,2]) #expecting 8"
   ]
  },
  {
   "cell_type": "code",
   "execution_count": 1085,
   "metadata": {},
   "outputs": [
    {
     "name": "stdout",
     "output_type": "stream",
     "text": [
      "8\n"
     ]
    }
   ],
   "source": [
    "print(M_2[1][2])"
   ]
  },
  {
   "cell_type": "code",
   "execution_count": 1086,
   "metadata": {},
   "outputs": [
    {
     "data": {
      "text/plain": [
       "True"
      ]
     },
     "execution_count": 1086,
     "metadata": {},
     "output_type": "execute_result"
    }
   ],
   "source": [
    "M_1 == M_2"
   ]
  },
  {
   "cell_type": "code",
   "execution_count": 1087,
   "metadata": {},
   "outputs": [
    {
     "name": "stdout",
     "output_type": "stream",
     "text": [
      "1 2 3 4 5\n",
      "6 7 8 9 1\n",
      "2 3 4 5 6\n",
      "7 8 9 1 2\n"
     ]
    }
   ],
   "source": [
    "print(M_1)"
   ]
  },
  {
   "cell_type": "code",
   "execution_count": 1088,
   "metadata": {},
   "outputs": [],
   "source": [
    "M_3 = Matrix([[1,2,3],[4,5,6]])"
   ]
  },
  {
   "cell_type": "code",
   "execution_count": 1089,
   "metadata": {},
   "outputs": [
    {
     "ename": "ValueError",
     "evalue": "Matrices have to be the same size or a list of lists of the right size",
     "output_type": "error",
     "traceback": [
      "\u001b[0;31m---------------------------------------------------------------------------\u001b[0m",
      "\u001b[0;31mValueError\u001b[0m                                Traceback (most recent call last)",
      "Cell \u001b[0;32mIn[1089], line 1\u001b[0m\n\u001b[0;32m----> 1\u001b[0m \u001b[43mM_2\u001b[49m\u001b[43m \u001b[49m\u001b[38;5;241;43m==\u001b[39;49m\u001b[43m \u001b[49m\u001b[43mM_3\u001b[49m \u001b[38;5;66;03m#expecting error\u001b[39;00m\n",
      "Cell \u001b[0;32mIn[1080], line 48\u001b[0m, in \u001b[0;36mMatrix.__eq__\u001b[0;34m(self, other)\u001b[0m\n\u001b[1;32m     46\u001b[0m     \u001b[38;5;28;01mreturn\u001b[39;00m \u001b[38;5;28;01mTrue\u001b[39;00m\n\u001b[1;32m     47\u001b[0m \u001b[38;5;28;01melse\u001b[39;00m:\n\u001b[0;32m---> 48\u001b[0m     \u001b[38;5;28;01mraise\u001b[39;00m \u001b[38;5;167;01mValueError\u001b[39;00m(\u001b[38;5;124m\"\u001b[39m\u001b[38;5;124mMatrices have to be the same size or a list of lists of the right size\u001b[39m\u001b[38;5;124m\"\u001b[39m)\n",
      "\u001b[0;31mValueError\u001b[0m: Matrices have to be the same size or a list of lists of the right size"
     ]
    }
   ],
   "source": [
    "M_2 == M_3 #expecting error"
   ]
  },
  {
   "cell_type": "markdown",
   "metadata": {},
   "source": [
    "2. Add the following methods:\n",
    "    * ~`shape()`: returns a tuple `(n,m)` of the shape of the matrix.~\n",
    "    * ~`transpose()`: returns a new matrix instance which is the transpose of the matrix.~\n",
    "    * ~`row(n)` and `column(n)`: that return the nth row or column of the matrix M as a new appropriately shaped matrix object.~\n",
    "    * ~`to_list()`: which returns the matrix as a list of lists.~\n",
    "    * ~`block(n_0,n_1,m_0,m_1)` that returns a smaller matrix located at the n_0 to n_1 columns and m_0 to m_1 rows.~\n",
    "    * (Extra credit) Modify `__getitem__` implemented above to support slicing.\n",
    "        "
   ]
  },
  {
   "cell_type": "code",
   "execution_count": 1091,
   "metadata": {},
   "outputs": [],
   "source": [
    "class Matrix:\n",
    "    def __init__(self, *args):\n",
    "        if len(args) == 2:\n",
    "            n, m = args\n",
    "            self.data = [[0] * m for _ in range(n)]\n",
    "            self.rows = n\n",
    "            self.cols = m\n",
    "        elif len(args) == 1 and isinstance(args[0], list):\n",
    "            matrix = args[0]\n",
    "            self.rows = len(matrix)\n",
    "            self.cols = len(matrix[0])\n",
    "            if not all(len(row) == self.cols for row in matrix):\n",
    "                raise ValueError(\"All rows must have the same number of columns\")\n",
    "            self.data = matrix\n",
    "        else:\n",
    "            raise ValueError(\"Invalid initialization\")\n",
    "\n",
    "    def __getitem__(self, key):\n",
    "        if isinstance(key, tuple):\n",
    "            i, j = key\n",
    "            return self.data[i][j]\n",
    "        elif isinstance(key, int):\n",
    "            return self.data[key]\n",
    "        else:\n",
    "            raise TypeError(\"Invalid index type\")\n",
    "\n",
    "    def __setitem__(self, key, value):\n",
    "        if isinstance(key, tuple):\n",
    "            i, j = key\n",
    "            if i >= self.rows or j >= self.cols:\n",
    "                raise IndexError(\"Index is out of range\")\n",
    "            self.data[i][j] = value\n",
    "        elif isinstance(key, int):\n",
    "            if key >= self.rows:\n",
    "                raise IndexError(\"Index is out of range\")\n",
    "            self.data[key] = value\n",
    "        else:\n",
    "            raise TypeError(\"Invalid index type\")\n",
    "\n",
    "    def __eq__(self, other):\n",
    "        if isinstance(other, Matrix) and self.rows == other.rows and self.cols == other.cols:\n",
    "            self.data = other.data\n",
    "            return True\n",
    "        elif isinstance(other, list) and len(other) == self.rows and all(len(row) == self.cols for row in other):\n",
    "            self.data = other\n",
    "            return True\n",
    "        else:\n",
    "            raise ValueError(\"Matrices have to be the same size or a list of lists of the right size\")\n",
    "\n",
    "    def __str__(self):\n",
    "        return '\\n'.join([' '.join(map(str, row)) for row in self.data])\n",
    "        \n",
    "    def shape(self):\n",
    "        return (self.rows, self.cols)\n",
    "\n",
    "    def transpose(self):\n",
    "        transposed_data = [[self.data[j][i] for j in range(self.rows)] for i in range(self.cols)]\n",
    "        return Matrix(transposed_data)\n",
    "\n",
    "    def row(self, n):\n",
    "        return Matrix([self.data[n]])\n",
    "\n",
    "    def column(self, n):\n",
    "        return Matrix([[row[n]] for row in self.data])\n",
    "\n",
    "    def to_list(self):\n",
    "        return self.data\n",
    "\n",
    "    def block(self, n_0, n_1, m_0, m_1):\n",
    "        block_data = [row[n_0:n_1] for row in self.data[m_0:m_1]]\n",
    "        return Matrix(block_data)"
   ]
  },
  {
   "cell_type": "code",
   "execution_count": 1092,
   "metadata": {},
   "outputs": [],
   "source": [
    "M_2 = Matrix([[1,2,3,4,5],[6,7,8,9,1],[2,3,4,5,6],[7,8,9,1,2]])\n",
    "M_3 = Matrix([[1,2,3],[4,5,6]])"
   ]
  },
  {
   "cell_type": "code",
   "execution_count": 1093,
   "metadata": {},
   "outputs": [
    {
     "data": {
      "text/plain": [
       "(4, 5)"
      ]
     },
     "execution_count": 1093,
     "metadata": {},
     "output_type": "execute_result"
    }
   ],
   "source": [
    "M_2.shape()"
   ]
  },
  {
   "cell_type": "code",
   "execution_count": 1094,
   "metadata": {},
   "outputs": [
    {
     "name": "stdout",
     "output_type": "stream",
     "text": [
      "1 2 3 4 5\n",
      "6 7 8 9 1\n",
      "2 3 4 5 6\n",
      "7 8 9 1 2\n"
     ]
    }
   ],
   "source": [
    "print(M_2)"
   ]
  },
  {
   "cell_type": "code",
   "execution_count": 1095,
   "metadata": {},
   "outputs": [
    {
     "name": "stdout",
     "output_type": "stream",
     "text": [
      "1 6 2 7\n",
      "2 7 3 8\n",
      "3 8 4 9\n",
      "4 9 5 1\n",
      "5 1 6 2\n"
     ]
    }
   ],
   "source": [
    "M_4 = M_2.transpose()\n",
    "print(M_4)"
   ]
  },
  {
   "cell_type": "code",
   "execution_count": 1096,
   "metadata": {},
   "outputs": [
    {
     "name": "stdout",
     "output_type": "stream",
     "text": [
      "1 6 2 7\n"
     ]
    }
   ],
   "source": [
    "print(M_4.row(0))"
   ]
  },
  {
   "cell_type": "code",
   "execution_count": 1097,
   "metadata": {},
   "outputs": [
    {
     "name": "stdout",
     "output_type": "stream",
     "text": [
      "1\n",
      "2\n",
      "3\n",
      "4\n",
      "5\n"
     ]
    }
   ],
   "source": [
    "print(M_4.column(0))"
   ]
  },
  {
   "cell_type": "code",
   "execution_count": 1098,
   "metadata": {},
   "outputs": [
    {
     "name": "stdout",
     "output_type": "stream",
     "text": [
      "[[1, 2, 3, 4, 5], [6, 7, 8, 9, 1], [2, 3, 4, 5, 6], [7, 8, 9, 1, 2]]\n"
     ]
    }
   ],
   "source": [
    "print(M_2.to_list())"
   ]
  },
  {
   "cell_type": "code",
   "execution_count": 1099,
   "metadata": {},
   "outputs": [
    {
     "name": "stdout",
     "output_type": "stream",
     "text": [
      "1 6\n",
      "2 7\n"
     ]
    }
   ],
   "source": [
    "print(M_4.block(0,2,0,2))"
   ]
  },
  {
   "cell_type": "markdown",
   "metadata": {},
   "source": [
    "3. Write functions that create special matrices (note these are standalone functions, not member functions of your `matrix` class):\n",
    "    * `constant(n,m,c)`: returns a `n` by `m` matrix filled with floats of value `c`.\n",
    "    * `zeros(n,m)` and `ones(n,m)`: return `n` by `m` matrices filled with floats of value `0` and `1`, respectively.\n",
    "    * `eye(n)`: returns the n by n identity matrix."
   ]
  },
  {
   "cell_type": "code",
   "execution_count": 1100,
   "metadata": {},
   "outputs": [],
   "source": [
    "def constant(n, m, c):\n",
    "    return Matrix([[c] * m for _ in range(n)])\n",
    "\n",
    "def zeros(n, m):\n",
    "    return constant(n, m, 0)\n",
    "\n",
    "def ones(n, m):\n",
    "    return constant(n, m, 1)\n",
    "\n",
    "def eye(n):\n",
    "    return Matrix([[1 if i == j else 0 for j in range(n)] for i in range(n)])"
   ]
  },
  {
   "cell_type": "code",
   "execution_count": 1042,
   "metadata": {},
   "outputs": [
    {
     "name": "stdout",
     "output_type": "stream",
     "text": [
      "3 3 3\n",
      "3 3 3\n",
      "3 3 3\n"
     ]
    }
   ],
   "source": [
    "M_5 = constant(3,3,3)\n",
    "print(M_5)"
   ]
  },
  {
   "cell_type": "code",
   "execution_count": 1043,
   "metadata": {},
   "outputs": [
    {
     "name": "stdout",
     "output_type": "stream",
     "text": [
      "0 0 0\n",
      "0 0 0\n",
      "0 0 0\n"
     ]
    }
   ],
   "source": [
    "M_6 = zeros(3,3)\n",
    "print(M_6)"
   ]
  },
  {
   "cell_type": "code",
   "execution_count": 1044,
   "metadata": {},
   "outputs": [
    {
     "name": "stdout",
     "output_type": "stream",
     "text": [
      "1 1 1\n",
      "1 1 1\n",
      "1 1 1\n"
     ]
    }
   ],
   "source": [
    "M_7 = ones(3,3)\n",
    "print(M_7)"
   ]
  },
  {
   "cell_type": "code",
   "execution_count": 1045,
   "metadata": {},
   "outputs": [
    {
     "name": "stdout",
     "output_type": "stream",
     "text": [
      "1 0 0 0 0\n",
      "0 1 0 0 0\n",
      "0 0 1 0 0\n",
      "0 0 0 1 0\n",
      "0 0 0 0 1\n"
     ]
    }
   ],
   "source": [
    "M_8 = eye(5)\n",
    "print(M_8)"
   ]
  },
  {
   "cell_type": "markdown",
   "metadata": {},
   "source": [
    "4. Add the following member functions to your class. Make sure to appropriately test the dimensions of the matrices to make sure the operations are correct.\n",
    "    * `M.scalarmul(c)`: a matrix that is scalar product $cM$, where every element of $M$ is multiplied by $c$.\n",
    "    * `M.add(N)`: adds two matrices $M$ and $N$. Don’t forget to test that the sizes of the matrices are compatible for this and all other operations.\n",
    "    * `M.sub(N)`: subtracts two matrices $M$ and $N$.\n",
    "    * `M.mat_mult(N)`: returns a matrix that is the matrix product of two matrices $M$ and $N$.\n",
    "    * `M.element_mult(N)`: returns a matrix that is the element-wise product of two matrices $M$ and $N$.\n",
    "    * `M.equals(N)`: returns true/false if $M==N$."
   ]
  },
  {
   "cell_type": "code",
   "execution_count": 1046,
   "metadata": {},
   "outputs": [],
   "source": [
    "class Matrix:\n",
    "    def __init__(self, *args):\n",
    "        if len(args) == 2:\n",
    "            n, m = args\n",
    "            self.data = [[0] * m for _ in range(n)]\n",
    "            self.rows = n\n",
    "            self.cols = m\n",
    "        elif len(args) == 1 and isinstance(args[0], list):\n",
    "            matrix = args[0]\n",
    "            self.rows = len(matrix)\n",
    "            self.cols = len(matrix[0])\n",
    "            if not all(len(row) == self.cols for row in matrix):\n",
    "                raise ValueError(\"All rows must have the same number of columns\")\n",
    "            self.data = matrix\n",
    "        else:\n",
    "            raise ValueError(\"Invalid initialization of Matrix\")\n",
    "\n",
    "    def __getitem__(self, key):\n",
    "        if isinstance(key, tuple):\n",
    "            i, j = key\n",
    "            return self.data[i][j]\n",
    "        elif isinstance(key, int):\n",
    "            return self.data[key]\n",
    "        else:\n",
    "            raise TypeError(\"Invalid index type\")\n",
    "\n",
    "    def __setitem__(self, key, value):\n",
    "        if isinstance(key, tuple):\n",
    "            i, j = key\n",
    "            if i >= self.rows or j >= self.cols:\n",
    "                raise IndexError(\"Index out of range\")\n",
    "            self.data[i][j] = value\n",
    "        elif isinstance(key, int):\n",
    "            if key >= self.rows:\n",
    "                raise IndexError(\"Index out of range\")\n",
    "            self.data[key] = value\n",
    "        else:\n",
    "            raise TypeError(\"Invalid index type\")\n",
    "\n",
    "    def __eq__(self, other):\n",
    "        if isinstance(other, Matrix) and self.rows == other.rows and self.cols == other.cols:\n",
    "            return self.data == other.data\n",
    "        elif isinstance(other, list) and len(other) == self.rows and all(len(row) == self.cols for row in other):\n",
    "            return self.data == other\n",
    "        else:\n",
    "            raise ValueError(\"Matrices must be of the same size or a list of lists of correct size\")\n",
    "\n",
    "    def __str__(self):\n",
    "        return '\\n'.join([' '.join(map(str, row)) for row in self.data])\n",
    "\n",
    "    def scalarmul(self, c):\n",
    "        return Matrix([[c * self.data[i][j] for j in range(self.cols)] for i in range(self.rows)])\n",
    "\n",
    "    def add(self, other):\n",
    "        if not isinstance(other, Matrix) or self.rows != other.rows or self.cols != other.cols:\n",
    "            raise ValueError(\"Matrices must be of the same size\")\n",
    "        \n",
    "        return Matrix([[self.data[i][j] + other.data[i][j] for j in range(self.cols)] for i in range(self.rows)])\n",
    "\n",
    "    def sub(self, other):\n",
    "        if not isinstance(other, Matrix) or self.rows != other.rows or self.cols != other.cols:\n",
    "            raise ValueError(\"Matrices must be of the same size\")\n",
    "        \n",
    "        return Matrix([[self.data[i][j] - other.data[i][j] for j in range(self.cols)] for i in range(self.rows)])\n",
    "\n",
    "    def mat_mult(self, other):\n",
    "        if not isinstance(other, Matrix) or self.cols != other.rows:\n",
    "            raise ValueError(\"Matrix dimensions are not compatible for matrix multiplication\")\n",
    "\n",
    "        result = [[sum(self.data[i][k] * other.data[k][j] for k in range(self.cols)) for j in range(other.cols)] for i in range(self.rows)]\n",
    "        return Matrix(result)\n",
    "\n",
    "    def element_mult(self, other):\n",
    "        if not isinstance(other, Matrix) or self.rows != other.rows or self.cols != other.cols:\n",
    "            raise ValueError(\"Matrices must be of the same size\")\n",
    "        \n",
    "        return Matrix([[self.data[i][j] * other.data[i][j] for j in range(self.cols)] for i in range(self.rows)])\n",
    "\n",
    "    def equals(self, other):\n",
    "        if not isinstance(other, Matrix) or self.rows != other.rows or self.cols != other.cols:\n",
    "            return False\n",
    "        return self.data == other.data"
   ]
  },
  {
   "cell_type": "code",
   "execution_count": 1047,
   "metadata": {},
   "outputs": [
    {
     "name": "stdout",
     "output_type": "stream",
     "text": [
      "3 2 0 1 5\n",
      "4 3 2 1 0\n",
      "1 2 3 4 5\n",
      "6 1 2 4 0\n"
     ]
    }
   ],
   "source": [
    "M_9 = Matrix([[3,2,0,1,5],[4,3,2,1,0],[1,2,3,4,5],[6,1,2,4,0]])\n",
    "print(M_9)"
   ]
  },
  {
   "cell_type": "code",
   "execution_count": 1048,
   "metadata": {},
   "outputs": [
    {
     "name": "stdout",
     "output_type": "stream",
     "text": [
      "1 2 3 4 5\n",
      "6 7 8 9 1\n",
      "2 3 4 5 6\n",
      "7 8 9 1 2\n"
     ]
    }
   ],
   "source": [
    "M_2 = Matrix([[1,2,3,4,5],[6,7,8,9,1],[2,3,4,5,6],[7,8,9,1,2]])\n",
    "print(M_2)"
   ]
  },
  {
   "cell_type": "code",
   "execution_count": 1049,
   "metadata": {},
   "outputs": [
    {
     "name": "stdout",
     "output_type": "stream",
     "text": [
      "1 3 4 5\n",
      "2 1 5 3\n",
      "1 3 2 6\n",
      "3 4 1 6\n",
      "5 2 3 1\n"
     ]
    }
   ],
   "source": [
    "M_10 = Matrix([[1,3,4,5],[2,1,5,3],[1,3,2,6],[3,4,1,6],[5,2,3,1]])\n",
    "print(M_10)"
   ]
  },
  {
   "cell_type": "code",
   "execution_count": 1050,
   "metadata": {},
   "outputs": [
    {
     "name": "stdout",
     "output_type": "stream",
     "text": [
      "2 4 6 8 10\n",
      "12 14 16 18 2\n",
      "4 6 8 10 12\n",
      "14 16 18 2 4\n"
     ]
    }
   ],
   "source": [
    "print(M_2.scalarmul(2))"
   ]
  },
  {
   "cell_type": "code",
   "execution_count": 1051,
   "metadata": {},
   "outputs": [
    {
     "name": "stdout",
     "output_type": "stream",
     "text": [
      "4 4 3 5 10\n",
      "10 10 10 10 1\n",
      "3 5 7 9 11\n",
      "13 9 11 5 2\n"
     ]
    }
   ],
   "source": [
    "print(M_2.add(M_9))"
   ]
  },
  {
   "cell_type": "code",
   "execution_count": 1052,
   "metadata": {},
   "outputs": [
    {
     "name": "stdout",
     "output_type": "stream",
     "text": [
      "-2 0 3 3 0\n",
      "2 4 6 8 1\n",
      "1 1 1 1 1\n",
      "1 7 7 -3 2\n"
     ]
    }
   ],
   "source": [
    "print(M_2.sub(M_9))"
   ]
  },
  {
   "cell_type": "code",
   "execution_count": 1053,
   "metadata": {},
   "outputs": [
    {
     "name": "stdout",
     "output_type": "stream",
     "text": [
      "45 40 39 58\n",
      "60 87 87 154\n",
      "57 53 54 79\n",
      "45 64 93 121\n"
     ]
    }
   ],
   "source": [
    "print(M_2.mat_mult(M_10))"
   ]
  },
  {
   "cell_type": "code",
   "execution_count": 1054,
   "metadata": {},
   "outputs": [
    {
     "ename": "ValueError",
     "evalue": "Matrix dimensions are not compatible for matrix multiplication",
     "output_type": "error",
     "traceback": [
      "\u001b[0;31m---------------------------------------------------------------------------\u001b[0m",
      "\u001b[0;31mValueError\u001b[0m                                Traceback (most recent call last)",
      "Cell \u001b[0;32mIn[1054], line 1\u001b[0m\n\u001b[0;32m----> 1\u001b[0m \u001b[38;5;28mprint\u001b[39m(\u001b[43mM_2\u001b[49m\u001b[38;5;241;43m.\u001b[39;49m\u001b[43mmat_mult\u001b[49m\u001b[43m(\u001b[49m\u001b[43mM_9\u001b[49m\u001b[43m)\u001b[49m) \u001b[38;5;66;03m#expecting error\u001b[39;00m\n",
      "Cell \u001b[0;32mIn[1046], line 68\u001b[0m, in \u001b[0;36mMatrix.mat_mult\u001b[0;34m(self, other)\u001b[0m\n\u001b[1;32m     66\u001b[0m \u001b[38;5;28;01mdef\u001b[39;00m \u001b[38;5;21mmat_mult\u001b[39m(\u001b[38;5;28mself\u001b[39m, other):\n\u001b[1;32m     67\u001b[0m     \u001b[38;5;28;01mif\u001b[39;00m \u001b[38;5;129;01mnot\u001b[39;00m \u001b[38;5;28misinstance\u001b[39m(other, Matrix) \u001b[38;5;129;01mor\u001b[39;00m \u001b[38;5;28mself\u001b[39m\u001b[38;5;241m.\u001b[39mcols \u001b[38;5;241m!=\u001b[39m other\u001b[38;5;241m.\u001b[39mrows:\n\u001b[0;32m---> 68\u001b[0m         \u001b[38;5;28;01mraise\u001b[39;00m \u001b[38;5;167;01mValueError\u001b[39;00m(\u001b[38;5;124m\"\u001b[39m\u001b[38;5;124mMatrix dimensions are not compatible for matrix multiplication\u001b[39m\u001b[38;5;124m\"\u001b[39m)\n\u001b[1;32m     70\u001b[0m     result \u001b[38;5;241m=\u001b[39m [[\u001b[38;5;28msum\u001b[39m(\u001b[38;5;28mself\u001b[39m\u001b[38;5;241m.\u001b[39mdata[i][k] \u001b[38;5;241m*\u001b[39m other\u001b[38;5;241m.\u001b[39mdata[k][j] \u001b[38;5;28;01mfor\u001b[39;00m k \u001b[38;5;129;01min\u001b[39;00m \u001b[38;5;28mrange\u001b[39m(\u001b[38;5;28mself\u001b[39m\u001b[38;5;241m.\u001b[39mcols)) \u001b[38;5;28;01mfor\u001b[39;00m j \u001b[38;5;129;01min\u001b[39;00m \u001b[38;5;28mrange\u001b[39m(other\u001b[38;5;241m.\u001b[39mcols)] \u001b[38;5;28;01mfor\u001b[39;00m i \u001b[38;5;129;01min\u001b[39;00m \u001b[38;5;28mrange\u001b[39m(\u001b[38;5;28mself\u001b[39m\u001b[38;5;241m.\u001b[39mrows)]\n\u001b[1;32m     71\u001b[0m     \u001b[38;5;28;01mreturn\u001b[39;00m Matrix(result)\n",
      "\u001b[0;31mValueError\u001b[0m: Matrix dimensions are not compatible for matrix multiplication"
     ]
    }
   ],
   "source": [
    "print(M_2.mat_mult(M_9)) #expecting error"
   ]
  },
  {
   "cell_type": "code",
   "execution_count": 1055,
   "metadata": {},
   "outputs": [
    {
     "name": "stdout",
     "output_type": "stream",
     "text": [
      "3 4 0 4 25\n",
      "24 21 16 9 0\n",
      "2 6 12 20 30\n",
      "42 8 18 4 0\n"
     ]
    }
   ],
   "source": [
    "print(M_2.element_mult(M_9))"
   ]
  },
  {
   "cell_type": "code",
   "execution_count": 1056,
   "metadata": {},
   "outputs": [
    {
     "name": "stdout",
     "output_type": "stream",
     "text": [
      "False\n"
     ]
    }
   ],
   "source": [
    "print(M_2.equals(M_10))"
   ]
  },
  {
   "cell_type": "code",
   "execution_count": 1057,
   "metadata": {},
   "outputs": [
    {
     "name": "stdout",
     "output_type": "stream",
     "text": [
      "True\n"
     ]
    }
   ],
   "source": [
    "print(M_2.equals(M_2))"
   ]
  },
  {
   "cell_type": "markdown",
   "metadata": {},
   "source": [
    "5. Overload python operators to appropriately use your functions in 4 and allow expressions like:\n",
    "    * ~2*M~\n",
    "    * ~M*2~\n",
    "    * ~M+N~\n",
    "    * ~M-N~\n",
    "    * ~M*N~\n",
    "    * ~M==N~\n",
    "    * ~M=N~\n"
   ]
  },
  {
   "cell_type": "code",
   "execution_count": 1058,
   "metadata": {},
   "outputs": [],
   "source": [
    "class Matrix:\n",
    "    def __init__(self, *args):\n",
    "        if len(args) == 2:\n",
    "            n, m = args\n",
    "            self.data = [[0] * m for _ in range(n)]\n",
    "            self.rows = n\n",
    "            self.cols = m\n",
    "        elif len(args) == 1 and isinstance(args[0], list):\n",
    "            matrix = args[0]\n",
    "            self.rows = len(matrix)\n",
    "            self.cols = len(matrix[0])\n",
    "            if not all(len(row) == self.cols for row in matrix):\n",
    "                raise ValueError(\"All rows must have the same number of columns\")\n",
    "            self.data = matrix\n",
    "        else:\n",
    "            raise ValueError(\"Invalid initialization of Matrix\")\n",
    "            \n",
    "    def scalarmul(self, c):\n",
    "        return Matrix([[c * self.data[i][j] for j in range(self.cols)] for i in range(self.rows)])\n",
    "\n",
    "    def add(self, other):\n",
    "        if not isinstance(other, Matrix) or self.rows != other.rows or self.cols != other.cols:\n",
    "            raise ValueError(\"Matrices must be of the same size\")\n",
    "        \n",
    "        return Matrix([[self.data[i][j] + other.data[i][j] for j in range(self.cols)] for i in range(self.rows)])\n",
    "\n",
    "    def sub(self, other):\n",
    "        if not isinstance(other, Matrix) or self.rows != other.rows or self.cols != other.cols:\n",
    "            raise ValueError(\"Matrices must be of the same size\")\n",
    "        \n",
    "        return Matrix([[self.data[i][j] - other.data[i][j] for j in range(self.cols)] for i in range(self.rows)])\n",
    "\n",
    "    def mat_mult(self, other):\n",
    "        if not isinstance(other, Matrix) or self.cols != other.rows:\n",
    "            raise ValueError(\"Matrix dimensions are not compatible for matrix multiplication\")\n",
    "\n",
    "        result = [[sum(self.data[i][k] * other.data[k][j] for k in range(self.cols)) for j in range(other.cols)] for i in range(self.rows)]\n",
    "        return Matrix(result)\n",
    "\n",
    "    def element_mult(self, other):\n",
    "        if not isinstance(other, Matrix) or self.rows != other.rows or self.cols != other.cols:\n",
    "            raise ValueError(\"Matrices must be of the same size\")\n",
    "        \n",
    "        return Matrix([[self.data[i][j] * other.data[i][j] for j in range(self.cols)] for i in range(self.rows)])\n",
    "\n",
    "    def equals(self, other):\n",
    "        if not isinstance(other, Matrix) or self.rows != other.rows or self.cols != other.cols:\n",
    "            return False\n",
    "        return self.data == other.data\n",
    "\n",
    "    def __mul__(self, other):\n",
    "        if isinstance(other, (int, float)):\n",
    "            return self.scalarmul(other)\n",
    "        elif isinstance(other, Matrix):\n",
    "            return self.mat_mult(other)\n",
    "        else:\n",
    "            raise TypeError(\"Unsupported operand type for *: {}\".format(type(other)))\n",
    "\n",
    "    def __rmul__(self, other):\n",
    "        return self.scalarmul(other)\n",
    "\n",
    "    def __add__(self, other):\n",
    "        if isinstance(other, Matrix):\n",
    "            return self.add(other)\n",
    "        else:\n",
    "            raise TypeError(\"Unsupported operand type for +: {}\".format(type(other)))\n",
    "\n",
    "    def __sub__(self, other):\n",
    "        if isinstance(other, Matrix):\n",
    "            return self.sub(other)\n",
    "        else:\n",
    "            raise TypeError(\"Unsupported operand type for -: {}\".format(type(other)))\n",
    "\n",
    "    def __eq__(self, other):\n",
    "        return self.equals(other)\n",
    "\n",
    "    def __str__(self):\n",
    "        return '\\n'.join([' '.join(map(str, row)) for row in self.data])"
   ]
  },
  {
   "cell_type": "code",
   "execution_count": 1059,
   "metadata": {},
   "outputs": [
    {
     "name": "stdout",
     "output_type": "stream",
     "text": [
      "1 2 3 4 5\n",
      "6 7 8 9 1\n",
      "2 3 4 5 6\n",
      "7 8 9 1 2\n"
     ]
    }
   ],
   "source": [
    "M = Matrix([[1,2,3,4,5],[6,7,8,9,1],[2,3,4,5,6],[7,8,9,1,2]])\n",
    "print(M)"
   ]
  },
  {
   "cell_type": "code",
   "execution_count": 1060,
   "metadata": {},
   "outputs": [
    {
     "name": "stdout",
     "output_type": "stream",
     "text": [
      "3 2 0 1 5\n",
      "4 3 2 1 0\n",
      "1 2 3 4 5\n",
      "6 1 2 4 0\n"
     ]
    }
   ],
   "source": [
    "N = Matrix([[3,2,0,1,5],[4,3,2,1,0],[1,2,3,4,5],[6,1,2,4,0]])\n",
    "print(N)"
   ]
  },
  {
   "cell_type": "code",
   "execution_count": 1061,
   "metadata": {},
   "outputs": [],
   "source": [
    "N_1 = Matrix([[1,3,4,5],[2,1,5,3],[1,3,2,6],[3,4,1,6],[5,2,3,1]])"
   ]
  },
  {
   "cell_type": "code",
   "execution_count": 1062,
   "metadata": {},
   "outputs": [
    {
     "name": "stdout",
     "output_type": "stream",
     "text": [
      "2 4 6 8 10\n",
      "12 14 16 18 2\n",
      "4 6 8 10 12\n",
      "14 16 18 2 4\n"
     ]
    }
   ],
   "source": [
    "print(2 * M)"
   ]
  },
  {
   "cell_type": "code",
   "execution_count": 1063,
   "metadata": {},
   "outputs": [
    {
     "name": "stdout",
     "output_type": "stream",
     "text": [
      "4 4 3 5 10\n",
      "10 10 10 10 1\n",
      "3 5 7 9 11\n",
      "13 9 11 5 2\n"
     ]
    }
   ],
   "source": [
    "print(M + N)"
   ]
  },
  {
   "cell_type": "code",
   "execution_count": 1064,
   "metadata": {},
   "outputs": [
    {
     "name": "stdout",
     "output_type": "stream",
     "text": [
      "-2 0 3 3 0\n",
      "2 4 6 8 1\n",
      "1 1 1 1 1\n",
      "1 7 7 -3 2\n"
     ]
    }
   ],
   "source": [
    "print(M - N)"
   ]
  },
  {
   "cell_type": "code",
   "execution_count": 1065,
   "metadata": {},
   "outputs": [
    {
     "name": "stdout",
     "output_type": "stream",
     "text": [
      "45 40 39 58\n",
      "60 87 87 154\n",
      "57 53 54 79\n",
      "45 64 93 121\n"
     ]
    }
   ],
   "source": [
    "print(M * N_1)"
   ]
  },
  {
   "cell_type": "code",
   "execution_count": 1066,
   "metadata": {},
   "outputs": [
    {
     "data": {
      "text/plain": [
       "False"
      ]
     },
     "execution_count": 1066,
     "metadata": {},
     "output_type": "execute_result"
    }
   ],
   "source": [
    "M == N"
   ]
  },
  {
   "cell_type": "code",
   "execution_count": 1067,
   "metadata": {},
   "outputs": [],
   "source": [
    "M = N"
   ]
  },
  {
   "cell_type": "code",
   "execution_count": 1068,
   "metadata": {},
   "outputs": [
    {
     "name": "stdout",
     "output_type": "stream",
     "text": [
      "3 2 0 1 5\n",
      "4 3 2 1 0\n",
      "1 2 3 4 5\n",
      "6 1 2 4 0\n"
     ]
    }
   ],
   "source": [
    "print(N)"
   ]
  },
  {
   "cell_type": "code",
   "execution_count": 1069,
   "metadata": {},
   "outputs": [
    {
     "name": "stdout",
     "output_type": "stream",
     "text": [
      "3 2 0 1 5\n",
      "4 3 2 1 0\n",
      "1 2 3 4 5\n",
      "6 1 2 4 0\n"
     ]
    }
   ],
   "source": [
    "print(M)"
   ]
  },
  {
   "cell_type": "markdown",
   "metadata": {},
   "source": [
    "6. Demonstrate the basic properties of matrices with your matrix class by creating two 2 by 2 example matrices using your Matrix class and illustrating the following:\n",
    "\n",
    "$$\n",
    "(AB)C=A(BC)\n",
    "$$\n",
    "$$\n",
    "A(B+C)=AB+AC\n",
    "$$\n",
    "$$\n",
    "AB\\neq BA\n",
    "$$\n",
    "$$\n",
    "AI=A\n",
    "$$"
   ]
  },
  {
   "cell_type": "code",
   "execution_count": 1070,
   "metadata": {},
   "outputs": [],
   "source": [
    "A = (Matrix([[3,4],[4,3]]))\n",
    "B = (Matrix([[1,2],[3,4]]))\n",
    "C = (Matrix([[1,2],[2,1]]))\n",
    "I = eye(2)"
   ]
  },
  {
   "cell_type": "code",
   "execution_count": 1071,
   "metadata": {},
   "outputs": [],
   "source": [
    "T = (A*B)*C\n",
    "T_1 = A*(B*C)"
   ]
  },
  {
   "cell_type": "code",
   "execution_count": 1072,
   "metadata": {},
   "outputs": [
    {
     "data": {
      "text/plain": [
       "True"
      ]
     },
     "execution_count": 1072,
     "metadata": {},
     "output_type": "execute_result"
    }
   ],
   "source": [
    "T.equals(T_1) # expecting true to prove (AB)C = A(BC)"
   ]
  },
  {
   "cell_type": "code",
   "execution_count": 1073,
   "metadata": {},
   "outputs": [],
   "source": [
    "T_2 = A*(B+C)\n",
    "T_3 = (A*B) + (A*C)"
   ]
  },
  {
   "cell_type": "code",
   "execution_count": 1074,
   "metadata": {},
   "outputs": [
    {
     "data": {
      "text/plain": [
       "True"
      ]
     },
     "execution_count": 1074,
     "metadata": {},
     "output_type": "execute_result"
    }
   ],
   "source": [
    "T_2.equals(T_3)  #expecting true to prove A(B+C) = AB + AC"
   ]
  },
  {
   "cell_type": "code",
   "execution_count": 1075,
   "metadata": {},
   "outputs": [],
   "source": [
    "T_4 = A*B\n",
    "T_5 = B*A"
   ]
  },
  {
   "cell_type": "code",
   "execution_count": 1076,
   "metadata": {},
   "outputs": [
    {
     "data": {
      "text/plain": [
       "False"
      ]
     },
     "execution_count": 1076,
     "metadata": {},
     "output_type": "execute_result"
    }
   ],
   "source": [
    "T_4.equals(T_5) #expecting false to prove AB is not equal to BA"
   ]
  },
  {
   "cell_type": "code",
   "execution_count": 1077,
   "metadata": {},
   "outputs": [],
   "source": [
    "T_6 = A*I\n",
    "T_7 = A"
   ]
  },
  {
   "cell_type": "code",
   "execution_count": 1078,
   "metadata": {},
   "outputs": [
    {
     "data": {
      "text/plain": [
       "True"
      ]
     },
     "execution_count": 1078,
     "metadata": {},
     "output_type": "execute_result"
    }
   ],
   "source": [
    "T_6.equals(T_7) #expecting true to prove AI = A"
   ]
  },
  {
   "cell_type": "code",
   "execution_count": null,
   "metadata": {},
   "outputs": [],
   "source": []
  }
 ],
 "metadata": {
  "kernelspec": {
   "display_name": "Python 3 (ipykernel)",
   "language": "python",
   "name": "python3"
  },
  "language_info": {
   "codemirror_mode": {
    "name": "ipython",
    "version": 3
   },
   "file_extension": ".py",
   "mimetype": "text/x-python",
   "name": "python",
   "nbconvert_exporter": "python",
   "pygments_lexer": "ipython3",
   "version": "3.10.12"
  }
 },
 "nbformat": 4,
 "nbformat_minor": 4
}
