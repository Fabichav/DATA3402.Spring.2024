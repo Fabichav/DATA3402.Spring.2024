{
 "cells": [
  {
   "cell_type": "code",
   "execution_count": 1,
   "id": "d645c633-25e4-4974-b66b-da8586ad8bc8",
   "metadata": {},
   "outputs": [],
   "source": [
    "def create_new_args_0(args):\n",
    "    max_len = max(map(len,\n",
    "                      filter(lambda x: isinstance(x,list),\n",
    "                        args)))\n",
    "\n",
    "    # Rewrite this section:\n",
    "    new_args=list()\n",
    "\n",
    "    for a in args:\n",
    "        if not isinstance(a,list):\n",
    "            a0=[a]*max_len\n",
    "        elif len(a)!=max_len:\n",
    "            print(\"Error: all list arguments must have same length.\")\n",
    "            return\n",
    "        else:\n",
    "            a0=a\n",
    "        new_args.append(a0)\n",
    "\n",
    "    return new_args"
   ]
  },
  {
   "cell_type": "code",
   "execution_count": 2,
   "id": "50be2adb-edd2-45f4-a9f7-a55676091416",
   "metadata": {},
   "outputs": [
    {
     "data": {
      "text/plain": [
       "[[1, 2], [3, 4], [5, 5]]"
      ]
     },
     "execution_count": 2,
     "metadata": {},
     "output_type": "execute_result"
    }
   ],
   "source": [
    "create_new_args_0([[1,2],[3,4],5])"
   ]
  },
  {
   "cell_type": "code",
   "execution_count": 3,
   "id": "e82c77f0-a5ab-4363-9ef5-0cdfbf46fd2b",
   "metadata": {},
   "outputs": [
    {
     "name": "stdout",
     "output_type": "stream",
     "text": [
      "Error: all list arguments must have same length.\n"
     ]
    }
   ],
   "source": [
    "create_new_args_0([[1,2],[3,4,5],5])"
   ]
  },
  {
   "cell_type": "markdown",
   "id": "8aa8778a-372f-4059-9f67-d425335b8bbe",
   "metadata": {},
   "source": [
    "##### **Want to make a simpler code that will take find the greatest list and make the other arguments be the same size of this list**"
   ]
  },
  {
   "cell_type": "code",
   "execution_count": 72,
   "id": "0c017294-08ab-4720-a09c-54b94f829d0b",
   "metadata": {},
   "outputs": [],
   "source": [
    "def create_new_args(args):\n",
    "    max_len = max(len(n) for n in args if isinstance(n, list)) # finding the instance with the greatest length\n",
    "    max_length_lists=[]\n",
    "\n",
    "    for n in args:\n",
    "        if isinstance(n,list) and len(n) == max_len:\n",
    "            max_length_lists.append(n)\n",
    "    return max_length_lists "
   ]
  },
  {
   "cell_type": "code",
   "execution_count": 73,
   "id": "24467e9e-9f82-4fba-86ed-0273c5082b3e",
   "metadata": {
    "scrolled": true
   },
   "outputs": [
    {
     "data": {
      "text/plain": [
       "[[1, 2], [3, 4]]"
      ]
     },
     "execution_count": 73,
     "metadata": {},
     "output_type": "execute_result"
    }
   ],
   "source": [
    "create_new_args([[1,2],[3,4],5])"
   ]
  },
  {
   "cell_type": "code",
   "execution_count": null,
   "id": "17cdea62-a1fa-40b2-a4ee-c57f93a0c1b8",
   "metadata": {},
   "outputs": [],
   "source": []
  },
  {
   "cell_type": "code",
   "execution_count": null,
   "id": "79dce536-9412-4fac-9be1-82ed074c784c",
   "metadata": {},
   "outputs": [],
   "source": []
  }
 ],
 "metadata": {
  "kernelspec": {
   "display_name": "Python 3 (ipykernel)",
   "language": "python",
   "name": "python3"
  },
  "language_info": {
   "codemirror_mode": {
    "name": "ipython",
    "version": 3
   },
   "file_extension": ".py",
   "mimetype": "text/x-python",
   "name": "python",
   "nbconvert_exporter": "python",
   "pygments_lexer": "ipython3",
   "version": "3.10.12"
  }
 },
 "nbformat": 4,
 "nbformat_minor": 5
}
