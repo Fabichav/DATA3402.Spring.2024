{
 "cells": [
  {
   "cell_type": "markdown",
   "metadata": {},
   "source": [
    "# Lab 6"
   ]
  },
  {
   "cell_type": "markdown",
   "metadata": {},
   "source": [
    "You are tasked with evaluating card counting strategies for black jack. In order to do so, you will use object oriented programming to create a playable casino style black jack game where a computer dealer plays against $n$ computer players and possibily one human player. If you don't know the rules of blackjack or card counting, please google it. \n",
    "\n",
    "A few requirements:\n",
    "* The game should utilize multiple 52-card decks. Typically the game is played with 6 decks.\n",
    "* Players should have chips.\n",
    "* Dealer's actions are predefined by rules of the game (typically hit on 16). \n",
    "* The players should be aware of all shown cards so that they can count cards.\n",
    "* Each player could have a different strategy.\n",
    "* The system should allow you to play large numbers of games, study the outcomes, and compare average winnings per hand rate for different strategies."
   ]
  },
  {
   "cell_type": "markdown",
   "metadata": {},
   "source": [
    "1. Begin by creating a classes to represent cards and decks. The deck should support more than one 52-card set. The deck should allow you to shuffle and draw cards. Include a \"plastic\" card, placed randomly in the deck. Later, when the plastic card is dealt, shuffle the cards before the next deal."
   ]
  },
  {
   "cell_type": "code",
   "execution_count": 74,
   "metadata": {},
   "outputs": [],
   "source": [
    "import random"
   ]
  },
  {
   "cell_type": "code",
   "execution_count": 114,
   "metadata": {},
   "outputs": [],
   "source": [
    "class Card:\n",
    "    def __init__(self, suit, value):\n",
    "        self.suit = suit\n",
    "        self.value = value\n",
    "\n",
    "    def __repr__(self):\n",
    "        return f\"{self.value} of {self.suit}\" #printing out cards as strings \n",
    "\n",
    "class Deck:\n",
    "    def __init__(self, num_sets):\n",
    "        self.cards = []\n",
    "        self.num_sets = max(num_sets, 1)\n",
    "        self.plastic_position = random.randint(0, 51) \n",
    "        self.generate_deck()\n",
    "\n",
    "    def generate_deck(self): #creating the deck of cards\n",
    "        suits = ['Hearts', 'Diamonds', 'Clubs', 'Spades']\n",
    "        values = ['2', '3', '4', '5', '6', '7', '8', '9', '10', 'Jack', 'Queen', 'King', 'Ace']\n",
    "        for _ in range(self.num_sets):\n",
    "            for suit in suits:\n",
    "                for value in values:\n",
    "                    self.cards.append(Card(suit, value))\n",
    "\n",
    "    def shuffle(self):\n",
    "        random.shuffle(self.cards)  #allowing shuffling \n",
    "        self.plastic_position = random.randint(0, 51) \n",
    "\n",
    "    def draw(self): #allows us to draw cards\n",
    "        if len(self.cards) == 0:\n",
    "            print(\"Deck is empty.\")\n",
    "            return None\n",
    "        return self.cards.pop(0) #drawing a card from the top of the deck\n",
    "\n",
    "    def check_reshuffle(self):\n",
    "        return len(self.cards) <= self.plastic_position\n",
    "\n",
    "    def shuffle_with_plastic(self): #allows us to shuffle the cards\n",
    "        self.shuffle()\n",
    "        self.plastic_position = random.randint(0, 51)\n",
    "\n",
    "    def reset(self):  # restarting the game essentially\n",
    "        self.cards = []\n",
    "        self.generate_deck()\n",
    "        self.shuffle_with_plastic()\n"
   ]
  },
  {
   "cell_type": "code",
   "execution_count": 103,
   "metadata": {},
   "outputs": [
    {
     "name": "stdout",
     "output_type": "stream",
     "text": [
      "6 of Diamonds\n"
     ]
    }
   ],
   "source": [
    "deck = Deck(7)\n",
    "deck.shuffle()\n",
    "print(deck.draw())"
   ]
  },
  {
   "cell_type": "markdown",
   "metadata": {},
   "source": [
    "2. Now design your game on a UML diagram. You may want to create classes to represent, players, a hand, and/or the game. As you work through the lab, update your UML diagram. At the end of the lab, submit your diagram (as pdf file) along with your notebook. "
   ]
  },
  {
   "cell_type": "code",
   "execution_count": 104,
   "metadata": {},
   "outputs": [],
   "source": [
    "#PDF"
   ]
  },
  {
   "cell_type": "markdown",
   "metadata": {},
   "source": [
    "3. Begin with implementing the skeleton (ie define data members and methods/functions, but do not code the logic) of the classes in your UML diagram."
   ]
  },
  {
   "cell_type": "code",
   "execution_count": 105,
   "metadata": {},
   "outputs": [],
   "source": [
    "class Card:\n",
    "    def __init__(self, suit, value):\n",
    "        self.suit = suit\n",
    "        self.value = value\n",
    "\n",
    "class Hand:\n",
    "    def __init__(self):\n",
    "        self.cards = []\n",
    "\n",
    "    def add_card(self, card):\n",
    "        pass\n",
    "\n",
    "    def get_score(self):\n",
    "        pass\n",
    "\n",
    "    def is_blackjack(self):\n",
    "        pass\n",
    "\n",
    "    def is_bust(self):\n",
    "        pass\n",
    "\n",
    "class Player:\n",
    "    def __init__(self, name):\n",
    "        self.name = name\n",
    "        self.hand = Hand()\n",
    "        self.balance = 0\n",
    "\n",
    "    def place_bet(self, amount):\n",
    "        pass\n",
    "\n",
    "    def hit(self, deck):\n",
    "        pass\n",
    "\n",
    "    def stand(self):\n",
    "        pass\n",
    "\n",
    "class Dealer(Player):\n",
    "    def __init__(self):\n",
    "        super().__init__(\"Dealer\")\n",
    "\n",
    "    def play(self, deck):\n",
    "        pass\n",
    "\n",
    "class Deck:\n",
    "    def __init__(self, num_sets=1):\n",
    "        self.cards = []\n",
    "        self.num_sets = max(num_sets, 1)\n",
    "        self.plastic_position = -1 \n",
    "\n",
    "    def generate_deck(self):\n",
    "        pass\n",
    "\n",
    "    def shuffle(self):\n",
    "        pass\n",
    "\n",
    "    def draw(self):\n",
    "        pass\n",
    "\n",
    "    def check_reshuffle(self):\n",
    "        pass\n",
    "\n",
    "class BlackjackGame:\n",
    "    def __init__(self):\n",
    "        self.players = []\n",
    "        self.dealer = Dealer()\n",
    "        self.deck = Deck()\n",
    "\n",
    "    def add_player(self, player):\n",
    "        pass\n",
    "\n",
    "    def remove_player(self, player):\n",
    "        pass\n",
    "\n",
    "    def deal_initial_cards(self):\n",
    "        pass\n",
    "\n",
    "    def play_round(self):\n",
    "        pass\n",
    "\n",
    "    def determine_winner(self):\n",
    "        pass\n",
    "\n",
    "    def reset_game(self):\n",
    "        pass"
   ]
  },
  {
   "cell_type": "markdown",
   "metadata": {},
   "source": [
    "4. Complete the implementation by coding the logic of all functions. For now, just implement the dealer player and human player."
   ]
  },
  {
   "cell_type": "code",
   "execution_count": 106,
   "metadata": {},
   "outputs": [],
   "source": [
    "class Card:\n",
    "    def __init__(self, suit, value):\n",
    "        self.suit = suit\n",
    "        self.value = value\n",
    "\n",
    "class Hand:\n",
    "    def __init__(self):\n",
    "        self.cards = []\n",
    "    \n",
    "    def __str__(self):\n",
    "        return ', '.join([f\"{card.value} of {card.suit}\" for card in self.cards]) #what is in their hand\n",
    "\n",
    "    def add_card(self, card): #adding a card \n",
    "        self.cards.append(card)\n",
    "\n",
    "    def get_score(self): #Determining the value of the players hand \n",
    "        score = 0\n",
    "        num_aces = 0\n",
    "        for card in self.cards:\n",
    "            if card.value.isdigit():\n",
    "                score += int(card.value) #the cards\n",
    "            elif card.value in ['Jack', 'Queen', 'King']: #these cards are worth 10\n",
    "                score += 10\n",
    "            else:\n",
    "                num_aces += 1\n",
    "                score += 11\n",
    "        while score > 21 and num_aces > 0:\n",
    "            score -= 10\n",
    "            num_aces -= 1\n",
    "        return score \n",
    "\n",
    "    def is_blackjack(self):\n",
    "        return len(self.cards) == 2 and self.get_score() == 21 # Ace and 10 value card\n",
    "\n",
    "    def is_bust(self):\n",
    "        return self.get_score() > 21 #if the value exceeds 21 the players busts \n",
    "\n",
    "class Player:\n",
    "    def __init__(self, name):\n",
    "        self.name = name\n",
    "        self.hand = Hand()\n",
    "        self.balance = 1000  # Starting balance for players\n",
    "        self.bet = 0  # Initialize the bet attribute to zero\n",
    "\n",
    "    def place_bet(self, amount):\n",
    "        if amount > self.balance:\n",
    "            print(\"Insufficient balance.\")\n",
    "            return False\n",
    "        self.balance -= amount #player balance after betting\n",
    "        self.bet = amount  # Update the bet attribute\n",
    "        return True\n",
    "\n",
    "    def hit(self, deck): #adding a card when the player hits\n",
    "        card = deck.draw()\n",
    "        if card:\n",
    "            self.hand.add_card(card)\n",
    "            print(f\"{self.name} draws: {card.value} of {card.suit}\")\n",
    "\n",
    "    def stand(self): #printing out a stand statement\n",
    "        print(f\"{self.name} stands.\")\n",
    "\n",
    "class Dealer(Player):\n",
    "    def __init__(self):\n",
    "        super().__init__(\"Dealer\")\n",
    "\n",
    "    def play(self, deck):\n",
    "        while self.hand.get_score() < 17: #dealer hits until their score is 17 or higher\n",
    "            self.hit(deck)\n",
    "            if self.hand.is_bust(): #checking to see if the dealer busts\n",
    "                break\n",
    "        print(\"Dealer's turn ends.\")\n",
    "\n",
    "class Deck:\n",
    "    def __init__(self, num_sets=1):\n",
    "        self.cards = []\n",
    "        self.num_sets = max(num_sets, 1)\n",
    "        self.plastic_position = None\n",
    "        self.generate_deck()\n",
    "\n",
    "    def generate_deck(self): #creating the deck of cards\n",
    "        suits = ['Hearts', 'Diamonds', 'Clubs', 'Spades']\n",
    "        values = ['2', '3', '4', '5', '6', '7', '8', '9', '10', 'Jack', 'Queen', 'King', 'Ace']\n",
    "        for _ in range(self.num_sets):\n",
    "            for suit in suits:\n",
    "                for value in values:\n",
    "                    self.cards.append(Card(suit, value))\n",
    "\n",
    "    def shuffle(self):\n",
    "        random.shuffle(self.cards) #allowing shuffling \n",
    "        self.plastic_position = random.randint(0, len(self.cards) - 1)\n",
    "\n",
    "    def draw(self):\n",
    "        if len(self.cards) == 0:\n",
    "            print(\"Deck is empty.\")\n",
    "            return None\n",
    "        return self.cards.pop(0) #drawing a card from the top of the deck\n",
    "\n",
    "    def check_reshuffle(self):\n",
    "        return len(self.cards) <= self.plastic_position"
   ]
  },
  {
   "cell_type": "markdown",
   "metadata": {},
   "source": [
    "5.  Test. Demonstrate game play. For example, create a game of several dealer players and show that the game is functional through several rounds."
   ]
  },
  {
   "cell_type": "code",
   "execution_count": 108,
   "metadata": {},
   "outputs": [],
   "source": [
    "class BlackjackGame:\n",
    "    def __init__(self, num_players=1):\n",
    "        self.players = []\n",
    "        self.dealer = Dealer()\n",
    "        self.deck = Deck(num_sets=4)  # Using 4 sets of cards\n",
    "        self.num_players = num_players\n",
    "        self.initialize_players()\n",
    "\n",
    "    def initialize_players(self):\n",
    "        for i in range(self.num_players): #displaying players\n",
    "            player_name = f\"Player {i+1}\"\n",
    "            self.players.append(Player(player_name))\n",
    "\n",
    "    def add_player(self, player): \n",
    "        self.players.append(player)\n",
    "\n",
    "    def remove_player(self, player):\n",
    "        if player in self.players:\n",
    "            self.players.remove(player)\n",
    "\n",
    "    def deal_initial_cards(self):\n",
    "        for _ in range(2):  # 2 cards for each player\n",
    "            for player in self.players:\n",
    "                card = self.deck.draw()\n",
    "                if card is not None:\n",
    "                    player.hand.add_card(card)\n",
    "                else:\n",
    "                    print(\"Deck is empty. Unable to deal initial cards.\")\n",
    "            card = self.deck.draw()\n",
    "            if card is not None:\n",
    "                self.dealer.hand.add_card(card)\n",
    "            else:\n",
    "                print(\"Deck is empty. Unable to deal initial cards.\")\n",
    "\n",
    "    def play_round(self):\n",
    "        print(\"\\n--- New Round ---\")\n",
    "        self.deck.shuffle()\n",
    "        self.deal_initial_cards() #starting the round \n",
    "        \n",
    "        # players input how much they would like to bet\n",
    "        for player in self.players:\n",
    "            while True:\n",
    "                bet_input = input(f\"{player.name}, place your bet: \")\n",
    "                if bet_input.isdigit():\n",
    "                    bet_amount = int(bet_input)\n",
    "                    if bet_amount <= player.balance: #checking if the player is able to bet that amount\n",
    "                        player.place_bet(bet_amount)\n",
    "                        break\n",
    "                    else:\n",
    "                        print(\"Insufficient balance. Bet not placed.\")\n",
    "                else:\n",
    "                    print(\"Invalid input. Please enter a valid integer.\")\n",
    "    \n",
    "        # Players will decide if they want to hit or stand \n",
    "        for player in self.players:\n",
    "            print(f\"\\n{player.name}'s turn:\")\n",
    "            while not player.hand.is_blackjack() and not player.hand.is_bust():\n",
    "                action = input(\"Do you want to (h)it or (s)tand? \").lower()\n",
    "                if action == 'h':\n",
    "                    player.hit(self.deck)\n",
    "                    print(\"Your hand:\", [f\"{card.value} of {card.suit}\" for card in player.hand.cards])\n",
    "                elif action == 's':\n",
    "                    player.stand()\n",
    "                    break\n",
    "    \n",
    "        # Dealer's turn\n",
    "        print(\"\\nDealer's turn:\")\n",
    "        while not self.dealer.hand.is_blackjack() and not self.dealer.hand.is_bust():\n",
    "            if self.dealer.hand.get_score() < 17:\n",
    "                self.dealer.hit(self.deck)\n",
    "                print(\"Dealer's hand:\", [f\"{card.value} of {card.suit}\" for card in self.dealer.hand.cards])\n",
    "            else:\n",
    "                self.dealer.stand()\n",
    "                break\n",
    "\n",
    "        print(\"\\nPlayer Hands:\")\n",
    "        for player in self.players:\n",
    "            print(f\"{player.name}: {player.hand}\")\n",
    "        print(\"Dealer Hand:\", self.dealer.hand)\n",
    "    \n",
    "        # Determine winners\n",
    "        round_results = []\n",
    "        for player in self.players:\n",
    "            if player.hand.is_bust():\n",
    "                result = -1\n",
    "            elif self.dealer.hand.is_bust() or player.hand.get_score() > self.dealer.hand.get_score():\n",
    "                result = 1\n",
    "            elif player.hand.get_score() == self.dealer.hand.get_score():\n",
    "                result = 0\n",
    "            else:\n",
    "                result = -1\n",
    "            player.balance += result * player.bet\n",
    "            round_results.append((result, player))\n",
    "        \n",
    "        # Print round summary\n",
    "        print(\"\\nRound Results:\")\n",
    "        for result, player in round_results:\n",
    "            if result == 1:\n",
    "                print(f\"{player.name} wins!\")\n",
    "            elif result == 0:\n",
    "                print(f\"{player.name} pushes!\")\n",
    "            else:\n",
    "                print(f\"{player.name} loses!\")\n",
    "    \n",
    "        return round_results\n",
    "\n",
    "    def reset_game(self):\n",
    "        for player in self.players:\n",
    "            player.hand.cards = []\n",
    "        self.dealer.hand.cards = []\n",
    "        self.deck = Deck(num_sets=4)"
   ]
  },
  {
   "cell_type": "code",
   "execution_count": 109,
   "metadata": {},
   "outputs": [
    {
     "name": "stdout",
     "output_type": "stream",
     "text": [
      "\n",
      "Starting a new round\n",
      "\n",
      "--- New Round ---\n"
     ]
    },
    {
     "name": "stdin",
     "output_type": "stream",
     "text": [
      "Player 1, place your bet:  5\n"
     ]
    },
    {
     "name": "stdout",
     "output_type": "stream",
     "text": [
      "\n",
      "Player 1's turn:\n"
     ]
    },
    {
     "name": "stdin",
     "output_type": "stream",
     "text": [
      "Do you want to (h)it or (s)tand?  5\n",
      "Do you want to (h)it or (s)tand?  h\n"
     ]
    },
    {
     "name": "stdout",
     "output_type": "stream",
     "text": [
      "Player 1 draws: 9 of Clubs\n",
      "Your hand: ['6 of Clubs', '8 of Spades', '9 of Clubs']\n",
      "\n",
      "Dealer's turn:\n",
      "Dealer draws: 2 of Diamonds\n",
      "Dealer's hand: ['8 of Hearts', '7 of Clubs', '2 of Diamonds']\n",
      "Dealer stands.\n",
      "\n",
      "Player Hands:\n",
      "Player 1: 6 of Clubs, 8 of Spades, 9 of Clubs\n",
      "Dealer Hand: 8 of Hearts, 7 of Clubs, 2 of Diamonds\n",
      "\n",
      "Round Results:\n",
      "Player 1 loses!\n",
      "\n",
      "Starting a new round\n",
      "\n",
      "--- New Round ---\n"
     ]
    },
    {
     "name": "stdin",
     "output_type": "stream",
     "text": [
      "Player 1, place your bet:  4\n"
     ]
    },
    {
     "name": "stdout",
     "output_type": "stream",
     "text": [
      "\n",
      "Player 1's turn:\n",
      "\n",
      "Dealer's turn:\n",
      "Dealer stands.\n",
      "\n",
      "Player Hands:\n",
      "Player 1: 6 of Clubs, 8 of Spades, 9 of Clubs, 6 of Clubs, 8 of Hearts\n",
      "Dealer Hand: 8 of Hearts, 7 of Clubs, 2 of Diamonds, Ace of Diamonds, 3 of Hearts\n",
      "\n",
      "Round Results:\n",
      "Player 1 loses!\n",
      "\n",
      "Starting a new round\n",
      "\n",
      "--- New Round ---\n"
     ]
    },
    {
     "name": "stdin",
     "output_type": "stream",
     "text": [
      "Player 1, place your bet:  5\n"
     ]
    },
    {
     "name": "stdout",
     "output_type": "stream",
     "text": [
      "\n",
      "Player 1's turn:\n",
      "\n",
      "Dealer's turn:\n",
      "\n",
      "Player Hands:\n",
      "Player 1: 6 of Clubs, 8 of Spades, 9 of Clubs, 6 of Clubs, 8 of Hearts, 7 of Spades, 8 of Diamonds\n",
      "Dealer Hand: 8 of Hearts, 7 of Clubs, 2 of Diamonds, Ace of Diamonds, 3 of Hearts, Ace of Clubs, Jack of Spades\n",
      "\n",
      "Round Results:\n",
      "Player 1 loses!\n"
     ]
    }
   ],
   "source": [
    "game = BlackjackGame()\n",
    "\n",
    "for _ in range(3):\n",
    "    print(\"\\nStarting a new round\")\n",
    "    game.play_round()\n",
    "\n",
    "game.reset_game()"
   ]
  },
  {
   "cell_type": "markdown",
   "metadata": {},
   "source": [
    "6. Implement a new player with the following strategy:\n",
    "\n",
    "    * Assign each card a value: \n",
    "        * Cards 2 to 6 are +1 \n",
    "        * Cards 7 to 9 are 0 \n",
    "        * Cards 10 through Ace are -1\n",
    "    * Compute the sum of the values for all cards seen so far.\n",
    "    * Hit if sum is very negative, stay if sum is very positive. Select a threshold for hit/stay, e.g. 0 or -2.  "
   ]
  },
  {
   "cell_type": "code",
   "execution_count": 110,
   "metadata": {},
   "outputs": [],
   "source": [
    "class CountingPlayer(Player):\n",
    "    def __init__(self, name, threshold=-2):\n",
    "        super().__init__(name)\n",
    "        self.threshold = threshold\n",
    "        self.card_count = 0\n",
    "\n",
    "    def update_count(self, card):\n",
    "        if card.value in ['2', '3', '4', '5', '6']:\n",
    "            self.card_count += 1\n",
    "        elif card.value in ['10', 'Jack', 'Queen', 'King', 'Ace']:\n",
    "            self.card_count -= 1\n",
    "\n",
    "    def play(self, deck):\n",
    "        while True:\n",
    "            print(f\"{self.name}'s Hand:\", self.hand) \n",
    "            action = self.decide_action()\n",
    "            if action == 'h':\n",
    "                new_card = deck.draw()\n",
    "                print(f\"{self.name} draws:\", new_card)\n",
    "                self.hand.add_card(new_card)\n",
    "                self.update_count(new_card)\n",
    "                print(f\"Card count: {self.card_count}\")\n",
    "                print(f\"{self.name} hits.\")\n",
    "                if self.hand.is_bust():\n",
    "                    print(f\"{self.name} busts.\")\n",
    "                    break\n",
    "            elif action == 's':\n",
    "                print(f\"{self.name} stands.\")\n",
    "                break\n",
    "\n",
    "    def decide_action(self):\n",
    "        if self.card_count <= self.threshold:\n",
    "            return 'h' \n",
    "        else:\n",
    "            return 's'\n"
   ]
  },
  {
   "cell_type": "code",
   "execution_count": 111,
   "metadata": {},
   "outputs": [
    {
     "name": "stdout",
     "output_type": "stream",
     "text": [
      "\n",
      "===== Round Start =====\n",
      "\n",
      "--- New Round ---\n"
     ]
    },
    {
     "name": "stdin",
     "output_type": "stream",
     "text": [
      "Player 1, place your bet:  3\n",
      "Counting Player, place your bet:  3\n"
     ]
    },
    {
     "name": "stdout",
     "output_type": "stream",
     "text": [
      "\n",
      "Player 1's turn:\n"
     ]
    },
    {
     "name": "stdin",
     "output_type": "stream",
     "text": [
      "Do you want to (h)it or (s)tand?  h\n"
     ]
    },
    {
     "name": "stdout",
     "output_type": "stream",
     "text": [
      "Player 1 draws: Ace of Spades\n",
      "Your hand: ['6 of Diamonds', '2 of Clubs', 'Ace of Spades']\n"
     ]
    },
    {
     "name": "stdin",
     "output_type": "stream",
     "text": [
      "Do you want to (h)it or (s)tand?  s\n"
     ]
    },
    {
     "name": "stdout",
     "output_type": "stream",
     "text": [
      "Player 1 stands.\n",
      "\n",
      "Counting Player's turn:\n"
     ]
    },
    {
     "name": "stdin",
     "output_type": "stream",
     "text": [
      "Do you want to (h)it or (s)tand?  h\n"
     ]
    },
    {
     "name": "stdout",
     "output_type": "stream",
     "text": [
      "Counting Player draws: 2 of Spades\n",
      "Your hand: ['King of Clubs', '4 of Clubs', '2 of Spades']\n"
     ]
    },
    {
     "name": "stdin",
     "output_type": "stream",
     "text": [
      "Do you want to (h)it or (s)tand?  s\n"
     ]
    },
    {
     "name": "stdout",
     "output_type": "stream",
     "text": [
      "Counting Player stands.\n",
      "\n",
      "Dealer's turn:\n",
      "Dealer stands.\n",
      "\n",
      "Player Hands:\n",
      "Player 1: 6 of Diamonds, 2 of Clubs, Ace of Spades\n",
      "Counting Player: King of Clubs, 4 of Clubs, 2 of Spades\n",
      "Dealer Hand: 10 of Spades, King of Spades\n",
      "\n",
      "Round Results:\n",
      "Player 1 loses!\n",
      "Counting Player loses!\n",
      "===== Round End =====\n",
      "\n",
      "===== Round Start =====\n",
      "\n",
      "--- New Round ---\n"
     ]
    },
    {
     "name": "stdin",
     "output_type": "stream",
     "text": [
      "Player 1, place your bet:  4\n",
      "Counting Player, place your bet:  4\n"
     ]
    },
    {
     "name": "stdout",
     "output_type": "stream",
     "text": [
      "\n",
      "Player 1's turn:\n"
     ]
    },
    {
     "name": "stdin",
     "output_type": "stream",
     "text": [
      "Do you want to (h)it or (s)tand?  h\n"
     ]
    },
    {
     "name": "stdout",
     "output_type": "stream",
     "text": [
      "Player 1 draws: Queen of Spades\n",
      "Your hand: ['6 of Diamonds', '2 of Clubs', 'Ace of Spades', 'Ace of Clubs', 'Jack of Spades', 'Queen of Spades']\n",
      "\n",
      "Counting Player's turn:\n",
      "\n",
      "Dealer's turn:\n",
      "\n",
      "Player Hands:\n",
      "Player 1: 6 of Diamonds, 2 of Clubs, Ace of Spades, Ace of Clubs, Jack of Spades, Queen of Spades\n",
      "Counting Player: King of Clubs, 4 of Clubs, 2 of Spades, 9 of Clubs, 8 of Diamonds\n",
      "Dealer Hand: 10 of Spades, King of Spades, Ace of Diamonds, 10 of Diamonds\n",
      "\n",
      "Round Results:\n",
      "Player 1 loses!\n",
      "Counting Player loses!\n",
      "===== Round End =====\n",
      "\n",
      "===== Round Start =====\n",
      "\n",
      "--- New Round ---\n"
     ]
    },
    {
     "name": "stdin",
     "output_type": "stream",
     "text": [
      "Player 1, place your bet:  4\n",
      "Counting Player, place your bet:  4\n"
     ]
    },
    {
     "name": "stdout",
     "output_type": "stream",
     "text": [
      "\n",
      "Player 1's turn:\n",
      "\n",
      "Counting Player's turn:\n",
      "\n",
      "Dealer's turn:\n",
      "\n",
      "Player Hands:\n",
      "Player 1: 6 of Diamonds, 2 of Clubs, Ace of Spades, Ace of Clubs, Jack of Spades, Queen of Spades, King of Clubs, King of Hearts\n",
      "Counting Player: King of Clubs, 4 of Clubs, 2 of Spades, 9 of Clubs, 8 of Diamonds, 5 of Spades, 4 of Diamonds\n",
      "Dealer Hand: 10 of Spades, King of Spades, Ace of Diamonds, 10 of Diamonds, 8 of Hearts, King of Diamonds\n",
      "\n",
      "Round Results:\n",
      "Player 1 loses!\n",
      "Counting Player loses!\n",
      "===== Round End =====\n",
      "\n",
      "===== Round Start =====\n",
      "\n",
      "--- New Round ---\n"
     ]
    },
    {
     "name": "stdin",
     "output_type": "stream",
     "text": [
      "Player 1, place your bet:  4\n",
      "Counting Player, place your bet:  4\n"
     ]
    },
    {
     "name": "stdout",
     "output_type": "stream",
     "text": [
      "\n",
      "Player 1's turn:\n",
      "\n",
      "Counting Player's turn:\n",
      "\n",
      "Dealer's turn:\n",
      "\n",
      "Player Hands:\n",
      "Player 1: 6 of Diamonds, 2 of Clubs, Ace of Spades, Ace of Clubs, Jack of Spades, Queen of Spades, King of Clubs, King of Hearts, Queen of Hearts, Queen of Diamonds\n",
      "Counting Player: King of Clubs, 4 of Clubs, 2 of Spades, 9 of Clubs, 8 of Diamonds, 5 of Spades, 4 of Diamonds, 4 of Hearts, 9 of Spades\n",
      "Dealer Hand: 10 of Spades, King of Spades, Ace of Diamonds, 10 of Diamonds, 8 of Hearts, King of Diamonds, 7 of Hearts, 6 of Clubs\n",
      "\n",
      "Round Results:\n",
      "Player 1 loses!\n",
      "Counting Player loses!\n",
      "===== Round End =====\n",
      "\n",
      "===== Round Start =====\n",
      "\n",
      "--- New Round ---\n"
     ]
    },
    {
     "name": "stdin",
     "output_type": "stream",
     "text": [
      "Player 1, place your bet:  4\n",
      "Counting Player, place your bet:  4\n"
     ]
    },
    {
     "name": "stdout",
     "output_type": "stream",
     "text": [
      "\n",
      "Player 1's turn:\n",
      "\n",
      "Counting Player's turn:\n",
      "\n",
      "Dealer's turn:\n",
      "\n",
      "Player Hands:\n",
      "Player 1: 6 of Diamonds, 2 of Clubs, Ace of Spades, Ace of Clubs, Jack of Spades, Queen of Spades, King of Clubs, King of Hearts, Queen of Hearts, Queen of Diamonds, 2 of Hearts, 3 of Spades\n",
      "Counting Player: King of Clubs, 4 of Clubs, 2 of Spades, 9 of Clubs, 8 of Diamonds, 5 of Spades, 4 of Diamonds, 4 of Hearts, 9 of Spades, King of Diamonds, Ace of Diamonds\n",
      "Dealer Hand: 10 of Spades, King of Spades, Ace of Diamonds, 10 of Diamonds, 8 of Hearts, King of Diamonds, 7 of Hearts, 6 of Clubs, 8 of Clubs, 7 of Clubs\n",
      "\n",
      "Round Results:\n",
      "Player 1 loses!\n",
      "Counting Player loses!\n",
      "===== Round End =====\n",
      "\n",
      "===== Round Start =====\n",
      "\n",
      "--- New Round ---\n"
     ]
    },
    {
     "name": "stdin",
     "output_type": "stream",
     "text": [
      "Player 1, place your bet:  4\n",
      "Counting Player, place your bet:  4\n"
     ]
    },
    {
     "name": "stdout",
     "output_type": "stream",
     "text": [
      "\n",
      "Player 1's turn:\n",
      "\n",
      "Counting Player's turn:\n",
      "\n",
      "Dealer's turn:\n",
      "\n",
      "Player Hands:\n",
      "Player 1: 6 of Diamonds, 2 of Clubs, Ace of Spades, Ace of Clubs, Jack of Spades, Queen of Spades, King of Clubs, King of Hearts, Queen of Hearts, Queen of Diamonds, 2 of Hearts, 3 of Spades, 6 of Clubs, 5 of Clubs\n",
      "Counting Player: King of Clubs, 4 of Clubs, 2 of Spades, 9 of Clubs, 8 of Diamonds, 5 of Spades, 4 of Diamonds, 4 of Hearts, 9 of Spades, King of Diamonds, Ace of Diamonds, Queen of Diamonds, 5 of Diamonds\n",
      "Dealer Hand: 10 of Spades, King of Spades, Ace of Diamonds, 10 of Diamonds, 8 of Hearts, King of Diamonds, 7 of Hearts, 6 of Clubs, 8 of Clubs, 7 of Clubs, Ace of Hearts, Jack of Diamonds\n",
      "\n",
      "Round Results:\n",
      "Player 1 loses!\n",
      "Counting Player loses!\n",
      "===== Round End =====\n",
      "\n",
      "===== Round Start =====\n",
      "\n",
      "--- New Round ---\n"
     ]
    },
    {
     "name": "stdin",
     "output_type": "stream",
     "text": [
      "Player 1, place your bet:  4\n",
      "Counting Player, place your bet:  4\n"
     ]
    },
    {
     "name": "stdout",
     "output_type": "stream",
     "text": [
      "\n",
      "Player 1's turn:\n",
      "\n",
      "Counting Player's turn:\n",
      "\n",
      "Dealer's turn:\n",
      "\n",
      "Player Hands:\n",
      "Player 1: 6 of Diamonds, 2 of Clubs, Ace of Spades, Ace of Clubs, Jack of Spades, Queen of Spades, King of Clubs, King of Hearts, Queen of Hearts, Queen of Diamonds, 2 of Hearts, 3 of Spades, 6 of Clubs, 5 of Clubs, Ace of Diamonds, Queen of Clubs\n",
      "Counting Player: King of Clubs, 4 of Clubs, 2 of Spades, 9 of Clubs, 8 of Diamonds, 5 of Spades, 4 of Diamonds, 4 of Hearts, 9 of Spades, King of Diamonds, Ace of Diamonds, Queen of Diamonds, 5 of Diamonds, 10 of Spades, 9 of Hearts\n",
      "Dealer Hand: 10 of Spades, King of Spades, Ace of Diamonds, 10 of Diamonds, 8 of Hearts, King of Diamonds, 7 of Hearts, 6 of Clubs, 8 of Clubs, 7 of Clubs, Ace of Hearts, Jack of Diamonds, 3 of Clubs, 10 of Hearts\n",
      "\n",
      "Round Results:\n",
      "Player 1 loses!\n",
      "Counting Player loses!\n",
      "===== Round End =====\n",
      "\n",
      "===== Round Start =====\n",
      "\n",
      "--- New Round ---\n"
     ]
    },
    {
     "name": "stdin",
     "output_type": "stream",
     "text": [
      "Player 1, place your bet:  4\n",
      "Counting Player, place your bet:  4\n"
     ]
    },
    {
     "name": "stdout",
     "output_type": "stream",
     "text": [
      "\n",
      "Player 1's turn:\n",
      "\n",
      "Counting Player's turn:\n",
      "\n",
      "Dealer's turn:\n",
      "\n",
      "Player Hands:\n",
      "Player 1: 6 of Diamonds, 2 of Clubs, Ace of Spades, Ace of Clubs, Jack of Spades, Queen of Spades, King of Clubs, King of Hearts, Queen of Hearts, Queen of Diamonds, 2 of Hearts, 3 of Spades, 6 of Clubs, 5 of Clubs, Ace of Diamonds, Queen of Clubs, 5 of Spades, King of Spades\n",
      "Counting Player: King of Clubs, 4 of Clubs, 2 of Spades, 9 of Clubs, 8 of Diamonds, 5 of Spades, 4 of Diamonds, 4 of Hearts, 9 of Spades, King of Diamonds, Ace of Diamonds, Queen of Diamonds, 5 of Diamonds, 10 of Spades, 9 of Hearts, Queen of Diamonds, 4 of Diamonds\n",
      "Dealer Hand: 10 of Spades, King of Spades, Ace of Diamonds, 10 of Diamonds, 8 of Hearts, King of Diamonds, 7 of Hearts, 6 of Clubs, 8 of Clubs, 7 of Clubs, Ace of Hearts, Jack of Diamonds, 3 of Clubs, 10 of Hearts, Jack of Spades, 9 of Clubs\n",
      "\n",
      "Round Results:\n",
      "Player 1 loses!\n",
      "Counting Player loses!\n",
      "===== Round End =====\n",
      "\n",
      "===== Round Start =====\n",
      "\n",
      "--- New Round ---\n"
     ]
    },
    {
     "name": "stdin",
     "output_type": "stream",
     "text": [
      "Player 1, place your bet:  4\n",
      "Counting Player, place your bet:  4\n"
     ]
    },
    {
     "name": "stdout",
     "output_type": "stream",
     "text": [
      "\n",
      "Player 1's turn:\n",
      "\n",
      "Counting Player's turn:\n",
      "\n",
      "Dealer's turn:\n",
      "\n",
      "Player Hands:\n",
      "Player 1: 6 of Diamonds, 2 of Clubs, Ace of Spades, Ace of Clubs, Jack of Spades, Queen of Spades, King of Clubs, King of Hearts, Queen of Hearts, Queen of Diamonds, 2 of Hearts, 3 of Spades, 6 of Clubs, 5 of Clubs, Ace of Diamonds, Queen of Clubs, 5 of Spades, King of Spades, 9 of Diamonds, 7 of Spades\n",
      "Counting Player: King of Clubs, 4 of Clubs, 2 of Spades, 9 of Clubs, 8 of Diamonds, 5 of Spades, 4 of Diamonds, 4 of Hearts, 9 of Spades, King of Diamonds, Ace of Diamonds, Queen of Diamonds, 5 of Diamonds, 10 of Spades, 9 of Hearts, Queen of Diamonds, 4 of Diamonds, King of Hearts, 3 of Clubs\n",
      "Dealer Hand: 10 of Spades, King of Spades, Ace of Diamonds, 10 of Diamonds, 8 of Hearts, King of Diamonds, 7 of Hearts, 6 of Clubs, 8 of Clubs, 7 of Clubs, Ace of Hearts, Jack of Diamonds, 3 of Clubs, 10 of Hearts, Jack of Spades, 9 of Clubs, 2 of Hearts, 2 of Spades\n",
      "\n",
      "Round Results:\n",
      "Player 1 loses!\n",
      "Counting Player loses!\n",
      "===== Round End =====\n",
      "\n",
      "===== Round Start =====\n",
      "\n",
      "--- New Round ---\n"
     ]
    },
    {
     "name": "stdin",
     "output_type": "stream",
     "text": [
      "Player 1, place your bet:  4\n",
      "Counting Player, place your bet:  4\n"
     ]
    },
    {
     "name": "stdout",
     "output_type": "stream",
     "text": [
      "\n",
      "Player 1's turn:\n",
      "\n",
      "Counting Player's turn:\n",
      "\n",
      "Dealer's turn:\n",
      "\n",
      "Player Hands:\n",
      "Player 1: 6 of Diamonds, 2 of Clubs, Ace of Spades, Ace of Clubs, Jack of Spades, Queen of Spades, King of Clubs, King of Hearts, Queen of Hearts, Queen of Diamonds, 2 of Hearts, 3 of Spades, 6 of Clubs, 5 of Clubs, Ace of Diamonds, Queen of Clubs, 5 of Spades, King of Spades, 9 of Diamonds, 7 of Spades, 7 of Spades, Ace of Spades\n",
      "Counting Player: King of Clubs, 4 of Clubs, 2 of Spades, 9 of Clubs, 8 of Diamonds, 5 of Spades, 4 of Diamonds, 4 of Hearts, 9 of Spades, King of Diamonds, Ace of Diamonds, Queen of Diamonds, 5 of Diamonds, 10 of Spades, 9 of Hearts, Queen of Diamonds, 4 of Diamonds, King of Hearts, 3 of Clubs, 5 of Hearts, 8 of Hearts\n",
      "Dealer Hand: 10 of Spades, King of Spades, Ace of Diamonds, 10 of Diamonds, 8 of Hearts, King of Diamonds, 7 of Hearts, 6 of Clubs, 8 of Clubs, 7 of Clubs, Ace of Hearts, Jack of Diamonds, 3 of Clubs, 10 of Hearts, Jack of Spades, 9 of Clubs, 2 of Hearts, 2 of Spades, 5 of Diamonds, 7 of Diamonds\n",
      "\n",
      "Round Results:\n",
      "Player 1 loses!\n",
      "Counting Player loses!\n",
      "===== Round End =====\n",
      "\n",
      "Final balance of Counting Player: 922\n"
     ]
    }
   ],
   "source": [
    "game = BlackjackGame()\n",
    "\n",
    "counting_player = CountingPlayer(\"Counting Player\", threshold=-2)\n",
    "game.add_player(counting_player)\n",
    "\n",
    "num_rounds = 10 \n",
    "for _ in range(num_rounds):\n",
    "    print(\"\\n===== Round Start =====\")\n",
    "    game.play_round()\n",
    "    print(\"===== Round End =====\")\n",
    "print(f\"\\nFinal balance of {counting_player.name}: {counting_player.balance}\")"
   ]
  },
  {
   "cell_type": "markdown",
   "metadata": {},
   "source": [
    "7. Create a test scenario where one player, using the above strategy, is playing with a dealer and 3 other players that follow the dealer's strategy. Each player starts with same number of chips. Play 50 rounds (or until the strategy player is out of money). Compute the strategy player's winnings. You may remove unnecessary printouts from your code (perhaps implement a verbose/quiet mode) to reduce the output."
   ]
  },
  {
   "cell_type": "code",
   "execution_count": 115,
   "metadata": {},
   "outputs": [],
   "source": [
    "class BlackjackScenario:\n",
    "    def __init__(self, num_players=3, num_decks=6, starting_chips=100, threshold=-2):\n",
    "        self.game = BlackjackGame(num_decks)\n",
    "        self.strategy_player = CountingPlayer(\"Strategy Player\", threshold=threshold)\n",
    "        self.dealer = Dealer()\n",
    "        self.dealer_strategy_players = [Dealer() for _ in range(num_players)]\n",
    "        self.starting_chips = starting_chips\n",
    "\n",
    "    def setup_game(self):\n",
    "        self.game.add_player(self.strategy_player)\n",
    "        for player in self.dealer_strategy_players:\n",
    "            self.game.add_player(player)\n",
    "        self.game.add_player(self.dealer)\n",
    "\n",
    "    def play_scenario(self, num_rounds=50):\n",
    "        self.setup_game()\n",
    "        # Initialize chips for all players\n",
    "        self.strategy_player.balance = self.starting_chips\n",
    "        for player in self.dealer_strategy_players:\n",
    "            player.balance = self.starting_chips\n",
    "        self.dealer.balance = self.starting_chips\n",
    "\n",
    "        for _ in range(num_rounds):\n",
    "            # Check if the strategy player has enough chips to continue\n",
    "            if self.strategy_player.balance <= 0:\n",
    "                print(\"Strategy player is out of money. Scenario ended.\")\n",
    "                return 0\n",
    "\n",
    "            round_results = self.game.play_round()\n",
    "            for result, player in round_results:\n",
    "                if player == self.strategy_player:\n",
    "                    if result == 1:\n",
    "                        self.strategy_player.balance += 1\n",
    "                    elif result == -1:\n",
    "                        self.strategy_player.balance -= 1\n",
    "            \n",
    "            # Print the hand for each player at the end of the round\n",
    "            print(\"\\nHands at the end of the round:\")\n",
    "            for player in self.game.players:\n",
    "                print(f\"{player.name}: {player.hand}\")\n",
    "\n",
    "        return self.strategy_player.balance - self.starting_chips"
   ]
  },
  {
   "cell_type": "code",
   "execution_count": null,
   "metadata": {},
   "outputs": [
    {
     "name": "stdout",
     "output_type": "stream",
     "text": [
      "\n",
      "--- New Round ---\n"
     ]
    },
    {
     "name": "stdin",
     "output_type": "stream",
     "text": [
      "Player 1, place your bet:  4\n",
      "Player 2, place your bet:  4\n",
      "Player 3, place your bet:  4\n",
      "Player 4, place your bet:  4\n",
      "Player 5, place your bet:  \n"
     ]
    },
    {
     "name": "stdout",
     "output_type": "stream",
     "text": [
      "Invalid input. Please enter a valid integer.\n"
     ]
    },
    {
     "name": "stdin",
     "output_type": "stream",
     "text": [
      "Player 5, place your bet:  4\n",
      "Player 6, place your bet:  4\n",
      "Player 7, place your bet:  4\n",
      "Player 8, place your bet:  \n"
     ]
    },
    {
     "name": "stdout",
     "output_type": "stream",
     "text": [
      "Invalid input. Please enter a valid integer.\n"
     ]
    },
    {
     "name": "stdin",
     "output_type": "stream",
     "text": [
      "Player 8, place your bet:  4\n",
      "Player 9, place your bet:  4\n",
      "Player 10, place your bet:  4\n",
      "Strategy Player, place your bet:  \n"
     ]
    },
    {
     "name": "stdout",
     "output_type": "stream",
     "text": [
      "Invalid input. Please enter a valid integer.\n"
     ]
    },
    {
     "name": "stdin",
     "output_type": "stream",
     "text": [
      "Strategy Player, place your bet:  4\n",
      "Dealer, place your bet:  4\n",
      "Dealer, place your bet:  4\n",
      "Dealer, place your bet:  4\n",
      "Dealer, place your bet:  4\n"
     ]
    },
    {
     "name": "stdout",
     "output_type": "stream",
     "text": [
      "\n",
      "Player 1's turn:\n"
     ]
    },
    {
     "name": "stdin",
     "output_type": "stream",
     "text": [
      "Do you want to (h)it or (s)tand?  4\n",
      "Do you want to (h)it or (s)tand?  h\n"
     ]
    },
    {
     "name": "stdout",
     "output_type": "stream",
     "text": [
      "Player 1 draws: 3 of Spades\n",
      "Your hand: ['Queen of Clubs', '6 of Clubs', '3 of Spades']\n"
     ]
    },
    {
     "name": "stdin",
     "output_type": "stream",
     "text": [
      "Do you want to (h)it or (s)tand?  s\n"
     ]
    },
    {
     "name": "stdout",
     "output_type": "stream",
     "text": [
      "Player 1 stands.\n",
      "\n",
      "Player 2's turn:\n"
     ]
    },
    {
     "name": "stdin",
     "output_type": "stream",
     "text": [
      "Do you want to (h)it or (s)tand?  h\n"
     ]
    },
    {
     "name": "stdout",
     "output_type": "stream",
     "text": [
      "Player 2 draws: Ace of Clubs\n",
      "Your hand: ['5 of Hearts', 'Ace of Clubs', 'Ace of Clubs']\n"
     ]
    },
    {
     "name": "stdin",
     "output_type": "stream",
     "text": [
      "Do you want to (h)it or (s)tand?  s\n"
     ]
    },
    {
     "name": "stdout",
     "output_type": "stream",
     "text": [
      "Player 2 stands.\n",
      "\n",
      "Player 3's turn:\n"
     ]
    },
    {
     "name": "stdin",
     "output_type": "stream",
     "text": [
      "Do you want to (h)it or (s)tand?  h\n"
     ]
    },
    {
     "name": "stdout",
     "output_type": "stream",
     "text": [
      "Player 3 draws: 7 of Hearts\n",
      "Your hand: ['7 of Clubs', 'Jack of Spades', '7 of Hearts']\n",
      "\n",
      "Player 4's turn:\n"
     ]
    },
    {
     "name": "stdin",
     "output_type": "stream",
     "text": [
      "Do you want to (h)it or (s)tand?  s\n"
     ]
    },
    {
     "name": "stdout",
     "output_type": "stream",
     "text": [
      "Player 4 stands.\n",
      "\n",
      "Player 5's turn:\n"
     ]
    },
    {
     "name": "stdin",
     "output_type": "stream",
     "text": [
      "Do you want to (h)it or (s)tand?  h\n"
     ]
    },
    {
     "name": "stdout",
     "output_type": "stream",
     "text": [
      "Player 5 draws: 6 of Clubs\n",
      "Your hand: ['10 of Clubs', '6 of Diamonds', '6 of Clubs']\n",
      "\n",
      "Player 6's turn:\n"
     ]
    },
    {
     "name": "stdin",
     "output_type": "stream",
     "text": [
      "Do you want to (h)it or (s)tand?  s\n"
     ]
    },
    {
     "name": "stdout",
     "output_type": "stream",
     "text": [
      "Player 6 stands.\n",
      "\n",
      "Player 7's turn:\n"
     ]
    },
    {
     "name": "stdin",
     "output_type": "stream",
     "text": [
      "Do you want to (h)it or (s)tand?  h\n"
     ]
    },
    {
     "name": "stdout",
     "output_type": "stream",
     "text": [
      "Player 7 draws: King of Spades\n",
      "Your hand: ['7 of Diamonds', '9 of Diamonds', 'King of Spades']\n",
      "\n",
      "Player 8's turn:\n"
     ]
    },
    {
     "name": "stdin",
     "output_type": "stream",
     "text": [
      "Do you want to (h)it or (s)tand?  s\n"
     ]
    },
    {
     "name": "stdout",
     "output_type": "stream",
     "text": [
      "Player 8 stands.\n",
      "\n",
      "Player 9's turn:\n"
     ]
    },
    {
     "name": "stdin",
     "output_type": "stream",
     "text": [
      "Do you want to (h)it or (s)tand?  h\n"
     ]
    },
    {
     "name": "stdout",
     "output_type": "stream",
     "text": [
      "Player 9 draws: 3 of Spades\n",
      "Your hand: ['9 of Clubs', '6 of Diamonds', '3 of Spades']\n"
     ]
    },
    {
     "name": "stdin",
     "output_type": "stream",
     "text": [
      "Do you want to (h)it or (s)tand?  s\n"
     ]
    },
    {
     "name": "stdout",
     "output_type": "stream",
     "text": [
      "Player 9 stands.\n",
      "\n",
      "Player 10's turn:\n"
     ]
    },
    {
     "name": "stdin",
     "output_type": "stream",
     "text": [
      "Do you want to (h)it or (s)tand?  h\n"
     ]
    },
    {
     "name": "stdout",
     "output_type": "stream",
     "text": [
      "Player 10 draws: 10 of Diamonds\n",
      "Your hand: ['5 of Spades', '10 of Spades', '10 of Diamonds']\n",
      "\n",
      "Strategy Player's turn:\n"
     ]
    },
    {
     "name": "stdin",
     "output_type": "stream",
     "text": [
      "Do you want to (h)it or (s)tand?  s\n"
     ]
    },
    {
     "name": "stdout",
     "output_type": "stream",
     "text": [
      "Strategy Player stands.\n",
      "\n",
      "Dealer's turn:\n"
     ]
    },
    {
     "name": "stdin",
     "output_type": "stream",
     "text": [
      "Do you want to (h)it or (s)tand?  h\n"
     ]
    },
    {
     "name": "stdout",
     "output_type": "stream",
     "text": [
      "Dealer draws: 5 of Hearts\n",
      "Your hand: ['2 of Clubs', '10 of Clubs', '5 of Hearts']\n"
     ]
    },
    {
     "name": "stdin",
     "output_type": "stream",
     "text": [
      "Do you want to (h)it or (s)tand?  s\n"
     ]
    },
    {
     "name": "stdout",
     "output_type": "stream",
     "text": [
      "Dealer stands.\n",
      "\n",
      "Dealer's turn:\n"
     ]
    },
    {
     "name": "stdin",
     "output_type": "stream",
     "text": [
      "Do you want to (h)it or (s)tand?  h\n"
     ]
    },
    {
     "name": "stdout",
     "output_type": "stream",
     "text": [
      "Dealer draws: Jack of Diamonds\n",
      "Your hand: ['Jack of Clubs', '2 of Spades', 'Jack of Diamonds']\n",
      "\n",
      "Dealer's turn:\n"
     ]
    },
    {
     "name": "stdin",
     "output_type": "stream",
     "text": [
      "Do you want to (h)it or (s)tand?  s\n"
     ]
    },
    {
     "name": "stdout",
     "output_type": "stream",
     "text": [
      "Dealer stands.\n",
      "\n",
      "Dealer's turn:\n"
     ]
    },
    {
     "name": "stdin",
     "output_type": "stream",
     "text": [
      "Do you want to (h)it or (s)tand?  h\n"
     ]
    },
    {
     "name": "stdout",
     "output_type": "stream",
     "text": [
      "Dealer draws: 2 of Hearts\n",
      "Your hand: ['7 of Clubs', 'Ace of Spades', '2 of Hearts']\n"
     ]
    },
    {
     "name": "stdin",
     "output_type": "stream",
     "text": [
      "Do you want to (h)it or (s)tand?  s\n"
     ]
    },
    {
     "name": "stdout",
     "output_type": "stream",
     "text": [
      "Dealer stands.\n",
      "\n",
      "Dealer's turn:\n",
      "Dealer draws: Jack of Hearts\n",
      "Dealer's hand: ['2 of Hearts', 'Queen of Spades', 'Jack of Hearts']\n",
      "\n",
      "Player Hands:\n",
      "Player 1: Queen of Clubs, 6 of Clubs, 3 of Spades\n",
      "Player 2: 5 of Hearts, Ace of Clubs, Ace of Clubs\n",
      "Player 3: 7 of Clubs, Jack of Spades, 7 of Hearts\n",
      "Player 4: 4 of Hearts, 7 of Spades\n",
      "Player 5: 10 of Clubs, 6 of Diamonds, 6 of Clubs\n",
      "Player 6: 8 of Spades, 9 of Clubs\n",
      "Player 7: 7 of Diamonds, 9 of Diamonds, King of Spades\n",
      "Player 8: King of Hearts, 6 of Clubs\n",
      "Player 9: 9 of Clubs, 6 of Diamonds, 3 of Spades\n",
      "Player 10: 5 of Spades, 10 of Spades, 10 of Diamonds\n",
      "Strategy Player: 5 of Clubs, 4 of Hearts\n",
      "Dealer: 2 of Clubs, 10 of Clubs, 5 of Hearts\n",
      "Dealer: Jack of Clubs, 2 of Spades, Jack of Diamonds\n",
      "Dealer: Queen of Clubs, 8 of Spades\n",
      "Dealer: 7 of Clubs, Ace of Spades, 2 of Hearts\n",
      "Dealer Hand: 2 of Hearts, Queen of Spades, Jack of Hearts\n",
      "\n",
      "Round Results:\n",
      "Player 1 wins!\n",
      "Player 2 wins!\n",
      "Player 3 loses!\n",
      "Player 4 wins!\n",
      "Player 5 loses!\n",
      "Player 6 wins!\n",
      "Player 7 loses!\n",
      "Player 8 wins!\n",
      "Player 9 wins!\n",
      "Player 10 loses!\n",
      "Strategy Player wins!\n",
      "Dealer wins!\n",
      "Dealer loses!\n",
      "Dealer wins!\n",
      "Dealer wins!\n",
      "\n",
      "Hands at the end of the round:\n",
      "Player 1: Queen of Clubs, 6 of Clubs, 3 of Spades\n",
      "Player 2: 5 of Hearts, Ace of Clubs, Ace of Clubs\n",
      "Player 3: 7 of Clubs, Jack of Spades, 7 of Hearts\n",
      "Player 4: 4 of Hearts, 7 of Spades\n",
      "Player 5: 10 of Clubs, 6 of Diamonds, 6 of Clubs\n",
      "Player 6: 8 of Spades, 9 of Clubs\n",
      "Player 7: 7 of Diamonds, 9 of Diamonds, King of Spades\n",
      "Player 8: King of Hearts, 6 of Clubs\n",
      "Player 9: 9 of Clubs, 6 of Diamonds, 3 of Spades\n",
      "Player 10: 5 of Spades, 10 of Spades, 10 of Diamonds\n",
      "Strategy Player: 5 of Clubs, 4 of Hearts\n",
      "Dealer: 2 of Clubs, 10 of Clubs, 5 of Hearts\n",
      "Dealer: Jack of Clubs, 2 of Spades, Jack of Diamonds\n",
      "Dealer: Queen of Clubs, 8 of Spades\n",
      "Dealer: 7 of Clubs, Ace of Spades, 2 of Hearts\n",
      "\n",
      "--- New Round ---\n"
     ]
    },
    {
     "name": "stdin",
     "output_type": "stream",
     "text": [
      "Player 1, place your bet:  h\n"
     ]
    },
    {
     "name": "stdout",
     "output_type": "stream",
     "text": [
      "Invalid input. Please enter a valid integer.\n"
     ]
    },
    {
     "name": "stdin",
     "output_type": "stream",
     "text": [
      "Player 1, place your bet:  5\n",
      "Player 2, place your bet:  5\n",
      "Player 3, place your bet:  5\n",
      "Player 4, place your bet:  5\n",
      "Player 5, place your bet:  5\n",
      "Player 6, place your bet:  5\n",
      "Player 7, place your bet:  \n"
     ]
    },
    {
     "name": "stdout",
     "output_type": "stream",
     "text": [
      "Invalid input. Please enter a valid integer.\n"
     ]
    },
    {
     "name": "stdin",
     "output_type": "stream",
     "text": [
      "Player 7, place your bet:  5\n",
      "Player 8, place your bet:  5\n",
      "Player 9, place your bet:  5\n",
      "Player 10, place your bet:  5\n",
      "Strategy Player, place your bet:  5\n",
      "Dealer, place your bet:  5\n",
      "Dealer, place your bet:  5\n",
      "Dealer, place your bet:  5\n",
      "Dealer, place your bet:  5\n"
     ]
    },
    {
     "name": "stdout",
     "output_type": "stream",
     "text": [
      "\n",
      "Player 1's turn:\n",
      "\n",
      "Player 2's turn:\n",
      "\n",
      "Player 3's turn:\n",
      "\n",
      "Player 4's turn:\n"
     ]
    },
    {
     "name": "stdin",
     "output_type": "stream",
     "text": [
      "Do you want to (h)it or (s)tand?  h\n"
     ]
    },
    {
     "name": "stdout",
     "output_type": "stream",
     "text": [
      "Player 4 draws: 5 of Diamonds\n",
      "Your hand: ['4 of Hearts', '7 of Spades', '3 of Diamonds', '7 of Spades', '5 of Diamonds']\n",
      "\n",
      "Player 5's turn:\n",
      "\n",
      "Player 6's turn:\n",
      "\n",
      "Player 7's turn:\n",
      "\n",
      "Player 8's turn:\n",
      "\n",
      "Player 9's turn:\n",
      "\n",
      "Player 10's turn:\n",
      "\n",
      "Strategy Player's turn:\n",
      "\n",
      "Dealer's turn:\n",
      "\n",
      "Dealer's turn:\n",
      "\n",
      "Dealer's turn:\n",
      "\n",
      "Dealer's turn:\n",
      "\n",
      "Dealer's turn:\n",
      "\n",
      "Player Hands:\n",
      "Player 1: Queen of Clubs, 6 of Clubs, 3 of Spades, 3 of Clubs, 7 of Clubs\n",
      "Player 2: 5 of Hearts, Ace of Clubs, Ace of Clubs, 10 of Spades, 8 of Clubs\n",
      "Player 3: 7 of Clubs, Jack of Spades, 7 of Hearts, 4 of Hearts, Jack of Clubs\n",
      "Player 4: 4 of Hearts, 7 of Spades, 3 of Diamonds, 7 of Spades, 5 of Diamonds\n",
      "Player 5: 10 of Clubs, 6 of Diamonds, 6 of Clubs, 4 of Clubs, Queen of Spades\n",
      "Player 6: 8 of Spades, 9 of Clubs, 3 of Hearts, 3 of Diamonds\n",
      "Player 7: 7 of Diamonds, 9 of Diamonds, King of Spades, 2 of Diamonds, 7 of Spades\n",
      "Player 8: King of Hearts, 6 of Clubs, 5 of Diamonds, King of Hearts\n",
      "Player 9: 9 of Clubs, 6 of Diamonds, 3 of Spades, Jack of Diamonds, Queen of Hearts\n",
      "Player 10: 5 of Spades, 10 of Spades, 10 of Diamonds, Ace of Hearts, Queen of Diamonds\n",
      "Strategy Player: 5 of Clubs, 4 of Hearts, 4 of Diamonds, Jack of Clubs\n",
      "Dealer: 2 of Clubs, 10 of Clubs, 5 of Hearts, 3 of Spades, 4 of Diamonds\n",
      "Dealer: Jack of Clubs, 2 of Spades, Jack of Diamonds, Jack of Hearts, 10 of Diamonds\n",
      "Dealer: Queen of Clubs, 8 of Spades, 7 of Spades, 4 of Clubs\n",
      "Dealer: 7 of Clubs, Ace of Spades, 2 of Hearts, 6 of Hearts, King of Hearts\n",
      "Dealer Hand: 2 of Hearts, Queen of Spades, Jack of Hearts, Queen of Clubs, 2 of Diamonds\n",
      "\n",
      "Round Results:\n",
      "Player 1 loses!\n",
      "Player 2 loses!\n",
      "Player 3 loses!\n",
      "Player 4 loses!\n",
      "Player 5 loses!\n",
      "Player 6 loses!\n",
      "Player 7 loses!\n",
      "Player 8 loses!\n",
      "Player 9 loses!\n",
      "Player 10 loses!\n",
      "Strategy Player loses!\n",
      "Dealer loses!\n",
      "Dealer loses!\n",
      "Dealer loses!\n",
      "Dealer loses!\n",
      "\n",
      "Hands at the end of the round:\n",
      "Player 1: Queen of Clubs, 6 of Clubs, 3 of Spades, 3 of Clubs, 7 of Clubs\n",
      "Player 2: 5 of Hearts, Ace of Clubs, Ace of Clubs, 10 of Spades, 8 of Clubs\n",
      "Player 3: 7 of Clubs, Jack of Spades, 7 of Hearts, 4 of Hearts, Jack of Clubs\n",
      "Player 4: 4 of Hearts, 7 of Spades, 3 of Diamonds, 7 of Spades, 5 of Diamonds\n",
      "Player 5: 10 of Clubs, 6 of Diamonds, 6 of Clubs, 4 of Clubs, Queen of Spades\n",
      "Player 6: 8 of Spades, 9 of Clubs, 3 of Hearts, 3 of Diamonds\n",
      "Player 7: 7 of Diamonds, 9 of Diamonds, King of Spades, 2 of Diamonds, 7 of Spades\n",
      "Player 8: King of Hearts, 6 of Clubs, 5 of Diamonds, King of Hearts\n",
      "Player 9: 9 of Clubs, 6 of Diamonds, 3 of Spades, Jack of Diamonds, Queen of Hearts\n",
      "Player 10: 5 of Spades, 10 of Spades, 10 of Diamonds, Ace of Hearts, Queen of Diamonds\n",
      "Strategy Player: 5 of Clubs, 4 of Hearts, 4 of Diamonds, Jack of Clubs\n",
      "Dealer: 2 of Clubs, 10 of Clubs, 5 of Hearts, 3 of Spades, 4 of Diamonds\n",
      "Dealer: Jack of Clubs, 2 of Spades, Jack of Diamonds, Jack of Hearts, 10 of Diamonds\n",
      "Dealer: Queen of Clubs, 8 of Spades, 7 of Spades, 4 of Clubs\n",
      "Dealer: 7 of Clubs, Ace of Spades, 2 of Hearts, 6 of Hearts, King of Hearts\n",
      "\n",
      "--- New Round ---\n"
     ]
    },
    {
     "name": "stdin",
     "output_type": "stream",
     "text": [
      "Player 1, place your bet:  s\n"
     ]
    },
    {
     "name": "stdout",
     "output_type": "stream",
     "text": [
      "Invalid input. Please enter a valid integer.\n"
     ]
    },
    {
     "name": "stdin",
     "output_type": "stream",
     "text": [
      "Player 1, place your bet:  6\n",
      "Player 2, place your bet:  6\n",
      "Player 3, place your bet:  6\n",
      "Player 4, place your bet:  6\n",
      "Player 5, place your bet:  6\n",
      "Player 6, place your bet:  66\n",
      "Player 7, place your bet:  6\n",
      "Player 8, place your bet:  6\n",
      "Player 9, place your bet:  6\n",
      "Player 10, place your bet:  66\n",
      "Strategy Player, place your bet:  6\n",
      "Dealer, place your bet:  66\n",
      "Dealer, place your bet:  6\n",
      "Dealer, place your bet:  6\n",
      "Dealer, place your bet:  6\n"
     ]
    },
    {
     "name": "stdout",
     "output_type": "stream",
     "text": [
      "\n",
      "Player 1's turn:\n",
      "\n",
      "Player 2's turn:\n",
      "\n",
      "Player 3's turn:\n",
      "\n",
      "Player 4's turn:\n",
      "\n",
      "Player 5's turn:\n",
      "\n",
      "Player 6's turn:\n",
      "\n",
      "Player 7's turn:\n",
      "\n",
      "Player 8's turn:\n",
      "\n",
      "Player 9's turn:\n",
      "\n",
      "Player 10's turn:\n",
      "\n",
      "Strategy Player's turn:\n",
      "\n",
      "Dealer's turn:\n",
      "\n",
      "Dealer's turn:\n",
      "\n",
      "Dealer's turn:\n",
      "\n",
      "Dealer's turn:\n",
      "\n",
      "Dealer's turn:\n",
      "\n",
      "Player Hands:\n",
      "Player 1: Queen of Clubs, 6 of Clubs, 3 of Spades, 3 of Clubs, 7 of Clubs, Jack of Spades, 3 of Spades\n",
      "Player 2: 5 of Hearts, Ace of Clubs, Ace of Clubs, 10 of Spades, 8 of Clubs, 2 of Clubs, 5 of Hearts\n",
      "Player 3: 7 of Clubs, Jack of Spades, 7 of Hearts, 4 of Hearts, Jack of Clubs, Queen of Hearts, Queen of Diamonds\n",
      "Player 4: 4 of Hearts, 7 of Spades, 3 of Diamonds, 7 of Spades, 5 of Diamonds, Queen of Diamonds, 10 of Hearts\n",
      "Player 5: 10 of Clubs, 6 of Diamonds, 6 of Clubs, 4 of Clubs, Queen of Spades, 8 of Clubs, 10 of Diamonds\n",
      "Player 6: 8 of Spades, 9 of Clubs, 3 of Hearts, 3 of Diamonds, 8 of Hearts, Ace of Spades\n",
      "Player 7: 7 of Diamonds, 9 of Diamonds, King of Spades, 2 of Diamonds, 7 of Spades, 8 of Hearts, 8 of Diamonds\n",
      "Player 8: King of Hearts, 6 of Clubs, 5 of Diamonds, King of Hearts, King of Clubs, 5 of Clubs\n",
      "Player 9: 9 of Clubs, 6 of Diamonds, 3 of Spades, Jack of Diamonds, Queen of Hearts, 3 of Clubs, Queen of Clubs\n",
      "Player 10: 5 of Spades, 10 of Spades, 10 of Diamonds, Ace of Hearts, Queen of Diamonds, 3 of Hearts, 8 of Spades\n",
      "Strategy Player: 5 of Clubs, 4 of Hearts, 4 of Diamonds, Jack of Clubs, 10 of Clubs, Jack of Clubs\n",
      "Dealer: 2 of Clubs, 10 of Clubs, 5 of Hearts, 3 of Spades, 4 of Diamonds, Queen of Spades, 5 of Clubs\n",
      "Dealer: Jack of Clubs, 2 of Spades, Jack of Diamonds, Jack of Hearts, 10 of Diamonds, 9 of Spades, Ace of Spades\n",
      "Dealer: Queen of Clubs, 8 of Spades, 7 of Spades, 4 of Clubs, 4 of Clubs, 10 of Hearts\n",
      "Dealer: 7 of Clubs, Ace of Spades, 2 of Hearts, 6 of Hearts, King of Hearts, 10 of Hearts, King of Hearts\n",
      "Dealer Hand: 2 of Hearts, Queen of Spades, Jack of Hearts, Queen of Clubs, 2 of Diamonds, 2 of Hearts, 8 of Hearts\n",
      "\n",
      "Round Results:\n",
      "Player 1 loses!\n",
      "Player 2 loses!\n",
      "Player 3 loses!\n",
      "Player 4 loses!\n",
      "Player 5 loses!\n",
      "Player 6 loses!\n",
      "Player 7 loses!\n",
      "Player 8 loses!\n",
      "Player 9 loses!\n",
      "Player 10 loses!\n",
      "Strategy Player loses!\n",
      "Dealer loses!\n",
      "Dealer loses!\n",
      "Dealer loses!\n",
      "Dealer loses!\n",
      "\n",
      "Hands at the end of the round:\n",
      "Player 1: Queen of Clubs, 6 of Clubs, 3 of Spades, 3 of Clubs, 7 of Clubs, Jack of Spades, 3 of Spades\n",
      "Player 2: 5 of Hearts, Ace of Clubs, Ace of Clubs, 10 of Spades, 8 of Clubs, 2 of Clubs, 5 of Hearts\n",
      "Player 3: 7 of Clubs, Jack of Spades, 7 of Hearts, 4 of Hearts, Jack of Clubs, Queen of Hearts, Queen of Diamonds\n",
      "Player 4: 4 of Hearts, 7 of Spades, 3 of Diamonds, 7 of Spades, 5 of Diamonds, Queen of Diamonds, 10 of Hearts\n",
      "Player 5: 10 of Clubs, 6 of Diamonds, 6 of Clubs, 4 of Clubs, Queen of Spades, 8 of Clubs, 10 of Diamonds\n",
      "Player 6: 8 of Spades, 9 of Clubs, 3 of Hearts, 3 of Diamonds, 8 of Hearts, Ace of Spades\n",
      "Player 7: 7 of Diamonds, 9 of Diamonds, King of Spades, 2 of Diamonds, 7 of Spades, 8 of Hearts, 8 of Diamonds\n",
      "Player 8: King of Hearts, 6 of Clubs, 5 of Diamonds, King of Hearts, King of Clubs, 5 of Clubs\n",
      "Player 9: 9 of Clubs, 6 of Diamonds, 3 of Spades, Jack of Diamonds, Queen of Hearts, 3 of Clubs, Queen of Clubs\n",
      "Player 10: 5 of Spades, 10 of Spades, 10 of Diamonds, Ace of Hearts, Queen of Diamonds, 3 of Hearts, 8 of Spades\n",
      "Strategy Player: 5 of Clubs, 4 of Hearts, 4 of Diamonds, Jack of Clubs, 10 of Clubs, Jack of Clubs\n",
      "Dealer: 2 of Clubs, 10 of Clubs, 5 of Hearts, 3 of Spades, 4 of Diamonds, Queen of Spades, 5 of Clubs\n",
      "Dealer: Jack of Clubs, 2 of Spades, Jack of Diamonds, Jack of Hearts, 10 of Diamonds, 9 of Spades, Ace of Spades\n",
      "Dealer: Queen of Clubs, 8 of Spades, 7 of Spades, 4 of Clubs, 4 of Clubs, 10 of Hearts\n",
      "Dealer: 7 of Clubs, Ace of Spades, 2 of Hearts, 6 of Hearts, King of Hearts, 10 of Hearts, King of Hearts\n",
      "\n",
      "--- New Round ---\n"
     ]
    },
    {
     "name": "stdin",
     "output_type": "stream",
     "text": [
      "Player 1, place your bet:  6\n",
      "Player 2, place your bet:  6\n",
      "Player 3, place your bet:  6\n",
      "Player 4, place your bet:  6\n",
      "Player 5, place your bet:  6\n",
      "Player 6, place your bet:  6\n",
      "Player 7, place your bet:  6\n",
      "Player 8, place your bet:  6\n",
      "Player 9, place your bet:  6\n",
      "Player 10, place your bet:  66\n",
      "Strategy Player, place your bet:  6\n",
      "Dealer, place your bet:  6\n"
     ]
    },
    {
     "name": "stdout",
     "output_type": "stream",
     "text": [
      "Insufficient balance. Bet not placed.\n"
     ]
    },
    {
     "name": "stdin",
     "output_type": "stream",
     "text": [
      "Dealer, place your bet:  66\n"
     ]
    },
    {
     "name": "stdout",
     "output_type": "stream",
     "text": [
      "Insufficient balance. Bet not placed.\n"
     ]
    },
    {
     "name": "stdin",
     "output_type": "stream",
     "text": [
      "Dealer, place your bet:  6\n"
     ]
    },
    {
     "name": "stdout",
     "output_type": "stream",
     "text": [
      "Insufficient balance. Bet not placed.\n"
     ]
    },
    {
     "name": "stdin",
     "output_type": "stream",
     "text": [
      "Dealer, place your bet:  6\n"
     ]
    },
    {
     "name": "stdout",
     "output_type": "stream",
     "text": [
      "Insufficient balance. Bet not placed.\n"
     ]
    },
    {
     "name": "stdin",
     "output_type": "stream",
     "text": [
      "Dealer, place your bet:  6\n"
     ]
    },
    {
     "name": "stdout",
     "output_type": "stream",
     "text": [
      "Insufficient balance. Bet not placed.\n"
     ]
    },
    {
     "name": "stdin",
     "output_type": "stream",
     "text": [
      "Dealer, place your bet:  6\n"
     ]
    },
    {
     "name": "stdout",
     "output_type": "stream",
     "text": [
      "Insufficient balance. Bet not placed.\n"
     ]
    },
    {
     "name": "stdin",
     "output_type": "stream",
     "text": [
      "Dealer, place your bet:  6\n"
     ]
    },
    {
     "name": "stdout",
     "output_type": "stream",
     "text": [
      "Insufficient balance. Bet not placed.\n"
     ]
    },
    {
     "name": "stdin",
     "output_type": "stream",
     "text": [
      "Dealer, place your bet:  6\n"
     ]
    },
    {
     "name": "stdout",
     "output_type": "stream",
     "text": [
      "Insufficient balance. Bet not placed.\n"
     ]
    },
    {
     "name": "stdin",
     "output_type": "stream",
     "text": [
      "Dealer, place your bet:  1\n"
     ]
    },
    {
     "name": "stdout",
     "output_type": "stream",
     "text": [
      "Insufficient balance. Bet not placed.\n"
     ]
    },
    {
     "name": "stdin",
     "output_type": "stream",
     "text": [
      "Dealer, place your bet:  0\n"
     ]
    },
    {
     "name": "stdout",
     "output_type": "stream",
     "text": [
      "Insufficient balance. Bet not placed.\n"
     ]
    },
    {
     "name": "stdin",
     "output_type": "stream",
     "text": [
      "Dealer, place your bet:  0\n"
     ]
    },
    {
     "name": "stdout",
     "output_type": "stream",
     "text": [
      "Insufficient balance. Bet not placed.\n"
     ]
    }
   ],
   "source": [
    "scenario = BlackjackScenario(num_players=3, num_decks=10, starting_chips=100, threshold=-2)\n",
    "\n",
    "winnings = scenario.play_scenario(num_rounds=50)\n",
    "\n",
    "print(\"Strategy player's winnings:\", winnings)"
   ]
  },
  {
   "cell_type": "markdown",
   "metadata": {},
   "source": [
    "8. Create a loop that runs 100 games of 50 rounds, as setup in previous question, and store the strategy player's chips at the end of the game (aka \"winnings\") in a list. Histogram the winnings. What is the average winnings per round? What is the standard deviation. What is the probabilty of net winning or lossing after 50 rounds?\n"
   ]
  },
  {
   "cell_type": "code",
   "execution_count": 14,
   "metadata": {},
   "outputs": [
    {
     "name": "stdout",
     "output_type": "stream",
     "text": [
      "\n",
      "--- New Round ---\n"
     ]
    },
    {
     "name": "stdin",
     "output_type": "stream",
     "text": [
      "Player 1, place your bet:  3\n",
      "Player 2, place your bet:  3\n",
      "Player 3, place your bet:  3\n",
      "Player 4, place your bet:  3\n"
     ]
    },
    {
     "name": "stdout",
     "output_type": "stream",
     "text": [
      "\n",
      "Player 1's turn:\n"
     ]
    },
    {
     "name": "stdin",
     "output_type": "stream",
     "text": [
      "Do you want to (h)it or (s)tand?  3\n",
      "Do you want to (h)it or (s)tand?  3\n",
      "Do you want to (h)it or (s)tand?  h\n"
     ]
    },
    {
     "name": "stdout",
     "output_type": "stream",
     "text": [
      "Player 1 draws: 4 of Diamonds\n",
      "Your hand: ['Ace of Diamonds', '6 of Hearts', '4 of Diamonds']\n"
     ]
    },
    {
     "name": "stdin",
     "output_type": "stream",
     "text": [
      "Do you want to (h)it or (s)tand?  s\n"
     ]
    },
    {
     "name": "stdout",
     "output_type": "stream",
     "text": [
      "Player 1 stands.\n",
      "\n",
      "Player 2's turn:\n"
     ]
    },
    {
     "name": "stdin",
     "output_type": "stream",
     "text": [
      "Do you want to (h)it or (s)tand?  h\n"
     ]
    },
    {
     "name": "stdout",
     "output_type": "stream",
     "text": [
      "Player 2 draws: 5 of Diamonds\n",
      "Your hand: ['5 of Spades', '4 of Diamonds', '5 of Diamonds']\n"
     ]
    },
    {
     "name": "stdin",
     "output_type": "stream",
     "text": [
      "Do you want to (h)it or (s)tand?  s\n"
     ]
    },
    {
     "name": "stdout",
     "output_type": "stream",
     "text": [
      "Player 2 stands.\n",
      "\n",
      "Player 3's turn:\n"
     ]
    },
    {
     "name": "stdin",
     "output_type": "stream",
     "text": [
      "Do you want to (h)it or (s)tand?  h\n"
     ]
    },
    {
     "name": "stdout",
     "output_type": "stream",
     "text": [
      "Player 3 draws: 8 of Clubs\n",
      "Your hand: ['9 of Diamonds', '4 of Hearts', '8 of Clubs']\n"
     ]
    },
    {
     "name": "stdin",
     "output_type": "stream",
     "text": [
      "Do you want to (h)it or (s)tand?  s\n"
     ]
    },
    {
     "name": "stdout",
     "output_type": "stream",
     "text": [
      "Player 3 stands.\n",
      "\n",
      "Player 4's turn:\n"
     ]
    },
    {
     "name": "stdin",
     "output_type": "stream",
     "text": [
      "Do you want to (h)it or (s)tand?  h\n"
     ]
    },
    {
     "name": "stdout",
     "output_type": "stream",
     "text": [
      "Player 4 draws: Queen of Hearts\n",
      "Your hand: ['9 of Spades', '4 of Diamonds', 'Queen of Hearts']\n",
      "\n",
      "Dealer's turn:\n",
      "Dealer draws: Jack of Diamonds\n",
      "Dealer's hand: ['Queen of Diamonds', '6 of Diamonds', 'Jack of Diamonds']\n",
      "\n",
      "Round Results:\n",
      "Player 1 wins!\n",
      "Player 2 wins!\n",
      "Player 3 wins!\n",
      "Player 4 loses!\n",
      "\n",
      "--- New Round ---\n"
     ]
    },
    {
     "name": "stdin",
     "output_type": "stream",
     "text": [
      "Player 1, place your bet:  4\n",
      "Player 2, place your bet:  4\n",
      "Player 3, place your bet:  4\n",
      "Player 4, place your bet:  4\n"
     ]
    },
    {
     "name": "stdout",
     "output_type": "stream",
     "text": [
      "\n",
      "Player 1's turn:\n"
     ]
    },
    {
     "name": "stdin",
     "output_type": "stream",
     "text": [
      "Do you want to (h)it or (s)tand?  4\n",
      "Do you want to (h)it or (s)tand?  h\n"
     ]
    },
    {
     "name": "stdout",
     "output_type": "stream",
     "text": [
      "Player 1 draws: 7 of Hearts\n",
      "Your hand: ['4 of Spades', '7 of Diamonds', '7 of Hearts']\n"
     ]
    },
    {
     "name": "stdin",
     "output_type": "stream",
     "text": [
      "Do you want to (h)it or (s)tand?  s\n"
     ]
    },
    {
     "name": "stdout",
     "output_type": "stream",
     "text": [
      "Player 1 stands.\n",
      "\n",
      "Player 2's turn:\n"
     ]
    },
    {
     "name": "stdin",
     "output_type": "stream",
     "text": [
      "Do you want to (h)it or (s)tand?  h\n"
     ]
    },
    {
     "name": "stdout",
     "output_type": "stream",
     "text": [
      "Player 2 draws: 7 of Spades\n",
      "Your hand: ['10 of Diamonds', '8 of Diamonds', '7 of Spades']\n",
      "\n",
      "Player 3's turn:\n"
     ]
    },
    {
     "name": "stdin",
     "output_type": "stream",
     "text": [
      "Do you want to (h)it or (s)tand?  s\n"
     ]
    },
    {
     "name": "stdout",
     "output_type": "stream",
     "text": [
      "Player 3 stands.\n",
      "\n",
      "Player 4's turn:\n"
     ]
    },
    {
     "name": "stdin",
     "output_type": "stream",
     "text": [
      "Do you want to (h)it or (s)tand?  h\n"
     ]
    },
    {
     "name": "stdout",
     "output_type": "stream",
     "text": [
      "Player 4 draws: Queen of Diamonds\n",
      "Your hand: ['6 of Spades', '3 of Diamonds', 'Queen of Diamonds']\n"
     ]
    },
    {
     "name": "stdin",
     "output_type": "stream",
     "text": [
      "Do you want to (h)it or (s)tand?  s\n"
     ]
    },
    {
     "name": "stdout",
     "output_type": "stream",
     "text": [
      "Player 4 stands.\n",
      "\n",
      "Dealer's turn:\n",
      "Dealer draws: 7 of Spades\n",
      "Dealer's hand: ['6 of Diamonds', 'Queen of Clubs', '7 of Spades']\n",
      "\n",
      "Round Results:\n",
      "Player 1 wins!\n",
      "Player 2 loses!\n",
      "Player 3 wins!\n",
      "Player 4 wins!\n",
      "\n",
      "--- New Round ---\n"
     ]
    },
    {
     "name": "stdin",
     "output_type": "stream",
     "text": [
      "Player 1, place your bet:  5\n",
      "Player 2, place your bet:  5\n",
      "Player 3, place your bet:  5\n",
      "Player 4, place your bet:  5\n"
     ]
    },
    {
     "name": "stdout",
     "output_type": "stream",
     "text": [
      "\n",
      "Player 1's turn:\n"
     ]
    },
    {
     "name": "stdin",
     "output_type": "stream",
     "text": [
      "Do you want to (h)it or (s)tand?  5\n",
      "Do you want to (h)it or (s)tand?  h\n"
     ]
    },
    {
     "name": "stdout",
     "output_type": "stream",
     "text": [
      "Player 1 draws: 8 of Hearts\n",
      "Your hand: ['2 of Hearts', 'Ace of Diamonds', '8 of Hearts']\n"
     ]
    },
    {
     "name": "stdin",
     "output_type": "stream",
     "text": [
      "Do you want to (h)it or (s)tand?  s\n"
     ]
    },
    {
     "name": "stdout",
     "output_type": "stream",
     "text": [
      "Player 1 stands.\n",
      "\n",
      "Player 2's turn:\n"
     ]
    },
    {
     "name": "stdin",
     "output_type": "stream",
     "text": [
      "Do you want to (h)it or (s)tand?  h\n"
     ]
    },
    {
     "name": "stdout",
     "output_type": "stream",
     "text": [
      "Player 2 draws: 5 of Spades\n",
      "Your hand: ['4 of Spades', 'King of Hearts', '5 of Spades']\n"
     ]
    },
    {
     "name": "stdin",
     "output_type": "stream",
     "text": [
      "Do you want to (h)it or (s)tand?  s\n"
     ]
    },
    {
     "name": "stdout",
     "output_type": "stream",
     "text": [
      "Player 2 stands.\n",
      "\n",
      "Player 3's turn:\n"
     ]
    },
    {
     "name": "stdin",
     "output_type": "stream",
     "text": [
      "Do you want to (h)it or (s)tand?  h\n"
     ]
    },
    {
     "name": "stdout",
     "output_type": "stream",
     "text": [
      "Player 3 draws: 4 of Clubs\n",
      "Your hand: ['3 of Spades', '3 of Hearts', '4 of Clubs']\n"
     ]
    },
    {
     "name": "stdin",
     "output_type": "stream",
     "text": [
      "Do you want to (h)it or (s)tand?  s\n"
     ]
    },
    {
     "name": "stdout",
     "output_type": "stream",
     "text": [
      "Player 3 stands.\n",
      "\n",
      "Player 4's turn:\n"
     ]
    },
    {
     "name": "stdin",
     "output_type": "stream",
     "text": [
      "Do you want to (h)it or (s)tand?  h\n"
     ]
    },
    {
     "name": "stdout",
     "output_type": "stream",
     "text": [
      "Player 4 draws: 8 of Clubs\n",
      "Your hand: ['Jack of Hearts', 'King of Hearts', '8 of Clubs']\n",
      "\n",
      "Dealer's turn:\n",
      "Dealer stands.\n",
      "\n",
      "Round Results:\n",
      "Player 1 wins!\n",
      "Player 2 wins!\n",
      "Player 3 loses!\n",
      "Player 4 loses!\n",
      "\n",
      "--- New Round ---\n"
     ]
    },
    {
     "name": "stdin",
     "output_type": "stream",
     "text": [
      "Player 1, place your bet:  s\n"
     ]
    },
    {
     "name": "stdout",
     "output_type": "stream",
     "text": [
      "Invalid input. Please enter a valid integer.\n"
     ]
    },
    {
     "name": "stdin",
     "output_type": "stream",
     "text": [
      "Player 1, place your bet:  4\n",
      "Player 2, place your bet:  4\n",
      "Player 3, place your bet:  4\n",
      "Player 4, place your bet:  4\n"
     ]
    },
    {
     "name": "stdout",
     "output_type": "stream",
     "text": [
      "\n",
      "Player 1's turn:\n"
     ]
    },
    {
     "name": "stdin",
     "output_type": "stream",
     "text": [
      "Do you want to (h)it or (s)tand?  h\n"
     ]
    },
    {
     "name": "stdout",
     "output_type": "stream",
     "text": [
      "Player 1 draws: 3 of Spades\n",
      "Your hand: ['4 of Hearts', 'Jack of Clubs', '3 of Spades']\n"
     ]
    },
    {
     "name": "stdin",
     "output_type": "stream",
     "text": [
      "Do you want to (h)it or (s)tand?  s\n"
     ]
    },
    {
     "name": "stdout",
     "output_type": "stream",
     "text": [
      "Player 1 stands.\n",
      "\n",
      "Player 2's turn:\n"
     ]
    },
    {
     "name": "stdin",
     "output_type": "stream",
     "text": [
      "Do you want to (h)it or (s)tand?  h\n"
     ]
    },
    {
     "name": "stdout",
     "output_type": "stream",
     "text": [
      "Player 2 draws: 2 of Spades\n",
      "Your hand: ['6 of Spades', '2 of Clubs', '2 of Spades']\n"
     ]
    },
    {
     "name": "stdin",
     "output_type": "stream",
     "text": [
      "Do you want to (h)it or (s)tand?  h\n"
     ]
    },
    {
     "name": "stdout",
     "output_type": "stream",
     "text": [
      "Player 2 draws: 2 of Diamonds\n",
      "Your hand: ['6 of Spades', '2 of Clubs', '2 of Spades', '2 of Diamonds']\n"
     ]
    },
    {
     "name": "stdin",
     "output_type": "stream",
     "text": [
      "Do you want to (h)it or (s)tand?  s\n"
     ]
    },
    {
     "name": "stdout",
     "output_type": "stream",
     "text": [
      "Player 2 stands.\n",
      "\n",
      "Player 3's turn:\n"
     ]
    },
    {
     "name": "stdin",
     "output_type": "stream",
     "text": [
      "Do you want to (h)it or (s)tand?  h\n"
     ]
    },
    {
     "name": "stdout",
     "output_type": "stream",
     "text": [
      "Player 3 draws: 6 of Clubs\n",
      "Your hand: ['Ace of Spades', '8 of Diamonds', '6 of Clubs']\n"
     ]
    },
    {
     "name": "stdin",
     "output_type": "stream",
     "text": [
      "Do you want to (h)it or (s)tand?  s\n"
     ]
    },
    {
     "name": "stdout",
     "output_type": "stream",
     "text": [
      "Player 3 stands.\n",
      "\n",
      "Player 4's turn:\n"
     ]
    },
    {
     "name": "stdin",
     "output_type": "stream",
     "text": [
      "Do you want to (h)it or (s)tand?  h\n"
     ]
    },
    {
     "name": "stdout",
     "output_type": "stream",
     "text": [
      "Player 4 draws: 8 of Hearts\n",
      "Your hand: ['4 of Spades', '10 of Clubs', '8 of Hearts']\n",
      "\n",
      "Dealer's turn:\n",
      "Dealer stands.\n",
      "\n",
      "Round Results:\n",
      "Player 1 loses!\n",
      "Player 2 loses!\n",
      "Player 3 loses!\n",
      "Player 4 loses!\n",
      "\n",
      "--- New Round ---\n"
     ]
    },
    {
     "name": "stdin",
     "output_type": "stream",
     "text": [
      "Player 1, place your bet:  s\n"
     ]
    },
    {
     "name": "stdout",
     "output_type": "stream",
     "text": [
      "Invalid input. Please enter a valid integer.\n"
     ]
    },
    {
     "name": "stdin",
     "output_type": "stream",
     "text": [
      "Player 1, place your bet:  5\n",
      "Player 2, place your bet:  5\n",
      "Player 3, place your bet:  5\n",
      "Player 4, place your bet:  5\n"
     ]
    },
    {
     "name": "stdout",
     "output_type": "stream",
     "text": [
      "\n",
      "Player 1's turn:\n"
     ]
    },
    {
     "name": "stdin",
     "output_type": "stream",
     "text": [
      "Do you want to (h)it or (s)tand?  h\n"
     ]
    },
    {
     "name": "stdout",
     "output_type": "stream",
     "text": [
      "Player 1 draws: 10 of Clubs\n",
      "Your hand: ['2 of Diamonds', '9 of Diamonds', '10 of Clubs']\n"
     ]
    },
    {
     "name": "stdin",
     "output_type": "stream",
     "text": [
      "Do you want to (h)it or (s)tand?  s\n"
     ]
    },
    {
     "name": "stdout",
     "output_type": "stream",
     "text": [
      "Player 1 stands.\n",
      "\n",
      "Player 2's turn:\n"
     ]
    },
    {
     "name": "stdin",
     "output_type": "stream",
     "text": [
      "Do you want to (h)it or (s)tand?  h\n"
     ]
    },
    {
     "name": "stdout",
     "output_type": "stream",
     "text": [
      "Player 2 draws: 9 of Hearts\n",
      "Your hand: ['3 of Clubs', 'Jack of Clubs', '9 of Hearts']\n",
      "\n",
      "Player 3's turn:\n"
     ]
    },
    {
     "name": "stdin",
     "output_type": "stream",
     "text": [
      "Do you want to (h)it or (s)tand?  s\n"
     ]
    },
    {
     "name": "stdout",
     "output_type": "stream",
     "text": [
      "Player 3 stands.\n",
      "\n",
      "Player 4's turn:\n"
     ]
    },
    {
     "name": "stdin",
     "output_type": "stream",
     "text": [
      "Do you want to (h)it or (s)tand?  h\n"
     ]
    },
    {
     "name": "stdout",
     "output_type": "stream",
     "text": [
      "Player 4 draws: Jack of Spades\n",
      "Your hand: ['2 of Diamonds', 'King of Hearts', 'Jack of Spades']\n",
      "\n",
      "Dealer's turn:\n",
      "Dealer draws: 4 of Spades\n",
      "Dealer's hand: ['Jack of Spades', '3 of Hearts', '4 of Spades']\n",
      "Dealer stands.\n",
      "\n",
      "Round Results:\n",
      "Player 1 wins!\n",
      "Player 2 loses!\n",
      "Player 3 loses!\n",
      "Player 4 loses!\n",
      "\n",
      "--- New Round ---\n"
     ]
    },
    {
     "name": "stdin",
     "output_type": "stream",
     "text": [
      "Player 1, place your bet:  s\n"
     ]
    },
    {
     "name": "stdout",
     "output_type": "stream",
     "text": [
      "Invalid input. Please enter a valid integer.\n"
     ]
    },
    {
     "name": "stdin",
     "output_type": "stream",
     "text": [
      "Player 1, place your bet:  4\n",
      "Player 2, place your bet:  4\n",
      "Player 3, place your bet:  4\n",
      "Player 4, place your bet:  4\n"
     ]
    },
    {
     "name": "stdout",
     "output_type": "stream",
     "text": [
      "\n",
      "Player 1's turn:\n"
     ]
    },
    {
     "name": "stdin",
     "output_type": "stream",
     "text": [
      "Do you want to (h)it or (s)tand?  h\n"
     ]
    },
    {
     "name": "stdout",
     "output_type": "stream",
     "text": [
      "Player 1 draws: 8 of Hearts\n",
      "Your hand: ['Jack of Diamonds', '10 of Spades', '8 of Hearts']\n",
      "\n",
      "Player 2's turn:\n"
     ]
    },
    {
     "name": "stdin",
     "output_type": "stream",
     "text": [
      "Do you want to (h)it or (s)tand?  s\n"
     ]
    },
    {
     "name": "stdout",
     "output_type": "stream",
     "text": [
      "Player 2 stands.\n",
      "\n",
      "Player 3's turn:\n",
      "\n",
      "Player 4's turn:\n"
     ]
    },
    {
     "name": "stdin",
     "output_type": "stream",
     "text": [
      "Do you want to (h)it or (s)tand?  h\n"
     ]
    },
    {
     "name": "stdout",
     "output_type": "stream",
     "text": [
      "Player 4 draws: King of Spades\n",
      "Your hand: ['4 of Spades', '4 of Diamonds', 'King of Spades']\n"
     ]
    },
    {
     "name": "stdin",
     "output_type": "stream",
     "text": [
      "Do you want to (h)it or (s)tand?  s\n"
     ]
    },
    {
     "name": "stdout",
     "output_type": "stream",
     "text": [
      "Player 4 stands.\n",
      "\n",
      "Dealer's turn:\n",
      "Dealer draws: 6 of Spades\n",
      "Dealer's hand: ['Queen of Hearts', '4 of Spades', '6 of Spades']\n",
      "Dealer stands.\n",
      "\n",
      "Round Results:\n",
      "Player 1 loses!\n",
      "Player 2 loses!\n",
      "Player 3 wins!\n",
      "Player 4 loses!\n",
      "\n",
      "--- New Round ---\n"
     ]
    },
    {
     "name": "stdin",
     "output_type": "stream",
     "text": [
      "Player 1, place your bet:  h\n"
     ]
    },
    {
     "name": "stdout",
     "output_type": "stream",
     "text": [
      "Invalid input. Please enter a valid integer.\n"
     ]
    },
    {
     "name": "stdin",
     "output_type": "stream",
     "text": [
      "Player 1, place your bet:  s\n"
     ]
    },
    {
     "name": "stdout",
     "output_type": "stream",
     "text": [
      "Invalid input. Please enter a valid integer.\n"
     ]
    },
    {
     "name": "stdin",
     "output_type": "stream",
     "text": [
      "Player 1, place your bet:  5\n",
      "Player 2, place your bet:  5\n",
      "Player 3, place your bet:  5\n",
      "Player 4, place your bet:  5\n"
     ]
    },
    {
     "name": "stdout",
     "output_type": "stream",
     "text": [
      "\n",
      "Player 1's turn:\n"
     ]
    },
    {
     "name": "stdin",
     "output_type": "stream",
     "text": [
      "Do you want to (h)it or (s)tand?  h\n"
     ]
    },
    {
     "name": "stdout",
     "output_type": "stream",
     "text": [
      "Player 1 draws: Queen of Diamonds\n",
      "Your hand: ['King of Clubs', '4 of Diamonds', 'Queen of Diamonds']\n",
      "\n",
      "Player 2's turn:\n"
     ]
    },
    {
     "name": "stdin",
     "output_type": "stream",
     "text": [
      "Do you want to (h)it or (s)tand?  s\n"
     ]
    },
    {
     "name": "stdout",
     "output_type": "stream",
     "text": [
      "Player 2 stands.\n",
      "\n",
      "Player 3's turn:\n",
      "\n",
      "Player 4's turn:\n"
     ]
    },
    {
     "name": "stdin",
     "output_type": "stream",
     "text": [
      "Do you want to (h)it or (s)tand?  h\n"
     ]
    },
    {
     "name": "stdout",
     "output_type": "stream",
     "text": [
      "Player 4 draws: 5 of Hearts\n",
      "Your hand: ['6 of Diamonds', 'Queen of Spades', '5 of Hearts']\n"
     ]
    },
    {
     "name": "stdin",
     "output_type": "stream",
     "text": [
      "Do you want to (h)it or (s)tand?  s\n"
     ]
    },
    {
     "name": "stdout",
     "output_type": "stream",
     "text": [
      "Player 4 stands.\n",
      "\n",
      "Dealer's turn:\n",
      "Dealer draws: 4 of Spades\n",
      "Dealer's hand: ['5 of Clubs', '4 of Spades', '4 of Spades']\n",
      "Dealer draws: 9 of Diamonds\n",
      "Dealer's hand: ['5 of Clubs', '4 of Spades', '4 of Spades', '9 of Diamonds']\n",
      "\n",
      "Round Results:\n",
      "Player 1 loses!\n",
      "Player 2 wins!\n",
      "Player 3 wins!\n",
      "Player 4 wins!\n",
      "\n",
      "--- New Round ---\n"
     ]
    },
    {
     "name": "stdin",
     "output_type": "stream",
     "text": [
      "Player 1, place your bet:  h\n"
     ]
    },
    {
     "name": "stdout",
     "output_type": "stream",
     "text": [
      "Invalid input. Please enter a valid integer.\n"
     ]
    },
    {
     "name": "stdin",
     "output_type": "stream",
     "text": [
      "Player 1, place your bet:  5\n",
      "Player 2, place your bet:  5\n",
      "Player 3, place your bet:  5\n",
      "Player 4, place your bet:  5\n"
     ]
    },
    {
     "name": "stdout",
     "output_type": "stream",
     "text": [
      "\n",
      "Player 1's turn:\n"
     ]
    },
    {
     "name": "stdin",
     "output_type": "stream",
     "text": [
      "Do you want to (h)it or (s)tand?  h\n"
     ]
    },
    {
     "name": "stdout",
     "output_type": "stream",
     "text": [
      "Player 1 draws: King of Clubs\n",
      "Your hand: ['9 of Spades', '8 of Clubs', 'King of Clubs']\n",
      "\n",
      "Player 2's turn:\n"
     ]
    },
    {
     "name": "stdin",
     "output_type": "stream",
     "text": [
      "Do you want to (h)it or (s)tand?  s\n"
     ]
    },
    {
     "name": "stdout",
     "output_type": "stream",
     "text": [
      "Player 2 stands.\n",
      "\n",
      "Player 3's turn:\n"
     ]
    },
    {
     "name": "stdin",
     "output_type": "stream",
     "text": [
      "Do you want to (h)it or (s)tand?  h\n"
     ]
    },
    {
     "name": "stdout",
     "output_type": "stream",
     "text": [
      "Player 3 draws: Ace of Clubs\n",
      "Your hand: ['9 of Diamonds', '5 of Hearts', 'Ace of Clubs']\n"
     ]
    },
    {
     "name": "stdin",
     "output_type": "stream",
     "text": [
      "Do you want to (h)it or (s)tand?  s\n"
     ]
    },
    {
     "name": "stdout",
     "output_type": "stream",
     "text": [
      "Player 3 stands.\n",
      "\n",
      "Player 4's turn:\n"
     ]
    },
    {
     "name": "stdin",
     "output_type": "stream",
     "text": [
      "Do you want to (h)it or (s)tand?  h\n"
     ]
    },
    {
     "name": "stdout",
     "output_type": "stream",
     "text": [
      "Player 4 draws: 9 of Hearts\n",
      "Your hand: ['8 of Clubs', '10 of Clubs', '9 of Hearts']\n",
      "\n",
      "Dealer's turn:\n",
      "Dealer draws: 2 of Clubs\n",
      "Dealer's hand: ['Jack of Spades', '4 of Diamonds', '2 of Clubs']\n",
      "Dealer draws: Queen of Diamonds\n",
      "Dealer's hand: ['Jack of Spades', '4 of Diamonds', '2 of Clubs', 'Queen of Diamonds']\n",
      "\n",
      "Round Results:\n",
      "Player 1 loses!\n",
      "Player 2 wins!\n",
      "Player 3 wins!\n",
      "Player 4 loses!\n",
      "\n",
      "--- New Round ---\n"
     ]
    },
    {
     "name": "stdin",
     "output_type": "stream",
     "text": [
      "Player 1, place your bet:  s\n"
     ]
    },
    {
     "name": "stdout",
     "output_type": "stream",
     "text": [
      "Invalid input. Please enter a valid integer.\n"
     ]
    },
    {
     "name": "stdin",
     "output_type": "stream",
     "text": [
      "Player 1, place your bet:  5\n",
      "Player 2, place your bet:  5\n",
      "Player 3, place your bet:  5\n",
      "Player 4, place your bet:  5\n"
     ]
    },
    {
     "name": "stdout",
     "output_type": "stream",
     "text": [
      "\n",
      "Player 1's turn:\n"
     ]
    },
    {
     "name": "stdin",
     "output_type": "stream",
     "text": [
      "Do you want to (h)it or (s)tand?  h\n"
     ]
    },
    {
     "name": "stdout",
     "output_type": "stream",
     "text": [
      "Player 1 draws: 3 of Clubs\n",
      "Your hand: ['9 of Clubs', 'King of Clubs', '3 of Clubs']\n",
      "\n",
      "Player 2's turn:\n"
     ]
    },
    {
     "name": "stdin",
     "output_type": "stream",
     "text": [
      "Do you want to (h)it or (s)tand?  s\n"
     ]
    },
    {
     "name": "stdout",
     "output_type": "stream",
     "text": [
      "Player 2 stands.\n",
      "\n",
      "Player 3's turn:\n"
     ]
    },
    {
     "name": "stdin",
     "output_type": "stream",
     "text": [
      "Do you want to (h)it or (s)tand?  h\n"
     ]
    },
    {
     "name": "stdout",
     "output_type": "stream",
     "text": [
      "Player 3 draws: 8 of Clubs\n",
      "Your hand: ['7 of Clubs', '9 of Hearts', '8 of Clubs']\n",
      "\n",
      "Player 4's turn:\n"
     ]
    },
    {
     "name": "stdin",
     "output_type": "stream",
     "text": [
      "Do you want to (h)it or (s)tand?  s\n"
     ]
    },
    {
     "name": "stdout",
     "output_type": "stream",
     "text": [
      "Player 4 stands.\n",
      "\n",
      "Dealer's turn:\n",
      "Dealer stands.\n",
      "\n",
      "Round Results:\n",
      "Player 1 loses!\n",
      "Player 2 loses!\n",
      "Player 3 loses!\n",
      "Player 4 pushes!\n",
      "\n",
      "--- New Round ---\n"
     ]
    },
    {
     "name": "stdin",
     "output_type": "stream",
     "text": [
      "Player 1, place your bet:  5\n",
      "Player 2, place your bet:  5\n",
      "Player 3, place your bet:  5\n",
      "Player 4, place your bet:  5\n"
     ]
    },
    {
     "name": "stdout",
     "output_type": "stream",
     "text": [
      "\n",
      "Player 1's turn:\n"
     ]
    },
    {
     "name": "stdin",
     "output_type": "stream",
     "text": [
      "Do you want to (h)it or (s)tand?  h\n"
     ]
    },
    {
     "name": "stdout",
     "output_type": "stream",
     "text": [
      "Player 1 draws: 8 of Hearts\n",
      "Your hand: ['6 of Diamonds', '5 of Hearts', '8 of Hearts']\n"
     ]
    },
    {
     "name": "stdin",
     "output_type": "stream",
     "text": [
      "Do you want to (h)it or (s)tand?  s\n"
     ]
    },
    {
     "name": "stdout",
     "output_type": "stream",
     "text": [
      "Player 1 stands.\n",
      "\n",
      "Player 2's turn:\n"
     ]
    },
    {
     "name": "stdin",
     "output_type": "stream",
     "text": [
      "Do you want to (h)it or (s)tand?  s\n"
     ]
    },
    {
     "name": "stdout",
     "output_type": "stream",
     "text": [
      "Player 2 stands.\n",
      "\n",
      "Player 3's turn:\n"
     ]
    },
    {
     "name": "stdin",
     "output_type": "stream",
     "text": [
      "Do you want to (h)it or (s)tand?  s\n"
     ]
    },
    {
     "name": "stdout",
     "output_type": "stream",
     "text": [
      "Player 3 stands.\n",
      "\n",
      "Player 4's turn:\n"
     ]
    },
    {
     "name": "stdin",
     "output_type": "stream",
     "text": [
      "Do you want to (h)it or (s)tand?  s\n"
     ]
    },
    {
     "name": "stdout",
     "output_type": "stream",
     "text": [
      "Player 4 stands.\n",
      "\n",
      "Dealer's turn:\n",
      "Dealer draws: King of Diamonds\n",
      "Dealer's hand: ['7 of Diamonds', '4 of Spades', 'King of Diamonds']\n",
      "Dealer stands.\n",
      "\n",
      "Round Results:\n",
      "Player 1 loses!\n",
      "Player 2 loses!\n",
      "Player 3 loses!\n",
      "Player 4 loses!\n",
      "\n",
      "--- New Round ---\n"
     ]
    },
    {
     "name": "stdin",
     "output_type": "stream",
     "text": [
      "Player 1, place your bet:  5\n",
      "Player 2, place your bet:  5\n",
      "Player 3, place your bet:  5\n",
      "Player 4, place your bet:  5\n"
     ]
    },
    {
     "name": "stdout",
     "output_type": "stream",
     "text": [
      "\n",
      "Player 1's turn:\n"
     ]
    },
    {
     "name": "stdin",
     "output_type": "stream",
     "text": [
      "Do you want to (h)it or (s)tand?  h\n"
     ]
    },
    {
     "name": "stdout",
     "output_type": "stream",
     "text": [
      "Player 1 draws: 2 of Clubs\n",
      "Your hand: ['10 of Hearts', 'Jack of Hearts', '2 of Clubs']\n",
      "\n",
      "Player 2's turn:\n"
     ]
    },
    {
     "name": "stdin",
     "output_type": "stream",
     "text": [
      "Do you want to (h)it or (s)tand?  s\n"
     ]
    },
    {
     "name": "stdout",
     "output_type": "stream",
     "text": [
      "Player 2 stands.\n",
      "\n",
      "Player 3's turn:\n"
     ]
    },
    {
     "name": "stdin",
     "output_type": "stream",
     "text": [
      "Do you want to (h)it or (s)tand?  h\n"
     ]
    },
    {
     "name": "stdout",
     "output_type": "stream",
     "text": [
      "Player 3 draws: Ace of Clubs\n",
      "Your hand: ['3 of Spades', 'Queen of Hearts', 'Ace of Clubs']\n"
     ]
    },
    {
     "name": "stdin",
     "output_type": "stream",
     "text": [
      "Do you want to (h)it or (s)tand?  s\n"
     ]
    },
    {
     "name": "stdout",
     "output_type": "stream",
     "text": [
      "Player 3 stands.\n",
      "\n",
      "Player 4's turn:\n"
     ]
    },
    {
     "name": "stdin",
     "output_type": "stream",
     "text": [
      "Do you want to (h)it or (s)tand?  h\n"
     ]
    },
    {
     "name": "stdout",
     "output_type": "stream",
     "text": [
      "Player 4 draws: 4 of Hearts\n",
      "Your hand: ['9 of Diamonds', '3 of Hearts', '4 of Hearts']\n"
     ]
    },
    {
     "name": "stdin",
     "output_type": "stream",
     "text": [
      "Do you want to (h)it or (s)tand?  s\n"
     ]
    },
    {
     "name": "stdout",
     "output_type": "stream",
     "text": [
      "Player 4 stands.\n",
      "\n",
      "Dealer's turn:\n",
      "Dealer stands.\n",
      "\n",
      "Round Results:\n",
      "Player 1 loses!\n",
      "Player 2 loses!\n",
      "Player 3 loses!\n",
      "Player 4 loses!\n",
      "\n",
      "--- New Round ---\n"
     ]
    },
    {
     "name": "stdin",
     "output_type": "stream",
     "text": [
      "Player 1, place your bet:  4\n",
      "Player 2, place your bet:  4\n",
      "Player 3, place your bet:  4\n",
      "Player 4, place your bet:  4\n"
     ]
    },
    {
     "name": "stdout",
     "output_type": "stream",
     "text": [
      "\n",
      "Player 1's turn:\n"
     ]
    },
    {
     "name": "stdin",
     "output_type": "stream",
     "text": [
      "Do you want to (h)it or (s)tand?  h\n"
     ]
    },
    {
     "name": "stdout",
     "output_type": "stream",
     "text": [
      "Player 1 draws: 4 of Clubs\n",
      "Your hand: ['7 of Clubs', '8 of Clubs', '4 of Clubs']\n"
     ]
    },
    {
     "name": "stdin",
     "output_type": "stream",
     "text": [
      "Do you want to (h)it or (s)tand?  s\n"
     ]
    },
    {
     "name": "stdout",
     "output_type": "stream",
     "text": [
      "Player 1 stands.\n",
      "\n",
      "Player 2's turn:\n"
     ]
    },
    {
     "name": "stdin",
     "output_type": "stream",
     "text": [
      "Do you want to (h)it or (s)tand?  h\n"
     ]
    },
    {
     "name": "stdout",
     "output_type": "stream",
     "text": [
      "Player 2 draws: 10 of Hearts\n",
      "Your hand: ['9 of Clubs', '8 of Spades', '10 of Hearts']\n",
      "\n",
      "Player 3's turn:\n"
     ]
    },
    {
     "name": "stdin",
     "output_type": "stream",
     "text": [
      "Do you want to (h)it or (s)tand?  s\n"
     ]
    },
    {
     "name": "stdout",
     "output_type": "stream",
     "text": [
      "Player 3 stands.\n",
      "\n",
      "Player 4's turn:\n"
     ]
    },
    {
     "name": "stdin",
     "output_type": "stream",
     "text": [
      "Do you want to (h)it or (s)tand?  h\n"
     ]
    },
    {
     "name": "stdout",
     "output_type": "stream",
     "text": [
      "Player 4 draws: 2 of Diamonds\n",
      "Your hand: ['Jack of Clubs', '8 of Spades', '2 of Diamonds']\n"
     ]
    },
    {
     "name": "stdin",
     "output_type": "stream",
     "text": [
      "Do you want to (h)it or (s)tand?  h\n"
     ]
    },
    {
     "name": "stdout",
     "output_type": "stream",
     "text": [
      "Player 4 draws: 7 of Hearts\n",
      "Your hand: ['Jack of Clubs', '8 of Spades', '2 of Diamonds', '7 of Hearts']\n",
      "\n",
      "Dealer's turn:\n",
      "Dealer stands.\n",
      "\n",
      "Round Results:\n",
      "Player 1 wins!\n",
      "Player 2 loses!\n",
      "Player 3 loses!\n",
      "Player 4 loses!\n",
      "\n",
      "--- New Round ---\n"
     ]
    },
    {
     "name": "stdin",
     "output_type": "stream",
     "text": [
      "Player 1, place your bet:  s\n"
     ]
    },
    {
     "name": "stdout",
     "output_type": "stream",
     "text": [
      "Invalid input. Please enter a valid integer.\n"
     ]
    },
    {
     "name": "stdin",
     "output_type": "stream",
     "text": [
      "Player 1, place your bet:  4\n",
      "Player 2, place your bet:  4\n",
      "Player 3, place your bet:  4\n",
      "Player 4, place your bet:  4\n"
     ]
    },
    {
     "name": "stdout",
     "output_type": "stream",
     "text": [
      "\n",
      "Player 1's turn:\n"
     ]
    },
    {
     "name": "stdin",
     "output_type": "stream",
     "text": [
      "Do you want to (h)it or (s)tand?  4\n",
      "Do you want to (h)it or (s)tand?  4\n",
      "Do you want to (h)it or (s)tand?  4\n",
      "Do you want to (h)it or (s)tand?  h\n"
     ]
    },
    {
     "name": "stdout",
     "output_type": "stream",
     "text": [
      "Player 1 draws: Jack of Diamonds\n",
      "Your hand: ['Ace of Hearts', '8 of Spades', 'Jack of Diamonds']\n"
     ]
    },
    {
     "name": "stdin",
     "output_type": "stream",
     "text": [
      "Do you want to (h)it or (s)tand?  s\n"
     ]
    },
    {
     "name": "stdout",
     "output_type": "stream",
     "text": [
      "Player 1 stands.\n",
      "\n",
      "Player 2's turn:\n"
     ]
    },
    {
     "name": "stdin",
     "output_type": "stream",
     "text": [
      "Do you want to (h)it or (s)tand?  h\n"
     ]
    },
    {
     "name": "stdout",
     "output_type": "stream",
     "text": [
      "Player 2 draws: 7 of Hearts\n",
      "Your hand: ['10 of Diamonds', '2 of Clubs', '7 of Hearts']\n"
     ]
    },
    {
     "name": "stdin",
     "output_type": "stream",
     "text": [
      "Do you want to (h)it or (s)tand?  s\n"
     ]
    },
    {
     "name": "stdout",
     "output_type": "stream",
     "text": [
      "Player 2 stands.\n",
      "\n",
      "Player 3's turn:\n"
     ]
    },
    {
     "name": "stdin",
     "output_type": "stream",
     "text": [
      "Do you want to (h)it or (s)tand?  h\n"
     ]
    },
    {
     "name": "stdout",
     "output_type": "stream",
     "text": [
      "Player 3 draws: 6 of Diamonds\n",
      "Your hand: ['5 of Clubs', 'King of Diamonds', '6 of Diamonds']\n"
     ]
    },
    {
     "name": "stdin",
     "output_type": "stream",
     "text": [
      "Do you want to (h)it or (s)tand?  s\n"
     ]
    },
    {
     "name": "stdout",
     "output_type": "stream",
     "text": [
      "Player 3 stands.\n",
      "\n",
      "Player 4's turn:\n"
     ]
    },
    {
     "name": "stdin",
     "output_type": "stream",
     "text": [
      "Do you want to (h)it or (s)tand?  h\n"
     ]
    },
    {
     "name": "stdout",
     "output_type": "stream",
     "text": [
      "Player 4 draws: Ace of Clubs\n",
      "Your hand: ['Jack of Clubs', '8 of Clubs', 'Ace of Clubs']\n"
     ]
    },
    {
     "name": "stdin",
     "output_type": "stream",
     "text": [
      "Do you want to (h)it or (s)tand?  s\n"
     ]
    },
    {
     "name": "stdout",
     "output_type": "stream",
     "text": [
      "Player 4 stands.\n",
      "\n",
      "Dealer's turn:\n",
      "Dealer stands.\n",
      "\n",
      "Round Results:\n",
      "Player 1 loses!\n",
      "Player 2 loses!\n",
      "Player 3 wins!\n",
      "Player 4 loses!\n",
      "\n",
      "--- New Round ---\n"
     ]
    },
    {
     "name": "stdin",
     "output_type": "stream",
     "text": [
      "Player 1, place your bet:  6\n",
      "Player 2, place your bet:  6\n",
      "Player 3, place your bet:  6\n",
      "Player 4, place your bet:  6\n"
     ]
    },
    {
     "name": "stdout",
     "output_type": "stream",
     "text": [
      "\n",
      "Player 1's turn:\n"
     ]
    },
    {
     "name": "stdin",
     "output_type": "stream",
     "text": [
      "Do you want to (h)it or (s)tand?  6\n",
      "Do you want to (h)it or (s)tand?  h\n"
     ]
    },
    {
     "name": "stdout",
     "output_type": "stream",
     "text": [
      "Player 1 draws: 4 of Diamonds\n",
      "Your hand: ['7 of Spades', '9 of Clubs', '4 of Diamonds']\n"
     ]
    },
    {
     "name": "stdin",
     "output_type": "stream",
     "text": [
      "Do you want to (h)it or (s)tand?  s\n"
     ]
    },
    {
     "name": "stdout",
     "output_type": "stream",
     "text": [
      "Player 1 stands.\n",
      "\n",
      "Player 2's turn:\n"
     ]
    },
    {
     "name": "stdin",
     "output_type": "stream",
     "text": [
      "Do you want to (h)it or (s)tand?  h\n"
     ]
    },
    {
     "name": "stdout",
     "output_type": "stream",
     "text": [
      "Player 2 draws: Queen of Hearts\n",
      "Your hand: ['7 of Clubs', '7 of Hearts', 'Queen of Hearts']\n",
      "\n",
      "Player 3's turn:\n"
     ]
    },
    {
     "name": "stdin",
     "output_type": "stream",
     "text": [
      "Do you want to (h)it or (s)tand?  s\n"
     ]
    },
    {
     "name": "stdout",
     "output_type": "stream",
     "text": [
      "Player 3 stands.\n",
      "\n",
      "Player 4's turn:\n"
     ]
    },
    {
     "name": "stdin",
     "output_type": "stream",
     "text": [
      "Do you want to (h)it or (s)tand?  h\n"
     ]
    },
    {
     "name": "stdout",
     "output_type": "stream",
     "text": [
      "Player 4 draws: 6 of Hearts\n",
      "Your hand: ['6 of Hearts', '9 of Spades', '6 of Hearts']\n"
     ]
    },
    {
     "name": "stdin",
     "output_type": "stream",
     "text": [
      "Do you want to (h)it or (s)tand?  s\n"
     ]
    },
    {
     "name": "stdout",
     "output_type": "stream",
     "text": [
      "Player 4 stands.\n",
      "\n",
      "Dealer's turn:\n",
      "Dealer draws: 6 of Hearts\n",
      "Dealer's hand: ['5 of Spades', '10 of Hearts', '6 of Hearts']\n",
      "Dealer stands.\n",
      "\n",
      "Round Results:\n",
      "Player 1 loses!\n",
      "Player 2 loses!\n",
      "Player 3 loses!\n",
      "Player 4 pushes!\n",
      "\n",
      "--- New Round ---\n"
     ]
    },
    {
     "name": "stdin",
     "output_type": "stream",
     "text": [
      "Player 1, place your bet:  h\n"
     ]
    },
    {
     "name": "stdout",
     "output_type": "stream",
     "text": [
      "Invalid input. Please enter a valid integer.\n"
     ]
    },
    {
     "name": "stdin",
     "output_type": "stream",
     "text": [
      "Player 1, place your bet:  s\n"
     ]
    },
    {
     "name": "stdout",
     "output_type": "stream",
     "text": [
      "Invalid input. Please enter a valid integer.\n"
     ]
    },
    {
     "name": "stdin",
     "output_type": "stream",
     "text": [
      "Player 1, place your bet:  5\n",
      "Player 2, place your bet:  5\n",
      "Player 3, place your bet:  5\n",
      "Player 4, place your bet:  5\n"
     ]
    },
    {
     "name": "stdout",
     "output_type": "stream",
     "text": [
      "\n",
      "Player 1's turn:\n"
     ]
    },
    {
     "name": "stdin",
     "output_type": "stream",
     "text": [
      "Do you want to (h)it or (s)tand?  \n",
      "Do you want to (h)it or (s)tand?  h\n"
     ]
    },
    {
     "name": "stdout",
     "output_type": "stream",
     "text": [
      "Player 1 draws: King of Spades\n",
      "Your hand: ['10 of Diamonds', '2 of Spades', 'King of Spades']\n",
      "\n",
      "Player 2's turn:\n"
     ]
    },
    {
     "name": "stdin",
     "output_type": "stream",
     "text": [
      "Do you want to (h)it or (s)tand?  s\n"
     ]
    },
    {
     "name": "stdout",
     "output_type": "stream",
     "text": [
      "Player 2 stands.\n",
      "\n",
      "Player 3's turn:\n"
     ]
    },
    {
     "name": "stdin",
     "output_type": "stream",
     "text": [
      "Do you want to (h)it or (s)tand?  h\n"
     ]
    },
    {
     "name": "stdout",
     "output_type": "stream",
     "text": [
      "Player 3 draws: 3 of Spades\n",
      "Your hand: ['7 of Spades', '6 of Spades', '3 of Spades']\n"
     ]
    },
    {
     "name": "stdin",
     "output_type": "stream",
     "text": [
      "Do you want to (h)it or (s)tand?  s\n"
     ]
    },
    {
     "name": "stdout",
     "output_type": "stream",
     "text": [
      "Player 3 stands.\n",
      "\n",
      "Player 4's turn:\n"
     ]
    },
    {
     "name": "stdin",
     "output_type": "stream",
     "text": [
      "Do you want to (h)it or (s)tand?  h\n"
     ]
    },
    {
     "name": "stdout",
     "output_type": "stream",
     "text": [
      "Player 4 draws: 8 of Diamonds\n",
      "Your hand: ['Jack of Clubs', 'Jack of Spades', '8 of Diamonds']\n",
      "\n",
      "Dealer's turn:\n",
      "Dealer stands.\n",
      "\n",
      "Round Results:\n",
      "Player 1 loses!\n",
      "Player 2 loses!\n",
      "Player 3 loses!\n",
      "Player 4 loses!\n",
      "\n",
      "--- New Round ---\n"
     ]
    },
    {
     "name": "stdin",
     "output_type": "stream",
     "text": [
      "Player 1, place your bet:  s\n"
     ]
    },
    {
     "name": "stdout",
     "output_type": "stream",
     "text": [
      "Invalid input. Please enter a valid integer.\n"
     ]
    },
    {
     "name": "stdin",
     "output_type": "stream",
     "text": [
      "Player 1, place your bet:  5\n",
      "Player 2, place your bet:  5\n",
      "Player 3, place your bet:  5\n",
      "Player 4, place your bet:  5\n"
     ]
    },
    {
     "name": "stdout",
     "output_type": "stream",
     "text": [
      "\n",
      "Player 1's turn:\n"
     ]
    },
    {
     "name": "stdin",
     "output_type": "stream",
     "text": [
      "Do you want to (h)it or (s)tand?  h\n"
     ]
    },
    {
     "name": "stdout",
     "output_type": "stream",
     "text": [
      "Player 1 draws: 4 of Clubs\n",
      "Your hand: ['9 of Spades', 'Queen of Hearts', '4 of Clubs']\n",
      "\n",
      "Player 2's turn:\n"
     ]
    },
    {
     "name": "stdin",
     "output_type": "stream",
     "text": [
      "Do you want to (h)it or (s)tand?  s\n"
     ]
    },
    {
     "name": "stdout",
     "output_type": "stream",
     "text": [
      "Player 2 stands.\n",
      "\n",
      "Player 3's turn:\n"
     ]
    },
    {
     "name": "stdin",
     "output_type": "stream",
     "text": [
      "Do you want to (h)it or (s)tand?  h\n"
     ]
    },
    {
     "name": "stdout",
     "output_type": "stream",
     "text": [
      "Player 3 draws: Ace of Diamonds\n",
      "Your hand: ['4 of Hearts', '8 of Hearts', 'Ace of Diamonds']\n"
     ]
    },
    {
     "name": "stdin",
     "output_type": "stream",
     "text": [
      "Do you want to (h)it or (s)tand?  s\n"
     ]
    },
    {
     "name": "stdout",
     "output_type": "stream",
     "text": [
      "Player 3 stands.\n",
      "\n",
      "Player 4's turn:\n"
     ]
    },
    {
     "name": "stdin",
     "output_type": "stream",
     "text": [
      "Do you want to (h)it or (s)tand?  h\n"
     ]
    },
    {
     "name": "stdout",
     "output_type": "stream",
     "text": [
      "Player 4 draws: Queen of Spades\n",
      "Your hand: ['8 of Hearts', 'Ace of Spades', 'Queen of Spades']\n"
     ]
    },
    {
     "name": "stdin",
     "output_type": "stream",
     "text": [
      "Do you want to (h)it or (s)tand?  s\n"
     ]
    },
    {
     "name": "stdout",
     "output_type": "stream",
     "text": [
      "Player 4 stands.\n",
      "\n",
      "Dealer's turn:\n",
      "Dealer draws: Jack of Clubs\n",
      "Dealer's hand: ['King of Hearts', '3 of Diamonds', 'Jack of Clubs']\n",
      "\n",
      "Round Results:\n",
      "Player 1 loses!\n",
      "Player 2 wins!\n",
      "Player 3 wins!\n",
      "Player 4 wins!\n",
      "\n",
      "--- New Round ---\n"
     ]
    },
    {
     "name": "stdin",
     "output_type": "stream",
     "text": [
      "Player 1, place your bet:  h\n"
     ]
    },
    {
     "name": "stdout",
     "output_type": "stream",
     "text": [
      "Invalid input. Please enter a valid integer.\n"
     ]
    },
    {
     "name": "stdin",
     "output_type": "stream",
     "text": [
      "Player 1, place your bet:  5\n",
      "Player 2, place your bet:  5\n",
      "Player 3, place your bet:  5\n",
      "Player 4, place your bet:  5\n"
     ]
    },
    {
     "name": "stdout",
     "output_type": "stream",
     "text": [
      "\n",
      "Player 1's turn:\n"
     ]
    },
    {
     "name": "stdin",
     "output_type": "stream",
     "text": [
      "Do you want to (h)it or (s)tand?  h\n"
     ]
    },
    {
     "name": "stdout",
     "output_type": "stream",
     "text": [
      "Player 1 draws: Jack of Spades\n",
      "Your hand: ['Queen of Spades', 'King of Diamonds', 'Jack of Spades']\n",
      "\n",
      "Player 2's turn:\n"
     ]
    },
    {
     "name": "stdin",
     "output_type": "stream",
     "text": [
      "Do you want to (h)it or (s)tand?  s\n"
     ]
    },
    {
     "name": "stdout",
     "output_type": "stream",
     "text": [
      "Player 2 stands.\n",
      "\n",
      "Player 3's turn:\n"
     ]
    },
    {
     "name": "stdin",
     "output_type": "stream",
     "text": [
      "Do you want to (h)it or (s)tand?  h\n"
     ]
    },
    {
     "name": "stdout",
     "output_type": "stream",
     "text": [
      "Player 3 draws: 6 of Diamonds\n",
      "Your hand: ['King of Spades', '3 of Spades', '6 of Diamonds']\n"
     ]
    },
    {
     "name": "stdin",
     "output_type": "stream",
     "text": [
      "Do you want to (h)it or (s)tand?  s\n"
     ]
    },
    {
     "name": "stdout",
     "output_type": "stream",
     "text": [
      "Player 3 stands.\n",
      "\n",
      "Player 4's turn:\n"
     ]
    },
    {
     "name": "stdin",
     "output_type": "stream",
     "text": [
      "Do you want to (h)it or (s)tand?  h\n"
     ]
    },
    {
     "name": "stdout",
     "output_type": "stream",
     "text": [
      "Player 4 draws: King of Clubs\n",
      "Your hand: ['9 of Clubs', '7 of Diamonds', 'King of Clubs']\n",
      "\n",
      "Dealer's turn:\n",
      "Dealer draws: 9 of Diamonds\n",
      "Dealer's hand: ['4 of Hearts', 'Ace of Diamonds', '9 of Diamonds']\n",
      "Dealer draws: King of Spades\n",
      "Dealer's hand: ['4 of Hearts', 'Ace of Diamonds', '9 of Diamonds', 'King of Spades']\n",
      "\n",
      "Round Results:\n",
      "Player 1 loses!\n",
      "Player 2 wins!\n",
      "Player 3 wins!\n",
      "Player 4 loses!\n",
      "\n",
      "--- New Round ---\n"
     ]
    },
    {
     "name": "stdin",
     "output_type": "stream",
     "text": [
      "Player 1, place your bet:  s\n"
     ]
    },
    {
     "name": "stdout",
     "output_type": "stream",
     "text": [
      "Invalid input. Please enter a valid integer.\n"
     ]
    },
    {
     "name": "stdin",
     "output_type": "stream",
     "text": [
      "Player 1, place your bet:  h\n"
     ]
    },
    {
     "name": "stdout",
     "output_type": "stream",
     "text": [
      "Invalid input. Please enter a valid integer.\n"
     ]
    },
    {
     "name": "stdin",
     "output_type": "stream",
     "text": [
      "Player 1, place your bet:  5\n",
      "Player 2, place your bet:  5\n",
      "Player 3, place your bet:  5\n",
      "Player 4, place your bet:  5\n"
     ]
    },
    {
     "name": "stdout",
     "output_type": "stream",
     "text": [
      "\n",
      "Player 1's turn:\n"
     ]
    },
    {
     "name": "stdin",
     "output_type": "stream",
     "text": [
      "Do you want to (h)it or (s)tand?  h\n"
     ]
    },
    {
     "name": "stdout",
     "output_type": "stream",
     "text": [
      "Player 1 draws: 7 of Spades\n",
      "Your hand: ['5 of Spades', '5 of Spades', '7 of Spades']\n"
     ]
    },
    {
     "name": "stdin",
     "output_type": "stream",
     "text": [
      "Do you want to (h)it or (s)tand?  s\n"
     ]
    },
    {
     "name": "stdout",
     "output_type": "stream",
     "text": [
      "Player 1 stands.\n",
      "\n",
      "Player 2's turn:\n"
     ]
    },
    {
     "name": "stdin",
     "output_type": "stream",
     "text": [
      "Do you want to (h)it or (s)tand?  h\n"
     ]
    },
    {
     "name": "stdout",
     "output_type": "stream",
     "text": [
      "Player 2 draws: Jack of Hearts\n",
      "Your hand: ['3 of Diamonds', '10 of Diamonds', 'Jack of Hearts']\n",
      "\n",
      "Player 3's turn:\n"
     ]
    },
    {
     "name": "stdin",
     "output_type": "stream",
     "text": [
      "Do you want to (h)it or (s)tand?  s\n"
     ]
    },
    {
     "name": "stdout",
     "output_type": "stream",
     "text": [
      "Player 3 stands.\n",
      "\n",
      "Player 4's turn:\n"
     ]
    },
    {
     "name": "stdin",
     "output_type": "stream",
     "text": [
      "Do you want to (h)it or (s)tand?  h\n"
     ]
    },
    {
     "name": "stdout",
     "output_type": "stream",
     "text": [
      "Player 4 draws: Jack of Clubs\n",
      "Your hand: ['6 of Clubs', '6 of Spades', 'Jack of Clubs']\n",
      "\n",
      "Dealer's turn:\n",
      "Dealer draws: 8 of Diamonds\n",
      "Dealer's hand: ['6 of Hearts', '7 of Clubs', '8 of Diamonds']\n",
      "Dealer stands.\n",
      "\n",
      "Round Results:\n",
      "Player 1 loses!\n",
      "Player 2 loses!\n",
      "Player 3 loses!\n",
      "Player 4 loses!\n",
      "\n",
      "--- New Round ---\n"
     ]
    },
    {
     "name": "stdin",
     "output_type": "stream",
     "text": [
      "Player 1, place your bet:  5\n",
      "Player 2, place your bet:  5\n",
      "Player 3, place your bet:  5\n",
      "Player 4, place your bet:  5\n"
     ]
    },
    {
     "name": "stdout",
     "output_type": "stream",
     "text": [
      "\n",
      "Player 1's turn:\n"
     ]
    },
    {
     "name": "stdin",
     "output_type": "stream",
     "text": [
      "Do you want to (h)it or (s)tand?  h\n"
     ]
    },
    {
     "name": "stdout",
     "output_type": "stream",
     "text": [
      "Player 1 draws: 4 of Hearts\n",
      "Your hand: ['4 of Spades', 'King of Clubs', '4 of Hearts']\n"
     ]
    },
    {
     "name": "stdin",
     "output_type": "stream",
     "text": [
      "Do you want to (h)it or (s)tand?  s\n"
     ]
    },
    {
     "name": "stdout",
     "output_type": "stream",
     "text": [
      "Player 1 stands.\n",
      "\n",
      "Player 2's turn:\n"
     ]
    },
    {
     "name": "stdin",
     "output_type": "stream",
     "text": [
      "Do you want to (h)it or (s)tand?  h\n"
     ]
    },
    {
     "name": "stdout",
     "output_type": "stream",
     "text": [
      "Player 2 draws: Ace of Hearts\n",
      "Your hand: ['3 of Hearts', '8 of Diamonds', 'Ace of Hearts']\n"
     ]
    },
    {
     "name": "stdin",
     "output_type": "stream",
     "text": [
      "Do you want to (h)it or (s)tand?  s\n"
     ]
    },
    {
     "name": "stdout",
     "output_type": "stream",
     "text": [
      "Player 2 stands.\n",
      "\n",
      "Player 3's turn:\n"
     ]
    },
    {
     "name": "stdin",
     "output_type": "stream",
     "text": [
      "Do you want to (h)it or (s)tand?  h\n"
     ]
    },
    {
     "name": "stdout",
     "output_type": "stream",
     "text": [
      "Player 3 draws: 2 of Spades\n",
      "Your hand: ['Queen of Hearts', '9 of Diamonds', '2 of Spades']\n"
     ]
    },
    {
     "name": "stdin",
     "output_type": "stream",
     "text": [
      "Do you want to (h)it or (s)tand?  s\n"
     ]
    },
    {
     "name": "stdout",
     "output_type": "stream",
     "text": [
      "Player 3 stands.\n",
      "\n",
      "Player 4's turn:\n"
     ]
    },
    {
     "name": "stdin",
     "output_type": "stream",
     "text": [
      "Do you want to (h)it or (s)tand?  h\n"
     ]
    },
    {
     "name": "stdout",
     "output_type": "stream",
     "text": [
      "Player 4 draws: Queen of Diamonds\n",
      "Your hand: ['Ace of Clubs', '7 of Diamonds', 'Queen of Diamonds']\n"
     ]
    },
    {
     "name": "stdin",
     "output_type": "stream",
     "text": [
      "Do you want to (h)it or (s)tand?  s\n"
     ]
    },
    {
     "name": "stdout",
     "output_type": "stream",
     "text": [
      "Player 4 stands.\n",
      "\n",
      "Dealer's turn:\n",
      "Dealer draws: 7 of Clubs\n",
      "Dealer's hand: ['7 of Diamonds', '6 of Clubs', '7 of Clubs']\n",
      "Dealer stands.\n",
      "\n",
      "Round Results:\n",
      "Player 1 loses!\n",
      "Player 2 loses!\n",
      "Player 3 wins!\n",
      "Player 4 loses!\n",
      "\n",
      "--- New Round ---\n"
     ]
    },
    {
     "name": "stdin",
     "output_type": "stream",
     "text": [
      "Player 1, place your bet:  6\n",
      "Player 2, place your bet:  6\n",
      "Player 3, place your bet:  6\n",
      "Player 4, place your bet:  6\n"
     ]
    },
    {
     "name": "stdout",
     "output_type": "stream",
     "text": [
      "\n",
      "Player 1's turn:\n"
     ]
    },
    {
     "name": "stdin",
     "output_type": "stream",
     "text": [
      "Do you want to (h)it or (s)tand?  h\n"
     ]
    },
    {
     "name": "stdout",
     "output_type": "stream",
     "text": [
      "Player 1 draws: King of Hearts\n",
      "Your hand: ['5 of Spades', '3 of Spades', 'King of Hearts']\n"
     ]
    },
    {
     "name": "stdin",
     "output_type": "stream",
     "text": [
      "Do you want to (h)it or (s)tand?  s\n"
     ]
    },
    {
     "name": "stdout",
     "output_type": "stream",
     "text": [
      "Player 1 stands.\n",
      "\n",
      "Player 2's turn:\n"
     ]
    },
    {
     "name": "stdin",
     "output_type": "stream",
     "text": [
      "Do you want to (h)it or (s)tand?  h\n"
     ]
    },
    {
     "name": "stdout",
     "output_type": "stream",
     "text": [
      "Player 2 draws: 2 of Spades\n",
      "Your hand: ['2 of Diamonds', '2 of Diamonds', '2 of Spades']\n"
     ]
    },
    {
     "name": "stdin",
     "output_type": "stream",
     "text": [
      "Do you want to (h)it or (s)tand?  s\n"
     ]
    },
    {
     "name": "stdout",
     "output_type": "stream",
     "text": [
      "Player 2 stands.\n",
      "\n",
      "Player 3's turn:\n"
     ]
    },
    {
     "name": "stdin",
     "output_type": "stream",
     "text": [
      "Do you want to (h)it or (s)tand?  h\n"
     ]
    },
    {
     "name": "stdout",
     "output_type": "stream",
     "text": [
      "Player 3 draws: King of Clubs\n",
      "Your hand: ['3 of Clubs', 'Jack of Hearts', 'King of Clubs']\n",
      "\n",
      "Player 4's turn:\n"
     ]
    },
    {
     "name": "stdin",
     "output_type": "stream",
     "text": [
      "Do you want to (h)it or (s)tand?  s\n"
     ]
    },
    {
     "name": "stdout",
     "output_type": "stream",
     "text": [
      "Player 4 stands.\n",
      "\n",
      "Dealer's turn:\n",
      "Dealer draws: 5 of Clubs\n",
      "Dealer's hand: ['5 of Spades', 'Jack of Spades', '5 of Clubs']\n",
      "Dealer stands.\n",
      "\n",
      "Round Results:\n",
      "Player 1 loses!\n",
      "Player 2 loses!\n",
      "Player 3 loses!\n",
      "Player 4 loses!\n",
      "\n",
      "--- New Round ---\n"
     ]
    },
    {
     "name": "stdin",
     "output_type": "stream",
     "text": [
      "Player 1, place your bet:  h\n"
     ]
    },
    {
     "name": "stdout",
     "output_type": "stream",
     "text": [
      "Invalid input. Please enter a valid integer.\n"
     ]
    },
    {
     "name": "stdin",
     "output_type": "stream",
     "text": [
      "Player 1, place your bet:  5\n",
      "Player 2, place your bet:  5\n",
      "Player 3, place your bet:  5\n",
      "Player 4, place your bet:  5\n"
     ]
    },
    {
     "name": "stdout",
     "output_type": "stream",
     "text": [
      "\n",
      "Player 1's turn:\n"
     ]
    },
    {
     "name": "stdin",
     "output_type": "stream",
     "text": [
      "Do you want to (h)it or (s)tand?  h\n"
     ]
    },
    {
     "name": "stdout",
     "output_type": "stream",
     "text": [
      "Player 1 draws: Ace of Spades\n",
      "Your hand: ['5 of Spades', '3 of Clubs', 'Ace of Spades']\n"
     ]
    },
    {
     "name": "stdin",
     "output_type": "stream",
     "text": [
      "Do you want to (h)it or (s)tand?  s\n"
     ]
    },
    {
     "name": "stdout",
     "output_type": "stream",
     "text": [
      "Player 1 stands.\n",
      "\n",
      "Player 2's turn:\n",
      "\n",
      "Player 3's turn:\n"
     ]
    },
    {
     "name": "stdin",
     "output_type": "stream",
     "text": [
      "Do you want to (h)it or (s)tand?  h\n"
     ]
    },
    {
     "name": "stdout",
     "output_type": "stream",
     "text": [
      "Player 3 draws: 10 of Clubs\n",
      "Your hand: ['2 of Clubs', '5 of Clubs', '10 of Clubs']\n"
     ]
    },
    {
     "name": "stdin",
     "output_type": "stream",
     "text": [
      "Do you want to (h)it or (s)tand?  s\n"
     ]
    },
    {
     "name": "stdout",
     "output_type": "stream",
     "text": [
      "Player 3 stands.\n",
      "\n",
      "Player 4's turn:\n"
     ]
    },
    {
     "name": "stdin",
     "output_type": "stream",
     "text": [
      "Do you want to (h)it or (s)tand?  h\n"
     ]
    },
    {
     "name": "stdout",
     "output_type": "stream",
     "text": [
      "Player 4 draws: 5 of Spades\n",
      "Your hand: ['Jack of Spades', '7 of Diamonds', '5 of Spades']\n",
      "\n",
      "Dealer's turn:\n",
      "Dealer stands.\n",
      "\n",
      "Round Results:\n",
      "Player 1 pushes!\n",
      "Player 2 wins!\n",
      "Player 3 loses!\n",
      "Player 4 loses!\n",
      "\n",
      "--- New Round ---\n"
     ]
    },
    {
     "name": "stdin",
     "output_type": "stream",
     "text": [
      "Player 1, place your bet:  s\n"
     ]
    },
    {
     "name": "stdout",
     "output_type": "stream",
     "text": [
      "Invalid input. Please enter a valid integer.\n"
     ]
    },
    {
     "name": "stdin",
     "output_type": "stream",
     "text": [
      "Player 1, place your bet:  5\n",
      "Player 2, place your bet:  5\n",
      "Player 3, place your bet:  5\n",
      "Player 4, place your bet:  5\n"
     ]
    },
    {
     "name": "stdout",
     "output_type": "stream",
     "text": [
      "\n",
      "Player 1's turn:\n"
     ]
    },
    {
     "name": "stdin",
     "output_type": "stream",
     "text": [
      "Do you want to (h)it or (s)tand?  h\n"
     ]
    },
    {
     "name": "stdout",
     "output_type": "stream",
     "text": [
      "Player 1 draws: Ace of Clubs\n",
      "Your hand: ['10 of Diamonds', 'Jack of Hearts', 'Ace of Clubs']\n"
     ]
    },
    {
     "name": "stdin",
     "output_type": "stream",
     "text": [
      "Do you want to (h)it or (s)tand?  s\n"
     ]
    },
    {
     "name": "stdout",
     "output_type": "stream",
     "text": [
      "Player 1 stands.\n",
      "\n",
      "Player 2's turn:\n"
     ]
    },
    {
     "name": "stdin",
     "output_type": "stream",
     "text": [
      "Do you want to (h)it or (s)tand?  h\n"
     ]
    },
    {
     "name": "stdout",
     "output_type": "stream",
     "text": [
      "Player 2 draws: Queen of Hearts\n",
      "Your hand: ['5 of Clubs', '3 of Clubs', 'Queen of Hearts']\n"
     ]
    },
    {
     "name": "stdin",
     "output_type": "stream",
     "text": [
      "Do you want to (h)it or (s)tand?  s\n"
     ]
    },
    {
     "name": "stdout",
     "output_type": "stream",
     "text": [
      "Player 2 stands.\n",
      "\n",
      "Player 3's turn:\n"
     ]
    },
    {
     "name": "stdin",
     "output_type": "stream",
     "text": [
      "Do you want to (h)it or (s)tand?  h\n"
     ]
    },
    {
     "name": "stdout",
     "output_type": "stream",
     "text": [
      "Player 3 draws: 2 of Diamonds\n",
      "Your hand: ['10 of Hearts', '7 of Spades', '2 of Diamonds']\n"
     ]
    },
    {
     "name": "stdin",
     "output_type": "stream",
     "text": [
      "Do you want to (h)it or (s)tand?  s\n"
     ]
    },
    {
     "name": "stdout",
     "output_type": "stream",
     "text": [
      "Player 3 stands.\n",
      "\n",
      "Player 4's turn:\n"
     ]
    },
    {
     "name": "stdin",
     "output_type": "stream",
     "text": [
      "Do you want to (h)it or (s)tand?  h\n"
     ]
    },
    {
     "name": "stdout",
     "output_type": "stream",
     "text": [
      "Player 4 draws: 4 of Spades\n",
      "Your hand: ['Ace of Spades', '4 of Diamonds', '4 of Spades']\n"
     ]
    },
    {
     "name": "stdin",
     "output_type": "stream",
     "text": [
      "Do you want to (h)it or (s)tand?  s\n"
     ]
    },
    {
     "name": "stdout",
     "output_type": "stream",
     "text": [
      "Player 4 stands.\n",
      "\n",
      "Dealer's turn:\n",
      "Dealer draws: 9 of Clubs\n",
      "Dealer's hand: ['2 of Diamonds', '9 of Spades', '9 of Clubs']\n",
      "Dealer stands.\n",
      "\n",
      "Round Results:\n",
      "Player 1 wins!\n",
      "Player 2 loses!\n",
      "Player 3 loses!\n",
      "Player 4 loses!\n",
      "\n",
      "--- New Round ---\n"
     ]
    },
    {
     "name": "stdin",
     "output_type": "stream",
     "text": [
      "Player 1, place your bet:  h\n"
     ]
    },
    {
     "name": "stdout",
     "output_type": "stream",
     "text": [
      "Invalid input. Please enter a valid integer.\n"
     ]
    },
    {
     "name": "stdin",
     "output_type": "stream",
     "text": [
      "Player 1, place your bet:  5\n",
      "Player 2, place your bet:  5\n",
      "Player 3, place your bet:  5\n",
      "Player 4, place your bet:  5\n"
     ]
    },
    {
     "name": "stdout",
     "output_type": "stream",
     "text": [
      "\n",
      "Player 1's turn:\n"
     ]
    },
    {
     "name": "stdin",
     "output_type": "stream",
     "text": [
      "Do you want to (h)it or (s)tand?  h\n"
     ]
    },
    {
     "name": "stdout",
     "output_type": "stream",
     "text": [
      "Player 1 draws: King of Clubs\n",
      "Your hand: ['5 of Clubs', '3 of Hearts', 'King of Clubs']\n"
     ]
    },
    {
     "name": "stdin",
     "output_type": "stream",
     "text": [
      "Do you want to (h)it or (s)tand?  s\n"
     ]
    },
    {
     "name": "stdout",
     "output_type": "stream",
     "text": [
      "Player 1 stands.\n",
      "\n",
      "Player 2's turn:\n"
     ]
    },
    {
     "name": "stdin",
     "output_type": "stream",
     "text": [
      "Do you want to (h)it or (s)tand?  h\n"
     ]
    },
    {
     "name": "stdout",
     "output_type": "stream",
     "text": [
      "Player 2 draws: 9 of Diamonds\n",
      "Your hand: ['10 of Diamonds', 'Queen of Hearts', '9 of Diamonds']\n",
      "\n",
      "Player 3's turn:\n"
     ]
    },
    {
     "name": "stdin",
     "output_type": "stream",
     "text": [
      "Do you want to (h)it or (s)tand?  s\n"
     ]
    },
    {
     "name": "stdout",
     "output_type": "stream",
     "text": [
      "Player 3 stands.\n",
      "\n",
      "Player 4's turn:\n"
     ]
    },
    {
     "name": "stdin",
     "output_type": "stream",
     "text": [
      "Do you want to (h)it or (s)tand?  h\n"
     ]
    },
    {
     "name": "stdout",
     "output_type": "stream",
     "text": [
      "Player 4 draws: 8 of Diamonds\n",
      "Your hand: ['2 of Spades', 'King of Hearts', '8 of Diamonds']\n"
     ]
    },
    {
     "name": "stdin",
     "output_type": "stream",
     "text": [
      "Do you want to (h)it or (s)tand?  s\n"
     ]
    },
    {
     "name": "stdout",
     "output_type": "stream",
     "text": [
      "Player 4 stands.\n",
      "\n",
      "Dealer's turn:\n",
      "Dealer draws: Ace of Spades\n",
      "Dealer's hand: ['6 of Spades', '8 of Spades', 'Ace of Spades']\n",
      "Dealer draws: King of Clubs\n",
      "Dealer's hand: ['6 of Spades', '8 of Spades', 'Ace of Spades', 'King of Clubs']\n",
      "\n",
      "Round Results:\n",
      "Player 1 wins!\n",
      "Player 2 loses!\n",
      "Player 3 wins!\n",
      "Player 4 wins!\n",
      "\n",
      "--- New Round ---\n"
     ]
    },
    {
     "name": "stdin",
     "output_type": "stream",
     "text": [
      "Player 1, place your bet:  h\n"
     ]
    },
    {
     "name": "stdout",
     "output_type": "stream",
     "text": [
      "Invalid input. Please enter a valid integer.\n"
     ]
    },
    {
     "name": "stdin",
     "output_type": "stream",
     "text": [
      "Player 1, place your bet:  5\n",
      "Player 2, place your bet:  5\n",
      "Player 3, place your bet:  5\n",
      "Player 4, place your bet:  5\n"
     ]
    },
    {
     "name": "stdout",
     "output_type": "stream",
     "text": [
      "\n",
      "Player 1's turn:\n"
     ]
    },
    {
     "name": "stdin",
     "output_type": "stream",
     "text": [
      "Do you want to (h)it or (s)tand?  h\n"
     ]
    },
    {
     "name": "stdout",
     "output_type": "stream",
     "text": [
      "Player 1 draws: 10 of Diamonds\n",
      "Your hand: ['2 of Spades', 'Ace of Hearts', '10 of Diamonds']\n"
     ]
    },
    {
     "name": "stdin",
     "output_type": "stream",
     "text": [
      "Do you want to (h)it or (s)tand?  s\n"
     ]
    },
    {
     "name": "stdout",
     "output_type": "stream",
     "text": [
      "Player 1 stands.\n",
      "\n",
      "Player 2's turn:\n"
     ]
    },
    {
     "name": "stdin",
     "output_type": "stream",
     "text": [
      "Do you want to (h)it or (s)tand?  h\n"
     ]
    },
    {
     "name": "stdout",
     "output_type": "stream",
     "text": [
      "Player 2 draws: Ace of Diamonds\n",
      "Your hand: ['5 of Hearts', '2 of Diamonds', 'Ace of Diamonds']\n"
     ]
    },
    {
     "name": "stdin",
     "output_type": "stream",
     "text": [
      "Do you want to (h)it or (s)tand?  s\n"
     ]
    },
    {
     "name": "stdout",
     "output_type": "stream",
     "text": [
      "Player 2 stands.\n",
      "\n",
      "Player 3's turn:\n"
     ]
    },
    {
     "name": "stdin",
     "output_type": "stream",
     "text": [
      "Do you want to (h)it or (s)tand?  h\n"
     ]
    },
    {
     "name": "stdout",
     "output_type": "stream",
     "text": [
      "Player 3 draws: 6 of Clubs\n",
      "Your hand: ['6 of Hearts', '2 of Hearts', '6 of Clubs']\n"
     ]
    },
    {
     "name": "stdin",
     "output_type": "stream",
     "text": [
      "Do you want to (h)it or (s)tand?  s\n"
     ]
    },
    {
     "name": "stdout",
     "output_type": "stream",
     "text": [
      "Player 3 stands.\n",
      "\n",
      "Player 4's turn:\n"
     ]
    },
    {
     "name": "stdin",
     "output_type": "stream",
     "text": [
      "Do you want to (h)it or (s)tand?  h\n"
     ]
    },
    {
     "name": "stdout",
     "output_type": "stream",
     "text": [
      "Player 4 draws: King of Hearts\n",
      "Your hand: ['3 of Hearts', 'Queen of Clubs', 'King of Hearts']\n",
      "\n",
      "Dealer's turn:\n",
      "Dealer stands.\n",
      "\n",
      "Round Results:\n",
      "Player 1 loses!\n",
      "Player 2 loses!\n",
      "Player 3 loses!\n",
      "Player 4 loses!\n",
      "\n",
      "--- New Round ---\n"
     ]
    },
    {
     "name": "stdin",
     "output_type": "stream",
     "text": [
      "Player 1, place your bet:  s\n"
     ]
    },
    {
     "name": "stdout",
     "output_type": "stream",
     "text": [
      "Invalid input. Please enter a valid integer.\n"
     ]
    },
    {
     "name": "stdin",
     "output_type": "stream",
     "text": [
      "Player 1, place your bet:  h\n"
     ]
    },
    {
     "name": "stdout",
     "output_type": "stream",
     "text": [
      "Invalid input. Please enter a valid integer.\n"
     ]
    },
    {
     "name": "stdin",
     "output_type": "stream",
     "text": [
      "Player 1, place your bet:  s\n"
     ]
    },
    {
     "name": "stdout",
     "output_type": "stream",
     "text": [
      "Invalid input. Please enter a valid integer.\n"
     ]
    },
    {
     "name": "stdin",
     "output_type": "stream",
     "text": [
      "Player 1, place your bet:  5\n",
      "Player 2, place your bet:  5\n",
      "Player 3, place your bet:  5\n",
      "Player 4, place your bet:  5\n"
     ]
    },
    {
     "name": "stdout",
     "output_type": "stream",
     "text": [
      "\n",
      "Player 1's turn:\n"
     ]
    },
    {
     "name": "stdin",
     "output_type": "stream",
     "text": [
      "Do you want to (h)it or (s)tand?  h\n"
     ]
    },
    {
     "name": "stdout",
     "output_type": "stream",
     "text": [
      "Player 1 draws: 3 of Hearts\n",
      "Your hand: ['7 of Hearts', '4 of Hearts', '3 of Hearts']\n"
     ]
    },
    {
     "name": "stdin",
     "output_type": "stream",
     "text": [
      "Do you want to (h)it or (s)tand?  s\n"
     ]
    },
    {
     "name": "stdout",
     "output_type": "stream",
     "text": [
      "Player 1 stands.\n",
      "\n",
      "Player 2's turn:\n",
      "\n",
      "Player 3's turn:\n"
     ]
    },
    {
     "name": "stdin",
     "output_type": "stream",
     "text": [
      "Do you want to (h)it or (s)tand?  g\n",
      "Do you want to (h)it or (s)tand?  h\n"
     ]
    },
    {
     "name": "stdout",
     "output_type": "stream",
     "text": [
      "Player 3 draws: King of Hearts\n",
      "Your hand: ['4 of Hearts', '3 of Spades', 'King of Hearts']\n"
     ]
    },
    {
     "name": "stdin",
     "output_type": "stream",
     "text": [
      "Do you want to (h)it or (s)tand?  s\n"
     ]
    },
    {
     "name": "stdout",
     "output_type": "stream",
     "text": [
      "Player 3 stands.\n",
      "\n",
      "Player 4's turn:\n"
     ]
    },
    {
     "name": "stdin",
     "output_type": "stream",
     "text": [
      "Do you want to (h)it or (s)tand?  h\n"
     ]
    },
    {
     "name": "stdout",
     "output_type": "stream",
     "text": [
      "Player 4 draws: 3 of Hearts\n",
      "Your hand: ['6 of Diamonds', '7 of Diamonds', '3 of Hearts']\n"
     ]
    },
    {
     "name": "stdin",
     "output_type": "stream",
     "text": [
      "Do you want to (h)it or (s)tand?  s\n"
     ]
    },
    {
     "name": "stdout",
     "output_type": "stream",
     "text": [
      "Player 4 stands.\n",
      "\n",
      "Dealer's turn:\n",
      "Dealer stands.\n",
      "\n",
      "Round Results:\n",
      "Player 1 loses!\n",
      "Player 2 wins!\n",
      "Player 3 loses!\n",
      "Player 4 loses!\n",
      "\n",
      "--- New Round ---\n"
     ]
    },
    {
     "name": "stdin",
     "output_type": "stream",
     "text": [
      "Player 1, place your bet:  5\n",
      "Player 2, place your bet:  5\n",
      "Player 3, place your bet:  5\n",
      "Player 4, place your bet:  5\n"
     ]
    },
    {
     "name": "stdout",
     "output_type": "stream",
     "text": [
      "\n",
      "Player 1's turn:\n"
     ]
    },
    {
     "name": "stdin",
     "output_type": "stream",
     "text": [
      "Do you want to (h)it or (s)tand?  h\n"
     ]
    },
    {
     "name": "stdout",
     "output_type": "stream",
     "text": [
      "Player 1 draws: 7 of Diamonds\n",
      "Your hand: ['4 of Spades', 'Ace of Diamonds', '7 of Diamonds']\n"
     ]
    },
    {
     "name": "stdin",
     "output_type": "stream",
     "text": [
      "Do you want to (h)it or (s)tand?  2\n",
      "Do you want to (h)it or (s)tand?  h\n"
     ]
    },
    {
     "name": "stdout",
     "output_type": "stream",
     "text": [
      "Player 1 draws: 7 of Clubs\n",
      "Your hand: ['4 of Spades', 'Ace of Diamonds', '7 of Diamonds', '7 of Clubs']\n"
     ]
    },
    {
     "name": "stdin",
     "output_type": "stream",
     "text": [
      "Do you want to (h)it or (s)tand?  s\n"
     ]
    },
    {
     "name": "stdout",
     "output_type": "stream",
     "text": [
      "Player 1 stands.\n",
      "\n",
      "Player 2's turn:\n"
     ]
    },
    {
     "name": "stdin",
     "output_type": "stream",
     "text": [
      "Do you want to (h)it or (s)tand?  h\n"
     ]
    },
    {
     "name": "stdout",
     "output_type": "stream",
     "text": [
      "Player 2 draws: Ace of Clubs\n",
      "Your hand: ['King of Hearts', '7 of Spades', 'Ace of Clubs']\n"
     ]
    },
    {
     "name": "stdin",
     "output_type": "stream",
     "text": [
      "Do you want to (h)it or (s)tand?  s\n"
     ]
    },
    {
     "name": "stdout",
     "output_type": "stream",
     "text": [
      "Player 2 stands.\n",
      "\n",
      "Player 3's turn:\n"
     ]
    },
    {
     "name": "stdin",
     "output_type": "stream",
     "text": [
      "Do you want to (h)it or (s)tand?  h\n"
     ]
    },
    {
     "name": "stdout",
     "output_type": "stream",
     "text": [
      "Player 3 draws: 6 of Clubs\n",
      "Your hand: ['4 of Diamonds', '8 of Diamonds', '6 of Clubs']\n"
     ]
    },
    {
     "name": "stdin",
     "output_type": "stream",
     "text": [
      "Do you want to (h)it or (s)tand?  s\n"
     ]
    },
    {
     "name": "stdout",
     "output_type": "stream",
     "text": [
      "Player 3 stands.\n",
      "\n",
      "Player 4's turn:\n",
      "\n",
      "Dealer's turn:\n",
      "Dealer stands.\n",
      "\n",
      "Round Results:\n",
      "Player 1 wins!\n",
      "Player 2 pushes!\n",
      "Player 3 pushes!\n",
      "Player 4 wins!\n",
      "\n",
      "--- New Round ---\n"
     ]
    },
    {
     "name": "stdin",
     "output_type": "stream",
     "text": [
      "Player 1, place your bet:  4\n",
      "Player 2, place your bet:  4\n",
      "Player 3, place your bet:  4\n",
      "Player 4, place your bet:  4\n"
     ]
    },
    {
     "name": "stdout",
     "output_type": "stream",
     "text": [
      "\n",
      "Player 1's turn:\n"
     ]
    },
    {
     "name": "stdin",
     "output_type": "stream",
     "text": [
      "Do you want to (h)it or (s)tand?  h\n"
     ]
    },
    {
     "name": "stdout",
     "output_type": "stream",
     "text": [
      "Player 1 draws: 4 of Diamonds\n",
      "Your hand: ['4 of Spades', '10 of Spades', '4 of Diamonds']\n"
     ]
    },
    {
     "name": "stdin",
     "output_type": "stream",
     "text": [
      "Do you want to (h)it or (s)tand?  s\n"
     ]
    },
    {
     "name": "stdout",
     "output_type": "stream",
     "text": [
      "Player 1 stands.\n",
      "\n",
      "Player 2's turn:\n"
     ]
    },
    {
     "name": "stdin",
     "output_type": "stream",
     "text": [
      "Do you want to (h)it or (s)tand?  h\n"
     ]
    },
    {
     "name": "stdout",
     "output_type": "stream",
     "text": [
      "Player 2 draws: 2 of Spades\n",
      "Your hand: ['10 of Spades', '10 of Spades', '2 of Spades']\n",
      "\n",
      "Player 3's turn:\n"
     ]
    },
    {
     "name": "stdin",
     "output_type": "stream",
     "text": [
      "Do you want to (h)it or (s)tand?  s\n"
     ]
    },
    {
     "name": "stdout",
     "output_type": "stream",
     "text": [
      "Player 3 stands.\n",
      "\n",
      "Player 4's turn:\n"
     ]
    },
    {
     "name": "stdin",
     "output_type": "stream",
     "text": [
      "Do you want to (h)it or (s)tand?  h\n"
     ]
    },
    {
     "name": "stdout",
     "output_type": "stream",
     "text": [
      "Player 4 draws: 4 of Diamonds\n",
      "Your hand: ['King of Hearts', '4 of Hearts', '4 of Diamonds']\n"
     ]
    },
    {
     "name": "stdin",
     "output_type": "stream",
     "text": [
      "Do you want to (h)it or (s)tand?  s\n"
     ]
    },
    {
     "name": "stdout",
     "output_type": "stream",
     "text": [
      "Player 4 stands.\n",
      "\n",
      "Dealer's turn:\n",
      "Dealer stands.\n",
      "\n",
      "Round Results:\n",
      "Player 1 pushes!\n",
      "Player 2 loses!\n",
      "Player 3 loses!\n",
      "Player 4 pushes!\n",
      "\n",
      "--- New Round ---\n"
     ]
    },
    {
     "name": "stdin",
     "output_type": "stream",
     "text": [
      "Player 1, place your bet:  4\n",
      "Player 2, place your bet:  4\n",
      "Player 3, place your bet:  4\n",
      "Player 4, place your bet:  4\n"
     ]
    },
    {
     "name": "stdout",
     "output_type": "stream",
     "text": [
      "\n",
      "Player 1's turn:\n"
     ]
    },
    {
     "name": "stdin",
     "output_type": "stream",
     "text": [
      "Do you want to (h)it or (s)tand?  h\n"
     ]
    },
    {
     "name": "stdout",
     "output_type": "stream",
     "text": [
      "Player 1 draws: 4 of Hearts\n",
      "Your hand: ['Queen of Clubs', '10 of Diamonds', '4 of Hearts']\n",
      "\n",
      "Player 2's turn:\n"
     ]
    },
    {
     "name": "stdin",
     "output_type": "stream",
     "text": [
      "Do you want to (h)it or (s)tand?  s\n"
     ]
    },
    {
     "name": "stdout",
     "output_type": "stream",
     "text": [
      "Player 2 stands.\n",
      "\n",
      "Player 3's turn:\n"
     ]
    },
    {
     "name": "stdin",
     "output_type": "stream",
     "text": [
      "Do you want to (h)it or (s)tand?  h\n"
     ]
    },
    {
     "name": "stdout",
     "output_type": "stream",
     "text": [
      "Player 3 draws: 10 of Hearts\n",
      "Your hand: ['Queen of Diamonds', 'Queen of Spades', '10 of Hearts']\n",
      "\n",
      "Player 4's turn:\n",
      "\n",
      "Dealer's turn:\n",
      "Dealer draws: 2 of Spades\n",
      "Dealer's hand: ['King of Hearts', '4 of Diamonds', '2 of Spades']\n",
      "Dealer draws: 8 of Clubs\n",
      "Dealer's hand: ['King of Hearts', '4 of Diamonds', '2 of Spades', '8 of Clubs']\n",
      "\n",
      "Round Results:\n",
      "Player 1 loses!\n",
      "Player 2 wins!\n",
      "Player 3 loses!\n",
      "Player 4 wins!\n",
      "\n",
      "--- New Round ---\n"
     ]
    },
    {
     "name": "stdin",
     "output_type": "stream",
     "text": [
      "Player 1, place your bet:  5\n",
      "Player 2, place your bet:  5\n",
      "Player 3, place your bet:  5\n",
      "Player 4, place your bet:  5\n"
     ]
    },
    {
     "name": "stdout",
     "output_type": "stream",
     "text": [
      "\n",
      "Player 1's turn:\n"
     ]
    },
    {
     "name": "stdin",
     "output_type": "stream",
     "text": [
      "Do you want to (h)it or (s)tand?  h\n"
     ]
    },
    {
     "name": "stdout",
     "output_type": "stream",
     "text": [
      "Player 1 draws: Queen of Diamonds\n",
      "Your hand: ['King of Diamonds', '5 of Spades', 'Queen of Diamonds']\n",
      "\n",
      "Player 2's turn:\n",
      "\n",
      "Player 3's turn:\n"
     ]
    },
    {
     "name": "stdin",
     "output_type": "stream",
     "text": [
      "Do you want to (h)it or (s)tand?  s\n"
     ]
    },
    {
     "name": "stdout",
     "output_type": "stream",
     "text": [
      "Player 3 stands.\n",
      "\n",
      "Player 4's turn:\n"
     ]
    },
    {
     "name": "stdin",
     "output_type": "stream",
     "text": [
      "Do you want to (h)it or (s)tand?  h\n"
     ]
    },
    {
     "name": "stdout",
     "output_type": "stream",
     "text": [
      "Player 4 draws: 4 of Hearts\n",
      "Your hand: ['King of Diamonds', '5 of Diamonds', '4 of Hearts']\n"
     ]
    },
    {
     "name": "stdin",
     "output_type": "stream",
     "text": [
      "Do you want to (h)it or (s)tand?  s\n"
     ]
    },
    {
     "name": "stdout",
     "output_type": "stream",
     "text": [
      "Player 4 stands.\n",
      "\n",
      "Dealer's turn:\n",
      "Dealer draws: 5 of Clubs\n",
      "Dealer's hand: ['3 of Clubs', '5 of Hearts', '5 of Clubs']\n",
      "Dealer draws: 7 of Diamonds\n",
      "Dealer's hand: ['3 of Clubs', '5 of Hearts', '5 of Clubs', '7 of Diamonds']\n",
      "Dealer stands.\n",
      "\n",
      "Round Results:\n",
      "Player 1 loses!\n",
      "Player 2 wins!\n",
      "Player 3 loses!\n",
      "Player 4 loses!\n",
      "\n",
      "--- New Round ---\n"
     ]
    },
    {
     "name": "stdin",
     "output_type": "stream",
     "text": [
      "Player 1, place your bet:  5\n",
      "Player 2, place your bet:  5\n",
      "Player 3, place your bet:  5\n",
      "Player 4, place your bet:  5\n"
     ]
    },
    {
     "name": "stdout",
     "output_type": "stream",
     "text": [
      "\n",
      "Player 1's turn:\n"
     ]
    },
    {
     "name": "stdin",
     "output_type": "stream",
     "text": [
      "Do you want to (h)it or (s)tand?  h\n"
     ]
    },
    {
     "name": "stdout",
     "output_type": "stream",
     "text": [
      "Player 1 draws: 9 of Clubs\n",
      "Your hand: ['5 of Spades', '3 of Diamonds', '9 of Clubs']\n"
     ]
    },
    {
     "name": "stdin",
     "output_type": "stream",
     "text": [
      "Do you want to (h)it or (s)tand?  s\n"
     ]
    },
    {
     "name": "stdout",
     "output_type": "stream",
     "text": [
      "Player 1 stands.\n",
      "\n",
      "Player 2's turn:\n"
     ]
    },
    {
     "name": "stdin",
     "output_type": "stream",
     "text": [
      "Do you want to (h)it or (s)tand?  h\n"
     ]
    },
    {
     "name": "stdout",
     "output_type": "stream",
     "text": [
      "Player 2 draws: 6 of Spades\n",
      "Your hand: ['5 of Spades', '9 of Diamonds', '6 of Spades']\n"
     ]
    },
    {
     "name": "stdin",
     "output_type": "stream",
     "text": [
      "Do you want to (h)it or (s)tand?  s\n"
     ]
    },
    {
     "name": "stdout",
     "output_type": "stream",
     "text": [
      "Player 2 stands.\n",
      "\n",
      "Player 3's turn:\n"
     ]
    },
    {
     "name": "stdin",
     "output_type": "stream",
     "text": [
      "Do you want to (h)it or (s)tand?  h\n"
     ]
    },
    {
     "name": "stdout",
     "output_type": "stream",
     "text": [
      "Player 3 draws: 9 of Spades\n",
      "Your hand: ['4 of Spades', '2 of Spades', '9 of Spades']\n"
     ]
    },
    {
     "name": "stdin",
     "output_type": "stream",
     "text": [
      "Do you want to (h)it or (s)tand?  s\n"
     ]
    },
    {
     "name": "stdout",
     "output_type": "stream",
     "text": [
      "Player 3 stands.\n",
      "\n",
      "Player 4's turn:\n"
     ]
    },
    {
     "name": "stdin",
     "output_type": "stream",
     "text": [
      "Do you want to (h)it or (s)tand?  h\n"
     ]
    },
    {
     "name": "stdout",
     "output_type": "stream",
     "text": [
      "Player 4 draws: 5 of Hearts\n",
      "Your hand: ['9 of Hearts', '8 of Hearts', '5 of Hearts']\n",
      "\n",
      "Dealer's turn:\n",
      "Dealer draws: 5 of Spades\n",
      "Dealer's hand: ['4 of Clubs', '5 of Clubs', '5 of Spades']\n",
      "Dealer draws: 2 of Clubs\n",
      "Dealer's hand: ['4 of Clubs', '5 of Clubs', '5 of Spades', '2 of Clubs']\n",
      "Dealer draws: Jack of Spades\n",
      "Dealer's hand: ['4 of Clubs', '5 of Clubs', '5 of Spades', '2 of Clubs', 'Jack of Spades']\n",
      "\n",
      "Round Results:\n",
      "Player 1 wins!\n",
      "Player 2 wins!\n",
      "Player 3 wins!\n",
      "Player 4 loses!\n",
      "\n",
      "--- New Round ---\n"
     ]
    },
    {
     "name": "stdin",
     "output_type": "stream",
     "text": [
      "Player 1, place your bet:  s\n"
     ]
    },
    {
     "name": "stdout",
     "output_type": "stream",
     "text": [
      "Invalid input. Please enter a valid integer.\n"
     ]
    },
    {
     "name": "stdin",
     "output_type": "stream",
     "text": [
      "Player 1, place your bet:  5\n",
      "Player 2, place your bet:  5\n",
      "Player 3, place your bet:  5\n",
      "Player 4, place your bet:  5\n"
     ]
    },
    {
     "name": "stdout",
     "output_type": "stream",
     "text": [
      "\n",
      "Player 1's turn:\n"
     ]
    },
    {
     "name": "stdin",
     "output_type": "stream",
     "text": [
      "Do you want to (h)it or (s)tand?  h\n"
     ]
    },
    {
     "name": "stdout",
     "output_type": "stream",
     "text": [
      "Player 1 draws: Queen of Spades\n",
      "Your hand: ['8 of Spades', 'King of Hearts', 'Queen of Spades']\n",
      "\n",
      "Player 2's turn:\n"
     ]
    },
    {
     "name": "stdin",
     "output_type": "stream",
     "text": [
      "Do you want to (h)it or (s)tand?  s\n"
     ]
    },
    {
     "name": "stdout",
     "output_type": "stream",
     "text": [
      "Player 2 stands.\n",
      "\n",
      "Player 3's turn:\n"
     ]
    },
    {
     "name": "stdin",
     "output_type": "stream",
     "text": [
      "Do you want to (h)it or (s)tand?  h\n"
     ]
    },
    {
     "name": "stdout",
     "output_type": "stream",
     "text": [
      "Player 3 draws: King of Clubs\n",
      "Your hand: ['2 of Hearts', '6 of Diamonds', 'King of Clubs']\n"
     ]
    },
    {
     "name": "stdin",
     "output_type": "stream",
     "text": [
      "Do you want to (h)it or (s)tand?  s\n"
     ]
    },
    {
     "name": "stdout",
     "output_type": "stream",
     "text": [
      "Player 3 stands.\n",
      "\n",
      "Player 4's turn:\n"
     ]
    },
    {
     "name": "stdin",
     "output_type": "stream",
     "text": [
      "Do you want to (h)it or (s)tand?  h\n"
     ]
    },
    {
     "name": "stdout",
     "output_type": "stream",
     "text": [
      "Player 4 draws: King of Hearts\n",
      "Your hand: ['2 of Clubs', 'Jack of Hearts', 'King of Hearts']\n",
      "\n",
      "Dealer's turn:\n",
      "Dealer stands.\n",
      "\n",
      "Round Results:\n",
      "Player 1 loses!\n",
      "Player 2 loses!\n",
      "Player 3 wins!\n",
      "Player 4 loses!\n",
      "\n",
      "--- New Round ---\n"
     ]
    },
    {
     "name": "stdin",
     "output_type": "stream",
     "text": [
      "Player 1, place your bet:  s\n"
     ]
    },
    {
     "name": "stdout",
     "output_type": "stream",
     "text": [
      "Invalid input. Please enter a valid integer.\n"
     ]
    },
    {
     "name": "stdin",
     "output_type": "stream",
     "text": [
      "Player 1, place your bet:  4\n",
      "Player 2, place your bet:  4\n",
      "Player 3, place your bet:  4\n",
      "Player 4, place your bet:  4\n"
     ]
    },
    {
     "name": "stdout",
     "output_type": "stream",
     "text": [
      "\n",
      "Player 1's turn:\n"
     ]
    },
    {
     "name": "stdin",
     "output_type": "stream",
     "text": [
      "Do you want to (h)it or (s)tand?  h\n"
     ]
    },
    {
     "name": "stdout",
     "output_type": "stream",
     "text": [
      "Player 1 draws: Jack of Spades\n",
      "Your hand: ['5 of Hearts', '8 of Spades', 'Jack of Spades']\n",
      "\n",
      "Player 2's turn:\n"
     ]
    },
    {
     "name": "stdin",
     "output_type": "stream",
     "text": [
      "Do you want to (h)it or (s)tand?  s\n"
     ]
    },
    {
     "name": "stdout",
     "output_type": "stream",
     "text": [
      "Player 2 stands.\n",
      "\n",
      "Player 3's turn:\n"
     ]
    },
    {
     "name": "stdin",
     "output_type": "stream",
     "text": [
      "Do you want to (h)it or (s)tand?  h\n"
     ]
    },
    {
     "name": "stdout",
     "output_type": "stream",
     "text": [
      "Player 3 draws: 2 of Clubs\n",
      "Your hand: ['Ace of Hearts', '7 of Diamonds', '2 of Clubs']\n"
     ]
    },
    {
     "name": "stdin",
     "output_type": "stream",
     "text": [
      "Do you want to (h)it or (s)tand?  s\n"
     ]
    },
    {
     "name": "stdout",
     "output_type": "stream",
     "text": [
      "Player 3 stands.\n",
      "\n",
      "Player 4's turn:\n"
     ]
    },
    {
     "name": "stdin",
     "output_type": "stream",
     "text": [
      "Do you want to (h)it or (s)tand?  h\n"
     ]
    },
    {
     "name": "stdout",
     "output_type": "stream",
     "text": [
      "Player 4 draws: Queen of Spades\n",
      "Your hand: ['3 of Hearts', '10 of Spades', 'Queen of Spades']\n",
      "\n",
      "Dealer's turn:\n",
      "Dealer draws: 2 of Diamonds\n",
      "Dealer's hand: ['7 of Diamonds', '5 of Clubs', '2 of Diamonds']\n",
      "Dealer draws: 5 of Clubs\n",
      "Dealer's hand: ['7 of Diamonds', '5 of Clubs', '2 of Diamonds', '5 of Clubs']\n",
      "Dealer stands.\n",
      "\n",
      "Round Results:\n",
      "Player 1 loses!\n",
      "Player 2 loses!\n",
      "Player 3 wins!\n",
      "Player 4 loses!\n",
      "\n",
      "--- New Round ---\n"
     ]
    },
    {
     "name": "stdin",
     "output_type": "stream",
     "text": [
      "Player 1, place your bet:  s\n"
     ]
    },
    {
     "name": "stdout",
     "output_type": "stream",
     "text": [
      "Invalid input. Please enter a valid integer.\n"
     ]
    },
    {
     "name": "stdin",
     "output_type": "stream",
     "text": [
      "Player 1, place your bet:  4\n",
      "Player 2, place your bet:  4\n",
      "Player 3, place your bet:  4\n",
      "Player 4, place your bet:  4\n"
     ]
    },
    {
     "name": "stdout",
     "output_type": "stream",
     "text": [
      "\n",
      "Player 1's turn:\n"
     ]
    },
    {
     "name": "stdin",
     "output_type": "stream",
     "text": [
      "Do you want to (h)it or (s)tand?  h\n"
     ]
    },
    {
     "name": "stdout",
     "output_type": "stream",
     "text": [
      "Player 1 draws: Ace of Clubs\n",
      "Your hand: ['9 of Diamonds', '2 of Spades', 'Ace of Clubs']\n"
     ]
    },
    {
     "name": "stdin",
     "output_type": "stream",
     "text": [
      "Do you want to (h)it or (s)tand?  s\n"
     ]
    },
    {
     "name": "stdout",
     "output_type": "stream",
     "text": [
      "Player 1 stands.\n",
      "\n",
      "Player 2's turn:\n"
     ]
    },
    {
     "name": "stdin",
     "output_type": "stream",
     "text": [
      "Do you want to (h)it or (s)tand?  h\n"
     ]
    },
    {
     "name": "stdout",
     "output_type": "stream",
     "text": [
      "Player 2 draws: 2 of Clubs\n",
      "Your hand: ['7 of Clubs', 'Ace of Hearts', '2 of Clubs']\n"
     ]
    },
    {
     "name": "stdin",
     "output_type": "stream",
     "text": [
      "Do you want to (h)it or (s)tand?  s\n"
     ]
    },
    {
     "name": "stdout",
     "output_type": "stream",
     "text": [
      "Player 2 stands.\n",
      "\n",
      "Player 3's turn:\n"
     ]
    },
    {
     "name": "stdin",
     "output_type": "stream",
     "text": [
      "Do you want to (h)it or (s)tand?  h\n"
     ]
    },
    {
     "name": "stdout",
     "output_type": "stream",
     "text": [
      "Player 3 draws: King of Clubs\n",
      "Your hand: ['10 of Clubs', '3 of Diamonds', 'King of Clubs']\n",
      "\n",
      "Player 4's turn:\n"
     ]
    },
    {
     "name": "stdin",
     "output_type": "stream",
     "text": [
      "Do you want to (h)it or (s)tand?  s\n"
     ]
    },
    {
     "name": "stdout",
     "output_type": "stream",
     "text": [
      "Player 4 stands.\n",
      "\n",
      "Dealer's turn:\n",
      "Dealer stands.\n",
      "\n",
      "Round Results:\n",
      "Player 1 loses!\n",
      "Player 2 pushes!\n",
      "Player 3 loses!\n",
      "Player 4 loses!\n",
      "\n",
      "--- New Round ---\n"
     ]
    },
    {
     "name": "stdin",
     "output_type": "stream",
     "text": [
      "Player 1, place your bet:  h\n"
     ]
    },
    {
     "name": "stdout",
     "output_type": "stream",
     "text": [
      "Invalid input. Please enter a valid integer.\n"
     ]
    },
    {
     "name": "stdin",
     "output_type": "stream",
     "text": [
      "Player 1, place your bet:  5\n",
      "Player 2, place your bet:  \n"
     ]
    },
    {
     "name": "stdout",
     "output_type": "stream",
     "text": [
      "Invalid input. Please enter a valid integer.\n"
     ]
    },
    {
     "name": "stdin",
     "output_type": "stream",
     "text": [
      "Player 2, place your bet:  5\n",
      "Player 3, place your bet:  5\n",
      "Player 4, place your bet:  5\n"
     ]
    },
    {
     "name": "stdout",
     "output_type": "stream",
     "text": [
      "\n",
      "Player 1's turn:\n"
     ]
    },
    {
     "name": "stdin",
     "output_type": "stream",
     "text": [
      "Do you want to (h)it or (s)tand?  h\n"
     ]
    },
    {
     "name": "stdout",
     "output_type": "stream",
     "text": [
      "Player 1 draws: 6 of Diamonds\n",
      "Your hand: ['Ace of Spades', 'Ace of Clubs', '6 of Diamonds']\n"
     ]
    },
    {
     "name": "stdin",
     "output_type": "stream",
     "text": [
      "Do you want to (h)it or (s)tand?  s\n"
     ]
    },
    {
     "name": "stdout",
     "output_type": "stream",
     "text": [
      "Player 1 stands.\n",
      "\n",
      "Player 2's turn:\n"
     ]
    },
    {
     "name": "stdin",
     "output_type": "stream",
     "text": [
      "Do you want to (h)it or (s)tand?  h\n"
     ]
    },
    {
     "name": "stdout",
     "output_type": "stream",
     "text": [
      "Player 2 draws: 3 of Hearts\n",
      "Your hand: ['8 of Hearts', '8 of Clubs', '3 of Hearts']\n"
     ]
    },
    {
     "name": "stdin",
     "output_type": "stream",
     "text": [
      "Do you want to (h)it or (s)tand?  s\n"
     ]
    },
    {
     "name": "stdout",
     "output_type": "stream",
     "text": [
      "Player 2 stands.\n",
      "\n",
      "Player 3's turn:\n"
     ]
    },
    {
     "name": "stdin",
     "output_type": "stream",
     "text": [
      "Do you want to (h)it or (s)tand?  h\n"
     ]
    },
    {
     "name": "stdout",
     "output_type": "stream",
     "text": [
      "Player 3 draws: 10 of Clubs\n",
      "Your hand: ['10 of Hearts', '4 of Clubs', '10 of Clubs']\n",
      "\n",
      "Player 4's turn:\n"
     ]
    },
    {
     "name": "stdin",
     "output_type": "stream",
     "text": [
      "Do you want to (h)it or (s)tand?  s\n"
     ]
    },
    {
     "name": "stdout",
     "output_type": "stream",
     "text": [
      "Player 4 stands.\n",
      "\n",
      "Dealer's turn:\n",
      "Dealer draws: Ace of Clubs\n",
      "Dealer's hand: ['Jack of Hearts', '2 of Clubs', 'Ace of Clubs']\n",
      "Dealer draws: 8 of Hearts\n",
      "Dealer's hand: ['Jack of Hearts', '2 of Clubs', 'Ace of Clubs', '8 of Hearts']\n",
      "Dealer stands.\n",
      "\n",
      "Round Results:\n",
      "Player 1 loses!\n",
      "Player 2 loses!\n",
      "Player 3 loses!\n",
      "Player 4 loses!\n",
      "\n",
      "--- New Round ---\n"
     ]
    },
    {
     "name": "stdin",
     "output_type": "stream",
     "text": [
      "Player 1, place your bet:  5\n",
      "Player 2, place your bet:  5\n",
      "Player 3, place your bet:  5\n",
      "Player 4, place your bet:  5\n"
     ]
    },
    {
     "name": "stdout",
     "output_type": "stream",
     "text": [
      "\n",
      "Player 1's turn:\n",
      "\n",
      "Player 2's turn:\n"
     ]
    },
    {
     "name": "stdin",
     "output_type": "stream",
     "text": [
      "Do you want to (h)it or (s)tand?  h\n"
     ]
    },
    {
     "name": "stdout",
     "output_type": "stream",
     "text": [
      "Player 2 draws: 6 of Diamonds\n",
      "Your hand: ['8 of Diamonds', 'Queen of Spades', '6 of Diamonds']\n",
      "\n",
      "Player 3's turn:\n"
     ]
    },
    {
     "name": "stdin",
     "output_type": "stream",
     "text": [
      "Do you want to (h)it or (s)tand?  s\n"
     ]
    },
    {
     "name": "stdout",
     "output_type": "stream",
     "text": [
      "Player 3 stands.\n",
      "\n",
      "Player 4's turn:\n"
     ]
    },
    {
     "name": "stdin",
     "output_type": "stream",
     "text": [
      "Do you want to (h)it or (s)tand?  h\n"
     ]
    },
    {
     "name": "stdout",
     "output_type": "stream",
     "text": [
      "Player 4 draws: 3 of Spades\n",
      "Your hand: ['4 of Spades', '6 of Clubs', '3 of Spades']\n"
     ]
    },
    {
     "name": "stdin",
     "output_type": "stream",
     "text": [
      "Do you want to (h)it or (s)tand?  s\n"
     ]
    },
    {
     "name": "stdout",
     "output_type": "stream",
     "text": [
      "Player 4 stands.\n",
      "\n",
      "Dealer's turn:\n",
      "Dealer stands.\n",
      "\n",
      "Round Results:\n",
      "Player 1 wins!\n",
      "Player 2 loses!\n",
      "Player 3 loses!\n",
      "Player 4 loses!\n",
      "\n",
      "--- New Round ---\n"
     ]
    },
    {
     "name": "stdin",
     "output_type": "stream",
     "text": [
      "Player 1, place your bet:  5\n",
      "Player 2, place your bet:  5\n",
      "Player 3, place your bet:  5\n",
      "Player 4, place your bet:  5\n"
     ]
    },
    {
     "name": "stdout",
     "output_type": "stream",
     "text": [
      "\n",
      "Player 1's turn:\n"
     ]
    },
    {
     "name": "stdin",
     "output_type": "stream",
     "text": [
      "Do you want to (h)it or (s)tand?  h\n"
     ]
    },
    {
     "name": "stdout",
     "output_type": "stream",
     "text": [
      "Player 1 draws: King of Clubs\n",
      "Your hand: ['10 of Spades', 'Jack of Hearts', 'King of Clubs']\n",
      "\n",
      "Player 2's turn:\n"
     ]
    },
    {
     "name": "stdin",
     "output_type": "stream",
     "text": [
      "Do you want to (h)it or (s)tand?  s\n"
     ]
    },
    {
     "name": "stdout",
     "output_type": "stream",
     "text": [
      "Player 2 stands.\n",
      "\n",
      "Player 3's turn:\n"
     ]
    },
    {
     "name": "stdin",
     "output_type": "stream",
     "text": [
      "Do you want to (h)it or (s)tand?  h\n"
     ]
    },
    {
     "name": "stdout",
     "output_type": "stream",
     "text": [
      "Player 3 draws: 2 of Diamonds\n",
      "Your hand: ['2 of Hearts', '4 of Hearts', '2 of Diamonds']\n"
     ]
    },
    {
     "name": "stdin",
     "output_type": "stream",
     "text": [
      "Do you want to (h)it or (s)tand?  s\n"
     ]
    },
    {
     "name": "stdout",
     "output_type": "stream",
     "text": [
      "Player 3 stands.\n",
      "\n",
      "Player 4's turn:\n"
     ]
    },
    {
     "name": "stdin",
     "output_type": "stream",
     "text": [
      "Do you want to (h)it or (s)tand?  h\n"
     ]
    },
    {
     "name": "stdout",
     "output_type": "stream",
     "text": [
      "Player 4 draws: 4 of Hearts\n",
      "Your hand: ['Queen of Diamonds', 'King of Clubs', '4 of Hearts']\n",
      "\n",
      "Dealer's turn:\n",
      "Dealer stands.\n",
      "\n",
      "Round Results:\n",
      "Player 1 loses!\n",
      "Player 2 loses!\n",
      "Player 3 loses!\n",
      "Player 4 loses!\n",
      "\n",
      "--- New Round ---\n"
     ]
    },
    {
     "name": "stdin",
     "output_type": "stream",
     "text": [
      "Player 1, place your bet:  s\n"
     ]
    },
    {
     "name": "stdout",
     "output_type": "stream",
     "text": [
      "Invalid input. Please enter a valid integer.\n"
     ]
    },
    {
     "name": "stdin",
     "output_type": "stream",
     "text": [
      "Player 1, place your bet:  5\n",
      "Player 2, place your bet:  5\n",
      "Player 3, place your bet:  5\n",
      "Player 4, place your bet:  5\n"
     ]
    },
    {
     "name": "stdout",
     "output_type": "stream",
     "text": [
      "\n",
      "Player 1's turn:\n"
     ]
    },
    {
     "name": "stdin",
     "output_type": "stream",
     "text": [
      "Do you want to (h)it or (s)tand?  h\n"
     ]
    },
    {
     "name": "stdout",
     "output_type": "stream",
     "text": [
      "Player 1 draws: King of Spades\n",
      "Your hand: ['3 of Clubs', 'Queen of Diamonds', 'King of Spades']\n",
      "\n",
      "Player 2's turn:\n"
     ]
    },
    {
     "name": "stdin",
     "output_type": "stream",
     "text": [
      "Do you want to (h)it or (s)tand?  s\n"
     ]
    },
    {
     "name": "stdout",
     "output_type": "stream",
     "text": [
      "Player 2 stands.\n",
      "\n",
      "Player 3's turn:\n"
     ]
    },
    {
     "name": "stdin",
     "output_type": "stream",
     "text": [
      "Do you want to (h)it or (s)tand?  h\n"
     ]
    },
    {
     "name": "stdout",
     "output_type": "stream",
     "text": [
      "Player 3 draws: 5 of Clubs\n",
      "Your hand: ['2 of Spades', '10 of Spades', '5 of Clubs']\n"
     ]
    },
    {
     "name": "stdin",
     "output_type": "stream",
     "text": [
      "Do you want to (h)it or (s)tand?  s\n"
     ]
    },
    {
     "name": "stdout",
     "output_type": "stream",
     "text": [
      "Player 3 stands.\n",
      "\n",
      "Player 4's turn:\n"
     ]
    },
    {
     "name": "stdin",
     "output_type": "stream",
     "text": [
      "Do you want to (h)it or (s)tand?  h\n"
     ]
    },
    {
     "name": "stdout",
     "output_type": "stream",
     "text": [
      "Player 4 draws: 9 of Diamonds\n",
      "Your hand: ['7 of Clubs', '7 of Clubs', '9 of Diamonds']\n",
      "\n",
      "Dealer's turn:\n",
      "Dealer draws: 2 of Hearts\n",
      "Dealer's hand: ['4 of Hearts', '8 of Clubs', '2 of Hearts']\n",
      "Dealer draws: 3 of Spades\n",
      "Dealer's hand: ['4 of Hearts', '8 of Clubs', '2 of Hearts', '3 of Spades']\n",
      "Dealer stands.\n",
      "\n",
      "Round Results:\n",
      "Player 1 loses!\n",
      "Player 2 loses!\n",
      "Player 3 pushes!\n",
      "Player 4 loses!\n",
      "\n",
      "--- New Round ---\n"
     ]
    },
    {
     "name": "stdin",
     "output_type": "stream",
     "text": [
      "Player 1, place your bet:  s\n"
     ]
    },
    {
     "name": "stdout",
     "output_type": "stream",
     "text": [
      "Invalid input. Please enter a valid integer.\n"
     ]
    },
    {
     "name": "stdin",
     "output_type": "stream",
     "text": [
      "Player 1, place your bet:  5\n",
      "Player 2, place your bet:  5\n",
      "Player 3, place your bet:  5\n",
      "Player 4, place your bet:  5\n"
     ]
    },
    {
     "name": "stdout",
     "output_type": "stream",
     "text": [
      "\n",
      "Player 1's turn:\n"
     ]
    },
    {
     "name": "stdin",
     "output_type": "stream",
     "text": [
      "Do you want to (h)it or (s)tand?  h\n"
     ]
    },
    {
     "name": "stdout",
     "output_type": "stream",
     "text": [
      "Player 1 draws: 7 of Clubs\n",
      "Your hand: ['9 of Clubs', 'Ace of Hearts', '7 of Clubs']\n"
     ]
    },
    {
     "name": "stdin",
     "output_type": "stream",
     "text": [
      "Do you want to (h)it or (s)tand?  s\n"
     ]
    },
    {
     "name": "stdout",
     "output_type": "stream",
     "text": [
      "Player 1 stands.\n",
      "\n",
      "Player 2's turn:\n"
     ]
    },
    {
     "name": "stdin",
     "output_type": "stream",
     "text": [
      "Do you want to (h)it or (s)tand?  h\n"
     ]
    },
    {
     "name": "stdout",
     "output_type": "stream",
     "text": [
      "Player 2 draws: 5 of Clubs\n",
      "Your hand: ['6 of Spades', '10 of Hearts', '5 of Clubs']\n"
     ]
    },
    {
     "name": "stdin",
     "output_type": "stream",
     "text": [
      "Do you want to (h)it or (s)tand?  s\n"
     ]
    },
    {
     "name": "stdout",
     "output_type": "stream",
     "text": [
      "Player 2 stands.\n",
      "\n",
      "Player 3's turn:\n"
     ]
    },
    {
     "name": "stdin",
     "output_type": "stream",
     "text": [
      "Do you want to (h)it or (s)tand?  h\n"
     ]
    },
    {
     "name": "stdout",
     "output_type": "stream",
     "text": [
      "Player 3 draws: 5 of Spades\n",
      "Your hand: ['3 of Hearts', '4 of Spades', '5 of Spades']\n"
     ]
    },
    {
     "name": "stdin",
     "output_type": "stream",
     "text": [
      "Do you want to (h)it or (s)tand?  s\n"
     ]
    },
    {
     "name": "stdout",
     "output_type": "stream",
     "text": [
      "Player 3 stands.\n",
      "\n",
      "Player 4's turn:\n"
     ]
    },
    {
     "name": "stdin",
     "output_type": "stream",
     "text": [
      "Do you want to (h)it or (s)tand?  h\n"
     ]
    },
    {
     "name": "stdout",
     "output_type": "stream",
     "text": [
      "Player 4 draws: King of Clubs\n",
      "Your hand: ['2 of Hearts', '8 of Spades', 'King of Clubs']\n"
     ]
    },
    {
     "name": "stdin",
     "output_type": "stream",
     "text": [
      "Do you want to (h)it or (s)tand?  s\n"
     ]
    },
    {
     "name": "stdout",
     "output_type": "stream",
     "text": [
      "Player 4 stands.\n",
      "\n",
      "Dealer's turn:\n",
      "Dealer stands.\n",
      "\n",
      "Round Results:\n",
      "Player 1 loses!\n",
      "Player 2 wins!\n",
      "Player 3 loses!\n",
      "Player 4 wins!\n",
      "\n",
      "--- New Round ---\n"
     ]
    },
    {
     "name": "stdin",
     "output_type": "stream",
     "text": [
      "Player 1, place your bet:  h\n"
     ]
    },
    {
     "name": "stdout",
     "output_type": "stream",
     "text": [
      "Invalid input. Please enter a valid integer.\n"
     ]
    },
    {
     "name": "stdin",
     "output_type": "stream",
     "text": [
      "Player 1, place your bet:  4\n",
      "Player 2, place your bet:  4\n",
      "Player 3, place your bet:  4\n",
      "Player 4, place your bet:  4\n"
     ]
    },
    {
     "name": "stdout",
     "output_type": "stream",
     "text": [
      "\n",
      "Player 1's turn:\n"
     ]
    },
    {
     "name": "stdin",
     "output_type": "stream",
     "text": [
      "Do you want to (h)it or (s)tand?  h\n"
     ]
    },
    {
     "name": "stdout",
     "output_type": "stream",
     "text": [
      "Player 1 draws: 3 of Spades\n",
      "Your hand: ['8 of Diamonds', '10 of Hearts', '3 of Spades']\n"
     ]
    },
    {
     "name": "stdin",
     "output_type": "stream",
     "text": [
      "Do you want to (h)it or (s)tand?  s\n"
     ]
    },
    {
     "name": "stdout",
     "output_type": "stream",
     "text": [
      "Player 1 stands.\n",
      "\n",
      "Player 2's turn:\n"
     ]
    },
    {
     "name": "stdin",
     "output_type": "stream",
     "text": [
      "Do you want to (h)it or (s)tand?  h\n"
     ]
    },
    {
     "name": "stdout",
     "output_type": "stream",
     "text": [
      "Player 2 draws: 7 of Clubs\n",
      "Your hand: ['6 of Diamonds', '8 of Spades', '7 of Clubs']\n"
     ]
    },
    {
     "name": "stdin",
     "output_type": "stream",
     "text": [
      "Do you want to (h)it or (s)tand?  s\n"
     ]
    },
    {
     "name": "stdout",
     "output_type": "stream",
     "text": [
      "Player 2 stands.\n",
      "\n",
      "Player 3's turn:\n"
     ]
    },
    {
     "name": "stdin",
     "output_type": "stream",
     "text": [
      "Do you want to (h)it or (s)tand?  h\n"
     ]
    },
    {
     "name": "stdout",
     "output_type": "stream",
     "text": [
      "Player 3 draws: 2 of Hearts\n",
      "Your hand: ['9 of Spades', '2 of Clubs', '2 of Hearts']\n"
     ]
    },
    {
     "name": "stdin",
     "output_type": "stream",
     "text": [
      "Do you want to (h)it or (s)tand?  s\n"
     ]
    },
    {
     "name": "stdout",
     "output_type": "stream",
     "text": [
      "Player 3 stands.\n",
      "\n",
      "Player 4's turn:\n",
      "\n",
      "Dealer's turn:\n",
      "Dealer draws: Ace of Spades\n",
      "Dealer's hand: ['Queen of Spades', '3 of Hearts', 'Ace of Spades']\n",
      "Dealer draws: 5 of Diamonds\n",
      "Dealer's hand: ['Queen of Spades', '3 of Hearts', 'Ace of Spades', '5 of Diamonds']\n",
      "Dealer stands.\n",
      "\n",
      "Round Results:\n",
      "Player 1 wins!\n",
      "Player 2 wins!\n",
      "Player 3 loses!\n",
      "Player 4 wins!\n",
      "\n",
      "--- New Round ---\n"
     ]
    },
    {
     "name": "stdin",
     "output_type": "stream",
     "text": [
      "Player 1, place your bet:  6\n",
      "Player 2, place your bet:  6\n",
      "Player 3, place your bet:  6\n",
      "Player 4, place your bet:  6\n"
     ]
    },
    {
     "name": "stdout",
     "output_type": "stream",
     "text": [
      "\n",
      "Player 1's turn:\n"
     ]
    },
    {
     "name": "stdin",
     "output_type": "stream",
     "text": [
      "Do you want to (h)it or (s)tand?  h\n"
     ]
    },
    {
     "name": "stdout",
     "output_type": "stream",
     "text": [
      "Player 1 draws: King of Hearts\n",
      "Your hand: ['6 of Diamonds', '4 of Hearts', 'King of Hearts']\n"
     ]
    },
    {
     "name": "stdin",
     "output_type": "stream",
     "text": [
      "Do you want to (h)it or (s)tand?  s\n"
     ]
    },
    {
     "name": "stdout",
     "output_type": "stream",
     "text": [
      "Player 1 stands.\n",
      "\n",
      "Player 2's turn:\n"
     ]
    },
    {
     "name": "stdin",
     "output_type": "stream",
     "text": [
      "Do you want to (h)it or (s)tand?  h\n"
     ]
    },
    {
     "name": "stdout",
     "output_type": "stream",
     "text": [
      "Player 2 draws: 3 of Clubs\n",
      "Your hand: ['2 of Spades', 'Ace of Diamonds', '3 of Clubs']\n"
     ]
    },
    {
     "name": "stdin",
     "output_type": "stream",
     "text": [
      "Do you want to (h)it or (s)tand?  s\n"
     ]
    },
    {
     "name": "stdout",
     "output_type": "stream",
     "text": [
      "Player 2 stands.\n",
      "\n",
      "Player 3's turn:\n"
     ]
    },
    {
     "name": "stdin",
     "output_type": "stream",
     "text": [
      "Do you want to (h)it or (s)tand?  h\n"
     ]
    },
    {
     "name": "stdout",
     "output_type": "stream",
     "text": [
      "Player 3 draws: 7 of Hearts\n",
      "Your hand: ['8 of Diamonds', '10 of Hearts', '7 of Hearts']\n",
      "\n",
      "Player 4's turn:\n"
     ]
    },
    {
     "name": "stdin",
     "output_type": "stream",
     "text": [
      "Do you want to (h)it or (s)tand?  s\n"
     ]
    },
    {
     "name": "stdout",
     "output_type": "stream",
     "text": [
      "Player 4 stands.\n",
      "\n",
      "Dealer's turn:\n",
      "Dealer draws: 9 of Clubs\n",
      "Dealer's hand: ['10 of Clubs', '5 of Spades', '9 of Clubs']\n",
      "\n",
      "Round Results:\n",
      "Player 1 wins!\n",
      "Player 2 wins!\n",
      "Player 3 loses!\n",
      "Player 4 wins!\n",
      "\n",
      "--- New Round ---\n"
     ]
    },
    {
     "name": "stdin",
     "output_type": "stream",
     "text": [
      "Player 1, place your bet:  h\n"
     ]
    },
    {
     "name": "stdout",
     "output_type": "stream",
     "text": [
      "Invalid input. Please enter a valid integer.\n"
     ]
    },
    {
     "name": "stdin",
     "output_type": "stream",
     "text": [
      "Player 1, place your bet:  5\n",
      "Player 2, place your bet:  5\n",
      "Player 3, place your bet:  5\n",
      "Player 4, place your bet:  5\n"
     ]
    },
    {
     "name": "stdout",
     "output_type": "stream",
     "text": [
      "\n",
      "Player 1's turn:\n"
     ]
    },
    {
     "name": "stdin",
     "output_type": "stream",
     "text": [
      "Do you want to (h)it or (s)tand?  h\n"
     ]
    },
    {
     "name": "stdout",
     "output_type": "stream",
     "text": [
      "Player 1 draws: Jack of Clubs\n",
      "Your hand: ['2 of Diamonds', '6 of Diamonds', 'Jack of Clubs']\n"
     ]
    },
    {
     "name": "stdin",
     "output_type": "stream",
     "text": [
      "Do you want to (h)it or (s)tand?  s\n"
     ]
    },
    {
     "name": "stdout",
     "output_type": "stream",
     "text": [
      "Player 1 stands.\n",
      "\n",
      "Player 2's turn:\n"
     ]
    },
    {
     "name": "stdin",
     "output_type": "stream",
     "text": [
      "Do you want to (h)it or (s)tand?  h\n"
     ]
    },
    {
     "name": "stdout",
     "output_type": "stream",
     "text": [
      "Player 2 draws: 9 of Clubs\n",
      "Your hand: ['4 of Diamonds', '5 of Clubs', '9 of Clubs']\n"
     ]
    },
    {
     "name": "stdin",
     "output_type": "stream",
     "text": [
      "Do you want to (h)it or (s)tand?  s\n"
     ]
    },
    {
     "name": "stdout",
     "output_type": "stream",
     "text": [
      "Player 2 stands.\n",
      "\n",
      "Player 3's turn:\n"
     ]
    },
    {
     "name": "stdin",
     "output_type": "stream",
     "text": [
      "Do you want to (h)it or (s)tand?  h\n"
     ]
    },
    {
     "name": "stdout",
     "output_type": "stream",
     "text": [
      "Player 3 draws: King of Clubs\n",
      "Your hand: ['King of Hearts', '4 of Hearts', 'King of Clubs']\n",
      "\n",
      "Player 4's turn:\n"
     ]
    },
    {
     "name": "stdin",
     "output_type": "stream",
     "text": [
      "Do you want to (h)it or (s)tand?  s\n"
     ]
    },
    {
     "name": "stdout",
     "output_type": "stream",
     "text": [
      "Player 4 stands.\n",
      "\n",
      "Dealer's turn:\n",
      "Dealer draws: 7 of Diamonds\n",
      "Dealer's hand: ['5 of Diamonds', '3 of Hearts', '7 of Diamonds']\n",
      "Dealer draws: 5 of Spades\n",
      "Dealer's hand: ['5 of Diamonds', '3 of Hearts', '7 of Diamonds', '5 of Spades']\n",
      "Dealer stands.\n",
      "\n",
      "Round Results:\n",
      "Player 1 loses!\n",
      "Player 2 loses!\n",
      "Player 3 loses!\n",
      "Player 4 loses!\n",
      "\n",
      "--- New Round ---\n"
     ]
    },
    {
     "name": "stdin",
     "output_type": "stream",
     "text": [
      "Player 1, place your bet:  h\n"
     ]
    },
    {
     "name": "stdout",
     "output_type": "stream",
     "text": [
      "Invalid input. Please enter a valid integer.\n"
     ]
    },
    {
     "name": "stdin",
     "output_type": "stream",
     "text": [
      "Player 1, place your bet:  s\n"
     ]
    },
    {
     "name": "stdout",
     "output_type": "stream",
     "text": [
      "Invalid input. Please enter a valid integer.\n"
     ]
    },
    {
     "name": "stdin",
     "output_type": "stream",
     "text": [
      "Player 1, place your bet:  5\n",
      "Player 2, place your bet:  5\n",
      "Player 3, place your bet:  5\n",
      "Player 4, place your bet:  5\n"
     ]
    },
    {
     "name": "stdout",
     "output_type": "stream",
     "text": [
      "\n",
      "Player 1's turn:\n"
     ]
    },
    {
     "name": "stdin",
     "output_type": "stream",
     "text": [
      "Do you want to (h)it or (s)tand?  h\n"
     ]
    },
    {
     "name": "stdout",
     "output_type": "stream",
     "text": [
      "Player 1 draws: 8 of Diamonds\n",
      "Your hand: ['6 of Diamonds', 'Queen of Diamonds', '8 of Diamonds']\n",
      "\n",
      "Player 2's turn:\n"
     ]
    },
    {
     "name": "stdin",
     "output_type": "stream",
     "text": [
      "Do you want to (h)it or (s)tand?  s\n"
     ]
    },
    {
     "name": "stdout",
     "output_type": "stream",
     "text": [
      "Player 2 stands.\n",
      "\n",
      "Player 3's turn:\n"
     ]
    },
    {
     "name": "stdin",
     "output_type": "stream",
     "text": [
      "Do you want to (h)it or (s)tand?  \n",
      "Do you want to (h)it or (s)tand?  h\n"
     ]
    },
    {
     "name": "stdout",
     "output_type": "stream",
     "text": [
      "Player 3 draws: 9 of Hearts\n",
      "Your hand: ['5 of Spades', '10 of Clubs', '9 of Hearts']\n",
      "\n",
      "Player 4's turn:\n"
     ]
    },
    {
     "name": "stdin",
     "output_type": "stream",
     "text": [
      "Do you want to (h)it or (s)tand?  s\n"
     ]
    },
    {
     "name": "stdout",
     "output_type": "stream",
     "text": [
      "Player 4 stands.\n",
      "\n",
      "Dealer's turn:\n",
      "Dealer stands.\n",
      "\n",
      "Round Results:\n",
      "Player 1 loses!\n",
      "Player 2 wins!\n",
      "Player 3 loses!\n",
      "Player 4 loses!\n",
      "\n",
      "--- New Round ---\n"
     ]
    },
    {
     "name": "stdin",
     "output_type": "stream",
     "text": [
      "Player 1, place your bet:  4\n",
      "Player 2, place your bet:  4\n",
      "Player 3, place your bet:  4\n",
      "Player 4, place your bet:  4\n"
     ]
    },
    {
     "name": "stdout",
     "output_type": "stream",
     "text": [
      "\n",
      "Player 1's turn:\n"
     ]
    },
    {
     "name": "stdin",
     "output_type": "stream",
     "text": [
      "Do you want to (h)it or (s)tand?  h\n"
     ]
    },
    {
     "name": "stdout",
     "output_type": "stream",
     "text": [
      "Player 1 draws: 5 of Hearts\n",
      "Your hand: ['5 of Diamonds', '10 of Clubs', '5 of Hearts']\n"
     ]
    },
    {
     "name": "stdin",
     "output_type": "stream",
     "text": [
      "Do you want to (h)it or (s)tand?  s\n"
     ]
    },
    {
     "name": "stdout",
     "output_type": "stream",
     "text": [
      "Player 1 stands.\n",
      "\n",
      "Player 2's turn:\n"
     ]
    },
    {
     "name": "stdin",
     "output_type": "stream",
     "text": [
      "Do you want to (h)it or (s)tand?  h\n"
     ]
    },
    {
     "name": "stdout",
     "output_type": "stream",
     "text": [
      "Player 2 draws: Jack of Clubs\n",
      "Your hand: ['2 of Clubs', '8 of Diamonds', 'Jack of Clubs']\n"
     ]
    },
    {
     "name": "stdin",
     "output_type": "stream",
     "text": [
      "Do you want to (h)it or (s)tand?  s\n"
     ]
    },
    {
     "name": "stdout",
     "output_type": "stream",
     "text": [
      "Player 2 stands.\n",
      "\n",
      "Player 3's turn:\n"
     ]
    },
    {
     "name": "stdin",
     "output_type": "stream",
     "text": [
      "Do you want to (h)it or (s)tand?  h\n"
     ]
    },
    {
     "name": "stdout",
     "output_type": "stream",
     "text": [
      "Player 3 draws: 4 of Spades\n",
      "Your hand: ['3 of Clubs', 'Jack of Clubs', '4 of Spades']\n"
     ]
    },
    {
     "name": "stdin",
     "output_type": "stream",
     "text": [
      "Do you want to (h)it or (s)tand?  s\n"
     ]
    },
    {
     "name": "stdout",
     "output_type": "stream",
     "text": [
      "Player 3 stands.\n",
      "\n",
      "Player 4's turn:\n"
     ]
    },
    {
     "name": "stdin",
     "output_type": "stream",
     "text": [
      "Do you want to (h)it or (s)tand?  h\n"
     ]
    },
    {
     "name": "stdout",
     "output_type": "stream",
     "text": [
      "Player 4 draws: Ace of Spades\n",
      "Your hand: ['5 of Diamonds', '3 of Diamonds', 'Ace of Spades']\n"
     ]
    },
    {
     "name": "stdin",
     "output_type": "stream",
     "text": [
      "Do you want to (h)it or (s)tand?  s\n"
     ]
    },
    {
     "name": "stdout",
     "output_type": "stream",
     "text": [
      "Player 4 stands.\n",
      "\n",
      "Dealer's turn:\n",
      "Dealer draws: Ace of Diamonds\n",
      "Dealer's hand: ['3 of Clubs', 'King of Clubs', 'Ace of Diamonds']\n",
      "Dealer draws: 2 of Clubs\n",
      "Dealer's hand: ['3 of Clubs', 'King of Clubs', 'Ace of Diamonds', '2 of Clubs']\n",
      "Dealer draws: 7 of Hearts\n",
      "Dealer's hand: ['3 of Clubs', 'King of Clubs', 'Ace of Diamonds', '2 of Clubs', '7 of Hearts']\n",
      "\n",
      "Round Results:\n",
      "Player 1 wins!\n",
      "Player 2 wins!\n",
      "Player 3 wins!\n",
      "Player 4 wins!\n",
      "\n",
      "--- New Round ---\n"
     ]
    },
    {
     "name": "stdin",
     "output_type": "stream",
     "text": [
      "Player 1, place your bet:  5\n",
      "Player 2, place your bet:  5\n",
      "Player 3, place your bet:  5\n",
      "Player 4, place your bet:  5\n"
     ]
    },
    {
     "name": "stdout",
     "output_type": "stream",
     "text": [
      "\n",
      "Player 1's turn:\n"
     ]
    },
    {
     "name": "stdin",
     "output_type": "stream",
     "text": [
      "Do you want to (h)it or (s)tand?  h\n"
     ]
    },
    {
     "name": "stdout",
     "output_type": "stream",
     "text": [
      "Player 1 draws: 7 of Diamonds\n",
      "Your hand: ['5 of Hearts', 'Ace of Spades', '7 of Diamonds']\n"
     ]
    },
    {
     "name": "stdin",
     "output_type": "stream",
     "text": [
      "Do you want to (h)it or (s)tand?  s\n"
     ]
    },
    {
     "name": "stdout",
     "output_type": "stream",
     "text": [
      "Player 1 stands.\n",
      "\n",
      "Player 2's turn:\n"
     ]
    },
    {
     "name": "stdin",
     "output_type": "stream",
     "text": [
      "Do you want to (h)it or (s)tand?  h\n"
     ]
    },
    {
     "name": "stdout",
     "output_type": "stream",
     "text": [
      "Player 2 draws: 8 of Spades\n",
      "Your hand: ['3 of Hearts', '4 of Hearts', '8 of Spades']\n"
     ]
    },
    {
     "name": "stdin",
     "output_type": "stream",
     "text": [
      "Do you want to (h)it or (s)tand?  s\n"
     ]
    },
    {
     "name": "stdout",
     "output_type": "stream",
     "text": [
      "Player 2 stands.\n",
      "\n",
      "Player 3's turn:\n"
     ]
    },
    {
     "name": "stdin",
     "output_type": "stream",
     "text": [
      "Do you want to (h)it or (s)tand?  h\n"
     ]
    },
    {
     "name": "stdout",
     "output_type": "stream",
     "text": [
      "Player 3 draws: 2 of Clubs\n",
      "Your hand: ['8 of Hearts', '5 of Spades', '2 of Clubs']\n"
     ]
    },
    {
     "name": "stdin",
     "output_type": "stream",
     "text": [
      "Do you want to (h)it or (s)tand?  s\n"
     ]
    },
    {
     "name": "stdout",
     "output_type": "stream",
     "text": [
      "Player 3 stands.\n",
      "\n",
      "Player 4's turn:\n"
     ]
    },
    {
     "name": "stdin",
     "output_type": "stream",
     "text": [
      "Do you want to (h)it or (s)tand?  h\n"
     ]
    },
    {
     "name": "stdout",
     "output_type": "stream",
     "text": [
      "Player 4 draws: King of Hearts\n",
      "Your hand: ['3 of Spades', '6 of Hearts', 'King of Hearts']\n"
     ]
    },
    {
     "name": "stdin",
     "output_type": "stream",
     "text": [
      "Do you want to (h)it or (s)tand?  s\n"
     ]
    },
    {
     "name": "stdout",
     "output_type": "stream",
     "text": [
      "Player 4 stands.\n",
      "\n",
      "Dealer's turn:\n",
      "Dealer draws: 7 of Hearts\n",
      "Dealer's hand: ['5 of Hearts', 'Jack of Spades', '7 of Hearts']\n",
      "\n",
      "Round Results:\n",
      "Player 1 wins!\n",
      "Player 2 wins!\n",
      "Player 3 wins!\n",
      "Player 4 wins!\n",
      "\n",
      "--- New Round ---\n"
     ]
    },
    {
     "name": "stdin",
     "output_type": "stream",
     "text": [
      "Player 1, place your bet:  5\n",
      "Player 2, place your bet:  5\n",
      "Player 3, place your bet:  5\n",
      "Player 4, place your bet:  5\n"
     ]
    },
    {
     "name": "stdout",
     "output_type": "stream",
     "text": [
      "\n",
      "Player 1's turn:\n"
     ]
    },
    {
     "name": "stdin",
     "output_type": "stream",
     "text": [
      "Do you want to (h)it or (s)tand?  h\n"
     ]
    },
    {
     "name": "stdout",
     "output_type": "stream",
     "text": [
      "Player 1 draws: Jack of Clubs\n",
      "Your hand: ['Ace of Clubs', '7 of Spades', 'Jack of Clubs']\n"
     ]
    },
    {
     "name": "stdin",
     "output_type": "stream",
     "text": [
      "Do you want to (h)it or (s)tand?  s\n"
     ]
    },
    {
     "name": "stdout",
     "output_type": "stream",
     "text": [
      "Player 1 stands.\n",
      "\n",
      "Player 2's turn:\n"
     ]
    },
    {
     "name": "stdin",
     "output_type": "stream",
     "text": [
      "Do you want to (h)it or (s)tand?  h\n"
     ]
    },
    {
     "name": "stdout",
     "output_type": "stream",
     "text": [
      "Player 2 draws: 2 of Spades\n",
      "Your hand: ['4 of Spades', 'Jack of Clubs', '2 of Spades']\n"
     ]
    },
    {
     "name": "stdin",
     "output_type": "stream",
     "text": [
      "Do you want to (h)it or (s)tand?  s\n"
     ]
    },
    {
     "name": "stdout",
     "output_type": "stream",
     "text": [
      "Player 2 stands.\n",
      "\n",
      "Player 3's turn:\n"
     ]
    },
    {
     "name": "stdin",
     "output_type": "stream",
     "text": [
      "Do you want to (h)it or (s)tand?  h\n"
     ]
    },
    {
     "name": "stdout",
     "output_type": "stream",
     "text": [
      "Player 3 draws: 8 of Diamonds\n",
      "Your hand: ['King of Diamonds', 'Jack of Clubs', '8 of Diamonds']\n",
      "\n",
      "Player 4's turn:\n"
     ]
    },
    {
     "name": "stdin",
     "output_type": "stream",
     "text": [
      "Do you want to (h)it or (s)tand?  s\n"
     ]
    },
    {
     "name": "stdout",
     "output_type": "stream",
     "text": [
      "Player 4 stands.\n",
      "\n",
      "Dealer's turn:\n",
      "Dealer draws: 6 of Diamonds\n",
      "Dealer's hand: ['6 of Clubs', '5 of Diamonds', '6 of Diamonds']\n",
      "Dealer stands.\n",
      "\n",
      "Round Results:\n",
      "Player 1 wins!\n",
      "Player 2 loses!\n",
      "Player 3 loses!\n",
      "Player 4 loses!\n",
      "\n",
      "--- New Round ---\n"
     ]
    },
    {
     "name": "stdin",
     "output_type": "stream",
     "text": [
      "Player 1, place your bet:  4\n",
      "Player 2, place your bet:  4\n",
      "Player 3, place your bet:  4\n",
      "Player 4, place your bet:  4\n"
     ]
    },
    {
     "name": "stdout",
     "output_type": "stream",
     "text": [
      "\n",
      "Player 1's turn:\n"
     ]
    },
    {
     "name": "stdin",
     "output_type": "stream",
     "text": [
      "Do you want to (h)it or (s)tand?  h\n"
     ]
    },
    {
     "name": "stdout",
     "output_type": "stream",
     "text": [
      "Player 1 draws: 9 of Diamonds\n",
      "Your hand: ['8 of Spades', 'King of Hearts', '9 of Diamonds']\n",
      "\n",
      "Player 2's turn:\n"
     ]
    },
    {
     "name": "stdin",
     "output_type": "stream",
     "text": [
      "Do you want to (h)it or (s)tand?  s\n"
     ]
    },
    {
     "name": "stdout",
     "output_type": "stream",
     "text": [
      "Player 2 stands.\n",
      "\n",
      "Player 3's turn:\n"
     ]
    },
    {
     "name": "stdin",
     "output_type": "stream",
     "text": [
      "Do you want to (h)it or (s)tand?  h\n"
     ]
    },
    {
     "name": "stdout",
     "output_type": "stream",
     "text": [
      "Player 3 draws: 10 of Spades\n",
      "Your hand: ['10 of Hearts', '4 of Clubs', '10 of Spades']\n",
      "\n",
      "Player 4's turn:\n"
     ]
    },
    {
     "name": "stdin",
     "output_type": "stream",
     "text": [
      "Do you want to (h)it or (s)tand?  s\n"
     ]
    },
    {
     "name": "stdout",
     "output_type": "stream",
     "text": [
      "Player 4 stands.\n",
      "\n",
      "Dealer's turn:\n",
      "\n",
      "Round Results:\n",
      "Player 1 loses!\n",
      "Player 2 loses!\n",
      "Player 3 loses!\n",
      "Player 4 loses!\n",
      "\n",
      "--- New Round ---\n"
     ]
    },
    {
     "name": "stdin",
     "output_type": "stream",
     "text": [
      "Player 1, place your bet:  h\n"
     ]
    },
    {
     "name": "stdout",
     "output_type": "stream",
     "text": [
      "Invalid input. Please enter a valid integer.\n"
     ]
    },
    {
     "name": "stdin",
     "output_type": "stream",
     "text": [
      "Player 1, place your bet:  4\n",
      "Player 2, place your bet:  4\n",
      "Player 3, place your bet:  4\n",
      "Player 4, place your bet:  4\n"
     ]
    },
    {
     "name": "stdout",
     "output_type": "stream",
     "text": [
      "\n",
      "Player 1's turn:\n"
     ]
    },
    {
     "name": "stdin",
     "output_type": "stream",
     "text": [
      "Do you want to (h)it or (s)tand?  h\n"
     ]
    },
    {
     "name": "stdout",
     "output_type": "stream",
     "text": [
      "Player 1 draws: 4 of Clubs\n",
      "Your hand: ['4 of Spades', '9 of Clubs', '4 of Clubs']\n"
     ]
    },
    {
     "name": "stdin",
     "output_type": "stream",
     "text": [
      "Do you want to (h)it or (s)tand?  s\n"
     ]
    },
    {
     "name": "stdout",
     "output_type": "stream",
     "text": [
      "Player 1 stands.\n",
      "\n",
      "Player 2's turn:\n"
     ]
    },
    {
     "name": "stdin",
     "output_type": "stream",
     "text": [
      "Do you want to (h)it or (s)tand?  h\n"
     ]
    },
    {
     "name": "stdout",
     "output_type": "stream",
     "text": [
      "Player 2 draws: 10 of Hearts\n",
      "Your hand: ['King of Hearts', 'King of Hearts', '10 of Hearts']\n",
      "\n",
      "Player 3's turn:\n"
     ]
    },
    {
     "name": "stdin",
     "output_type": "stream",
     "text": [
      "Do you want to (h)it or (s)tand?  s\n"
     ]
    },
    {
     "name": "stdout",
     "output_type": "stream",
     "text": [
      "Player 3 stands.\n",
      "\n",
      "Player 4's turn:\n"
     ]
    },
    {
     "name": "stdin",
     "output_type": "stream",
     "text": [
      "Do you want to (h)it or (s)tand?  h\n"
     ]
    },
    {
     "name": "stdout",
     "output_type": "stream",
     "text": [
      "Player 4 draws: 10 of Hearts\n",
      "Your hand: ['5 of Clubs', 'Ace of Spades', '10 of Hearts']\n"
     ]
    },
    {
     "name": "stdin",
     "output_type": "stream",
     "text": [
      "Do you want to (h)it or (s)tand?  s\n"
     ]
    },
    {
     "name": "stdout",
     "output_type": "stream",
     "text": [
      "Player 4 stands.\n",
      "\n",
      "Dealer's turn:\n",
      "\n",
      "Round Results:\n",
      "Player 1 loses!\n",
      "Player 2 loses!\n",
      "Player 3 loses!\n",
      "Player 4 loses!\n",
      "\n",
      "--- New Round ---\n"
     ]
    },
    {
     "name": "stdin",
     "output_type": "stream",
     "text": [
      "Player 1, place your bet:  4\n",
      "Player 2, place your bet:  4\n",
      "Player 3, place your bet:  4\n",
      "Player 4, place your bet:  4\n"
     ]
    },
    {
     "name": "stdout",
     "output_type": "stream",
     "text": [
      "\n",
      "Player 1's turn:\n"
     ]
    },
    {
     "name": "stdin",
     "output_type": "stream",
     "text": [
      "Do you want to (h)it or (s)tand?  h\n"
     ]
    },
    {
     "name": "stdout",
     "output_type": "stream",
     "text": [
      "Player 1 draws: 7 of Spades\n",
      "Your hand: ['9 of Clubs', '3 of Hearts', '7 of Spades']\n"
     ]
    },
    {
     "name": "stdin",
     "output_type": "stream",
     "text": [
      "Do you want to (h)it or (s)tand?  s\n"
     ]
    },
    {
     "name": "stdout",
     "output_type": "stream",
     "text": [
      "Player 1 stands.\n",
      "\n",
      "Player 2's turn:\n"
     ]
    },
    {
     "name": "stdin",
     "output_type": "stream",
     "text": [
      "Do you want to (h)it or (s)tand?  h\n"
     ]
    },
    {
     "name": "stdout",
     "output_type": "stream",
     "text": [
      "Player 2 draws: King of Spades\n",
      "Your hand: ['2 of Hearts', '8 of Spades', 'King of Spades']\n"
     ]
    },
    {
     "name": "stdin",
     "output_type": "stream",
     "text": [
      "Do you want to (h)it or (s)tand?  s\n"
     ]
    },
    {
     "name": "stdout",
     "output_type": "stream",
     "text": [
      "Player 2 stands.\n",
      "\n",
      "Player 3's turn:\n"
     ]
    },
    {
     "name": "stdin",
     "output_type": "stream",
     "text": [
      "Do you want to (h)it or (s)tand?  h\n"
     ]
    },
    {
     "name": "stdout",
     "output_type": "stream",
     "text": [
      "Player 3 draws: 10 of Clubs\n",
      "Your hand: ['5 of Spades', '7 of Spades', '10 of Clubs']\n",
      "\n",
      "Player 4's turn:\n"
     ]
    },
    {
     "name": "stdin",
     "output_type": "stream",
     "text": [
      "Do you want to (h)it or (s)tand?  s\n"
     ]
    },
    {
     "name": "stdout",
     "output_type": "stream",
     "text": [
      "Player 4 stands.\n",
      "\n",
      "Dealer's turn:\n",
      "Dealer draws: 2 of Spades\n",
      "Dealer's hand: ['5 of Hearts', '7 of Diamonds', '2 of Spades']\n",
      "Dealer draws: 2 of Diamonds\n",
      "Dealer's hand: ['5 of Hearts', '7 of Diamonds', '2 of Spades', '2 of Diamonds']\n",
      "Dealer draws: 6 of Clubs\n",
      "Dealer's hand: ['5 of Hearts', '7 of Diamonds', '2 of Spades', '2 of Diamonds', '6 of Clubs']\n",
      "\n",
      "Round Results:\n",
      "Player 1 wins!\n",
      "Player 2 wins!\n",
      "Player 3 loses!\n",
      "Player 4 wins!\n",
      "\n",
      "--- New Round ---\n"
     ]
    },
    {
     "name": "stdin",
     "output_type": "stream",
     "text": [
      "Player 1, place your bet:  h\n"
     ]
    },
    {
     "name": "stdout",
     "output_type": "stream",
     "text": [
      "Invalid input. Please enter a valid integer.\n"
     ]
    },
    {
     "name": "stdin",
     "output_type": "stream",
     "text": [
      "Player 1, place your bet:  4\n",
      "Player 2, place your bet:  4\n",
      "Player 3, place your bet:  4\n",
      "Player 4, place your bet:  4\n"
     ]
    },
    {
     "name": "stdout",
     "output_type": "stream",
     "text": [
      "\n",
      "Player 1's turn:\n"
     ]
    },
    {
     "name": "stdin",
     "output_type": "stream",
     "text": [
      "Do you want to (h)it or (s)tand?  h\n"
     ]
    },
    {
     "name": "stdout",
     "output_type": "stream",
     "text": [
      "Player 1 draws: 9 of Clubs\n",
      "Your hand: ['7 of Clubs', '9 of Hearts', '9 of Clubs']\n",
      "\n",
      "Player 2's turn:\n"
     ]
    },
    {
     "name": "stdin",
     "output_type": "stream",
     "text": [
      "Do you want to (h)it or (s)tand?  s\n"
     ]
    },
    {
     "name": "stdout",
     "output_type": "stream",
     "text": [
      "Player 2 stands.\n",
      "\n",
      "Player 3's turn:\n"
     ]
    },
    {
     "name": "stdin",
     "output_type": "stream",
     "text": [
      "Do you want to (h)it or (s)tand?  h\n"
     ]
    },
    {
     "name": "stdout",
     "output_type": "stream",
     "text": [
      "Player 3 draws: Jack of Hearts\n",
      "Your hand: ['3 of Clubs', '4 of Diamonds', 'Jack of Hearts']\n"
     ]
    },
    {
     "name": "stdin",
     "output_type": "stream",
     "text": [
      "Do you want to (h)it or (s)tand?  s\n"
     ]
    },
    {
     "name": "stdout",
     "output_type": "stream",
     "text": [
      "Player 3 stands.\n",
      "\n",
      "Player 4's turn:\n"
     ]
    },
    {
     "name": "stdin",
     "output_type": "stream",
     "text": [
      "Do you want to (h)it or (s)tand?  h\n"
     ]
    },
    {
     "name": "stdout",
     "output_type": "stream",
     "text": [
      "Player 4 draws: 3 of Diamonds\n",
      "Your hand: ['King of Diamonds', 'Queen of Diamonds', '3 of Diamonds']\n",
      "\n",
      "Dealer's turn:\n",
      "Dealer draws: 9 of Spades\n",
      "Dealer's hand: ['6 of Hearts', '6 of Hearts', '9 of Spades']\n",
      "Dealer stands.\n",
      "\n",
      "Round Results:\n",
      "Player 1 loses!\n",
      "Player 2 loses!\n",
      "Player 3 loses!\n",
      "Player 4 loses!\n",
      "\n",
      "--- New Round ---\n"
     ]
    },
    {
     "name": "stdin",
     "output_type": "stream",
     "text": [
      "Player 1, place your bet:  s\n"
     ]
    },
    {
     "name": "stdout",
     "output_type": "stream",
     "text": [
      "Invalid input. Please enter a valid integer.\n"
     ]
    },
    {
     "name": "stdin",
     "output_type": "stream",
     "text": [
      "Player 1, place your bet:  4\n",
      "Player 2, place your bet:  4\n",
      "Player 3, place your bet:  4\n",
      "Player 4, place your bet:  4\n"
     ]
    },
    {
     "name": "stdout",
     "output_type": "stream",
     "text": [
      "\n",
      "Player 1's turn:\n"
     ]
    },
    {
     "name": "stdin",
     "output_type": "stream",
     "text": [
      "Do you want to (h)it or (s)tand?  h\n"
     ]
    },
    {
     "name": "stdout",
     "output_type": "stream",
     "text": [
      "Player 1 draws: 10 of Clubs\n",
      "Your hand: ['7 of Hearts', '10 of Diamonds', '10 of Clubs']\n",
      "\n",
      "Player 2's turn:\n"
     ]
    },
    {
     "name": "stdin",
     "output_type": "stream",
     "text": [
      "Do you want to (h)it or (s)tand?  s\n"
     ]
    },
    {
     "name": "stdout",
     "output_type": "stream",
     "text": [
      "Player 2 stands.\n",
      "\n",
      "Player 3's turn:\n"
     ]
    },
    {
     "name": "stdin",
     "output_type": "stream",
     "text": [
      "Do you want to (h)it or (s)tand?  h\n"
     ]
    },
    {
     "name": "stdout",
     "output_type": "stream",
     "text": [
      "Player 3 draws: King of Spades\n",
      "Your hand: ['3 of Clubs', '10 of Diamonds', 'King of Spades']\n",
      "\n",
      "Player 4's turn:\n"
     ]
    },
    {
     "name": "stdin",
     "output_type": "stream",
     "text": [
      "Do you want to (h)it or (s)tand?  s\n"
     ]
    },
    {
     "name": "stdout",
     "output_type": "stream",
     "text": [
      "Player 4 stands.\n",
      "\n",
      "Dealer's turn:\n",
      "Dealer stands.\n",
      "\n",
      "Round Results:\n",
      "Player 1 loses!\n",
      "Player 2 loses!\n",
      "Player 3 loses!\n",
      "Player 4 pushes!\n"
     ]
    },
    {
     "ename": "IndexError",
     "evalue": "list index out of range",
     "output_type": "error",
     "traceback": [
      "\u001b[0;31m---------------------------------------------------------------------------\u001b[0m",
      "\u001b[0;31mIndexError\u001b[0m                                Traceback (most recent call last)",
      "Cell \u001b[0;32mIn[14], line 34\u001b[0m\n\u001b[1;32m     32\u001b[0m winnings_list \u001b[38;5;241m=\u001b[39m []\n\u001b[1;32m     33\u001b[0m \u001b[38;5;28;01mfor\u001b[39;00m _ \u001b[38;5;129;01min\u001b[39;00m \u001b[38;5;28mrange\u001b[39m(num_games):\n\u001b[0;32m---> 34\u001b[0m     winnings \u001b[38;5;241m=\u001b[39m \u001b[43mrun_game_with_threshold\u001b[49m\u001b[43m(\u001b[49m\u001b[43mthreshold\u001b[49m\u001b[43m)\u001b[49m\n\u001b[1;32m     35\u001b[0m     winnings_list\u001b[38;5;241m.\u001b[39mappend(winnings)\n\u001b[1;32m     37\u001b[0m avg_winnings_per_round \u001b[38;5;241m=\u001b[39m np\u001b[38;5;241m.\u001b[39mmean(winnings_list) \u001b[38;5;241m/\u001b[39m \u001b[38;5;241m50\u001b[39m\n",
      "Cell \u001b[0;32mIn[14], line 22\u001b[0m, in \u001b[0;36mrun_game_with_threshold\u001b[0;34m(threshold)\u001b[0m\n\u001b[1;32m     19\u001b[0m     game\u001b[38;5;241m.\u001b[39mplay_round()\n\u001b[1;32m     20\u001b[0m     game\u001b[38;5;241m.\u001b[39mreset_game()\n\u001b[0;32m---> 22\u001b[0m strategy_player \u001b[38;5;241m=\u001b[39m \u001b[43m[\u001b[49m\u001b[43mplayer\u001b[49m\u001b[43m \u001b[49m\u001b[38;5;28;43;01mfor\u001b[39;49;00m\u001b[43m \u001b[49m\u001b[43mplayer\u001b[49m\u001b[43m \u001b[49m\u001b[38;5;129;43;01min\u001b[39;49;00m\u001b[43m \u001b[49m\u001b[43mgame\u001b[49m\u001b[38;5;241;43m.\u001b[39;49m\u001b[43mplayers\u001b[49m\u001b[43m \u001b[49m\u001b[38;5;28;43;01mif\u001b[39;49;00m\u001b[43m \u001b[49m\u001b[38;5;28;43misinstance\u001b[39;49m\u001b[43m(\u001b[49m\u001b[43mplayer\u001b[49m\u001b[43m,\u001b[49m\u001b[43m \u001b[49m\u001b[43mThresholdCountingPlayer\u001b[49m\u001b[43m)\u001b[49m\u001b[43m]\u001b[49m\u001b[43m[\u001b[49m\u001b[38;5;241;43m0\u001b[39;49m\u001b[43m]\u001b[49m\n\u001b[1;32m     23\u001b[0m strategy_player_winnings \u001b[38;5;241m=\u001b[39m strategy_player\u001b[38;5;241m.\u001b[39mbalance \u001b[38;5;241m-\u001b[39m starting_balances[strategy_player]\n\u001b[1;32m     24\u001b[0m \u001b[38;5;28;01mreturn\u001b[39;00m strategy_player_winnings\n",
      "\u001b[0;31mIndexError\u001b[0m: list index out of range"
     ]
    }
   ],
   "source": [
    "def run_game_with_threshold(threshold):\n",
    "    class ThresholdCountingPlayer(CountingPlayer):\n",
    "        def hit(self, deck):\n",
    "            self.calculate_count()\n",
    "            if self.card_count <= threshold:\n",
    "                super().hit(deck)\n",
    "                print(f\"{self.name} hits.\")\n",
    "            else:\n",
    "                self.stand()\n",
    "                print(f\"{self.name} stands.\")\n",
    "\n",
    "    game = BlackjackGame(num_players=4)\n",
    "    rounds_to_play = 50\n",
    "    starting_chips = 1000\n",
    "\n",
    "    starting_balances = {player: player.balance for player in game.players}\n",
    "\n",
    "    for i in range(rounds_to_play):\n",
    "        game.play_round()\n",
    "        game.reset_game()\n",
    "\n",
    "    strategy_player = [player for player in game.players if isinstance(player, ThresholdCountingPlayer)][0]\n",
    "    strategy_player_winnings = strategy_player.balance - starting_balances[strategy_player]\n",
    "    return strategy_player_winnings\n",
    "\n",
    "num_games = 100\n",
    "\n",
    "threshold_values = [-2, -1, 0, 1, 2]\n",
    "average_winnings_per_rounds = []\n",
    "\n",
    "for threshold in threshold_values:\n",
    "    winnings_list = []\n",
    "    for _ in range(num_games):\n",
    "        winnings = run_game_with_threshold(threshold)\n",
    "        winnings_list.append(winnings)\n",
    "    \n",
    "    avg_winnings_per_round = np.mean(winnings_list) / 50\n",
    "    average_winnings_per_rounds.append(avg_winnings_per_round)\n",
    "\n",
    "optimal_threshold_index = np.argmax(average_winnings_per_rounds)\n",
    "optimal_threshold_value = threshold_values[optimal_threshold_index]\n",
    "\n",
    "print(f\"Threshold values: {threshold_values}\")\n",
    "print(f\"Average winnings per round for each threshold: {average_winnings_per_rounds}\")\n",
    "print(f\"Optimal threshold value: {optimal_threshold_value}\")\n"
   ]
  },
  {
   "cell_type": "markdown",
   "metadata": {},
   "source": [
    "9. Repeat previous questions scanning the value of the threshold. Try at least 5 different threshold values. Can you find an optimal value?"
   ]
  },
  {
   "cell_type": "code",
   "execution_count": 42,
   "metadata": {},
   "outputs": [
    {
     "name": "stdout",
     "output_type": "stream",
     "text": [
      "\n",
      "--- New Round ---\n",
      "\n",
      "Player 1's turn:\n",
      "\n",
      "Player 2's turn:\n"
     ]
    },
    {
     "name": "stdin",
     "output_type": "stream",
     "text": [
      "Do you want to (h)it or (s)tand?  s\n"
     ]
    },
    {
     "name": "stdout",
     "output_type": "stream",
     "text": [
      "Player 2 stands.\n",
      "\n",
      "Player 3's turn:\n"
     ]
    },
    {
     "name": "stdin",
     "output_type": "stream",
     "text": [
      "Do you want to (h)it or (s)tand?  s\n"
     ]
    },
    {
     "name": "stdout",
     "output_type": "stream",
     "text": [
      "Player 3 stands.\n",
      "\n",
      "Player 4's turn:\n"
     ]
    },
    {
     "name": "stdin",
     "output_type": "stream",
     "text": [
      "Do you want to (h)it or (s)tand?  s\n"
     ]
    },
    {
     "name": "stdout",
     "output_type": "stream",
     "text": [
      "Player 4 stands.\n",
      "\n",
      "Dealer's turn:\n",
      "Dealer draws: 8 of Clubs\n",
      "Dealer's hand: ['King of Hearts', '4 of Spades', '8 of Clubs']\n",
      "Player 1 wins! Dealer busts.\n"
     ]
    },
    {
     "ename": "AttributeError",
     "evalue": "'Player' object has no attribute 'bet'",
     "output_type": "error",
     "traceback": [
      "\u001b[0;31m---------------------------------------------------------------------------\u001b[0m",
      "\u001b[0;31mAttributeError\u001b[0m                            Traceback (most recent call last)",
      "Cell \u001b[0;32mIn[42], line 38\u001b[0m\n\u001b[1;32m     36\u001b[0m winnings_list \u001b[38;5;241m=\u001b[39m []\n\u001b[1;32m     37\u001b[0m \u001b[38;5;28;01mfor\u001b[39;00m _ \u001b[38;5;129;01min\u001b[39;00m \u001b[38;5;28mrange\u001b[39m(num_games):\n\u001b[0;32m---> 38\u001b[0m     winnings \u001b[38;5;241m=\u001b[39m \u001b[43mrun_game_with_threshold\u001b[49m\u001b[43m(\u001b[49m\u001b[43mthreshold\u001b[49m\u001b[43m)\u001b[49m\n\u001b[1;32m     39\u001b[0m     winnings_list\u001b[38;5;241m.\u001b[39mappend(winnings)\n\u001b[1;32m     41\u001b[0m \u001b[38;5;66;03m# Calculate average winnings per round\u001b[39;00m\n",
      "Cell \u001b[0;32mIn[42], line 23\u001b[0m, in \u001b[0;36mrun_game_with_threshold\u001b[0;34m(threshold)\u001b[0m\n\u001b[1;32m     21\u001b[0m \u001b[38;5;66;03m# Play rounds\u001b[39;00m\n\u001b[1;32m     22\u001b[0m \u001b[38;5;28;01mfor\u001b[39;00m i \u001b[38;5;129;01min\u001b[39;00m \u001b[38;5;28mrange\u001b[39m(rounds_to_play):\n\u001b[0;32m---> 23\u001b[0m     \u001b[43mgame\u001b[49m\u001b[38;5;241;43m.\u001b[39;49m\u001b[43mplay_round\u001b[49m\u001b[43m(\u001b[49m\u001b[43m)\u001b[49m\n\u001b[1;32m     24\u001b[0m     game\u001b[38;5;241m.\u001b[39mreset_game()\n\u001b[1;32m     26\u001b[0m \u001b[38;5;66;03m# Compute strategy player's winnings\u001b[39;00m\n",
      "Cell \u001b[0;32mIn[31], line 60\u001b[0m, in \u001b[0;36mBlackjackGame.play_round\u001b[0;34m(self)\u001b[0m\n\u001b[1;32m     58\u001b[0m \u001b[38;5;28;01melif\u001b[39;00m \u001b[38;5;28mself\u001b[39m\u001b[38;5;241m.\u001b[39mdealer\u001b[38;5;241m.\u001b[39mhand\u001b[38;5;241m.\u001b[39mis_bust():\n\u001b[1;32m     59\u001b[0m     \u001b[38;5;28mprint\u001b[39m(\u001b[38;5;124mf\u001b[39m\u001b[38;5;124m\"\u001b[39m\u001b[38;5;132;01m{\u001b[39;00mplayer\u001b[38;5;241m.\u001b[39mname\u001b[38;5;132;01m}\u001b[39;00m\u001b[38;5;124m wins! Dealer busts.\u001b[39m\u001b[38;5;124m\"\u001b[39m)\n\u001b[0;32m---> 60\u001b[0m     player\u001b[38;5;241m.\u001b[39mbalance \u001b[38;5;241m+\u001b[39m\u001b[38;5;241m=\u001b[39m \u001b[38;5;241m2\u001b[39m \u001b[38;5;241m*\u001b[39m \u001b[43mplayer\u001b[49m\u001b[38;5;241;43m.\u001b[39;49m\u001b[43mbet\u001b[49m\n\u001b[1;32m     61\u001b[0m \u001b[38;5;28;01melif\u001b[39;00m player\u001b[38;5;241m.\u001b[39mhand\u001b[38;5;241m.\u001b[39mget_value() \u001b[38;5;241m>\u001b[39m \u001b[38;5;28mself\u001b[39m\u001b[38;5;241m.\u001b[39mdealer\u001b[38;5;241m.\u001b[39mhand\u001b[38;5;241m.\u001b[39mget_value():\n\u001b[1;32m     62\u001b[0m     \u001b[38;5;28mprint\u001b[39m(\u001b[38;5;124mf\u001b[39m\u001b[38;5;124m\"\u001b[39m\u001b[38;5;132;01m{\u001b[39;00mplayer\u001b[38;5;241m.\u001b[39mname\u001b[38;5;132;01m}\u001b[39;00m\u001b[38;5;124m wins!\u001b[39m\u001b[38;5;124m\"\u001b[39m)\n",
      "\u001b[0;31mAttributeError\u001b[0m: 'Player' object has no attribute 'bet'"
     ]
    }
   ],
   "source": [
    "# Function to run a single game of 50 rounds and return strategy player's winnings for a given threshold\n",
    "def run_game_with_threshold(threshold):\n",
    "    class ThresholdCountingPlayer(CountingPlayer):\n",
    "        def hit(self, deck):\n",
    "            self.calculate_count()\n",
    "            if self.card_count <= threshold:\n",
    "                super().hit(deck)\n",
    "                print(f\"{self.name} hits.\")\n",
    "            else:\n",
    "                self.stand()\n",
    "                print(f\"{self.name} stands.\")\n",
    "\n",
    "    game = BlackjackGame(num_players=4)\n",
    "    rounds_to_play = 50\n",
    "    starting_chips = 1000\n",
    "\n",
    "    # Set starting balance for all players\n",
    "    for player in game.players:\n",
    "        player.balance = starting_chips\n",
    "\n",
    "    # Play rounds\n",
    "    for i in range(rounds_to_play):\n",
    "        game.play_round()\n",
    "        game.reset_game()\n",
    "\n",
    "    # Compute strategy player's winnings\n",
    "    strategy_player = [player for player in game.players if isinstance(player, ThresholdCountingPlayer)][0]\n",
    "    strategy_player_winnings = strategy_player.balance - starting_chips\n",
    "    return strategy_player_winnings\n",
    "\n",
    "# Try at least 5 different threshold values\n",
    "threshold_values = [-2, -1, 0, 1, 2]\n",
    "average_winnings_per_rounds = []\n",
    "\n",
    "for threshold in threshold_values:\n",
    "    winnings_list = []\n",
    "    for _ in range(num_games):\n",
    "        winnings = run_game_with_threshold(threshold)\n",
    "        winnings_list.append(winnings)\n",
    "    \n",
    "    # Calculate average winnings per round\n",
    "    avg_winnings_per_round = np.mean(winnings_list) / 50\n",
    "    average_winnings_per_rounds.append(avg_winnings_per_round)\n",
    "\n",
    "# Find optimal threshold value\n",
    "optimal_threshold_index = np.argmax(average_winnings_per_rounds)\n",
    "optimal_threshold_value = threshold_values[optimal_threshold_index]\n",
    "\n",
    "print(f\"Threshold values: {threshold_values}\")\n",
    "print(f\"Average winnings per round for each threshold: {average_winnings_per_rounds}\")\n",
    "print(f\"Optimal threshold value: {optimal_threshold_value}\")"
   ]
  },
  {
   "cell_type": "markdown",
   "metadata": {},
   "source": [
    "10. Create a new strategy based on web searches or your own ideas. Demonstrate that the new strategy will result in increased or decreased winnings. "
   ]
  },
  {
   "cell_type": "code",
   "execution_count": 43,
   "metadata": {},
   "outputs": [
    {
     "name": "stdout",
     "output_type": "stream",
     "text": [
      "\n",
      "--- New Round ---\n",
      "\n",
      "Player 1's turn:\n"
     ]
    },
    {
     "name": "stdin",
     "output_type": "stream",
     "text": [
      "Do you want to (h)it or (s)tand?  s\n"
     ]
    },
    {
     "name": "stdout",
     "output_type": "stream",
     "text": [
      "Player 1 stands.\n",
      "\n",
      "Player 2's turn:\n"
     ]
    },
    {
     "name": "stdin",
     "output_type": "stream",
     "text": [
      "Do you want to (h)it or (s)tand?  s\n"
     ]
    },
    {
     "name": "stdout",
     "output_type": "stream",
     "text": [
      "Player 2 stands.\n",
      "\n",
      "Player 3's turn:\n"
     ]
    },
    {
     "name": "stdin",
     "output_type": "stream",
     "text": [
      "Do you want to (h)it or (s)tand?  s\n"
     ]
    },
    {
     "name": "stdout",
     "output_type": "stream",
     "text": [
      "Player 3 stands.\n",
      "\n",
      "Player 4's turn:\n"
     ]
    },
    {
     "name": "stdin",
     "output_type": "stream",
     "text": [
      "Do you want to (h)it or (s)tand?  s\n"
     ]
    },
    {
     "name": "stdout",
     "output_type": "stream",
     "text": [
      "Player 4 stands.\n",
      "\n",
      "Dealer's turn:\n",
      "Dealer stands.\n",
      "Player 1 pushes!\n"
     ]
    },
    {
     "ename": "AttributeError",
     "evalue": "'Player' object has no attribute 'bet'",
     "output_type": "error",
     "traceback": [
      "\u001b[0;31m---------------------------------------------------------------------------\u001b[0m",
      "\u001b[0;31mAttributeError\u001b[0m                            Traceback (most recent call last)",
      "Cell \u001b[0;32mIn[43], line 47\u001b[0m\n\u001b[1;32m     44\u001b[0m     \u001b[38;5;28;01mreturn\u001b[39;00m strategy_player_winnings\n\u001b[1;32m     46\u001b[0m \u001b[38;5;66;03m# Run simulations for both Basic Strategy and Card Counting Strategy\u001b[39;00m\n\u001b[0;32m---> 47\u001b[0m basic_strategy_winnings \u001b[38;5;241m=\u001b[39m \u001b[43mrun_game_with_strategy\u001b[49m\u001b[43m(\u001b[49m\u001b[43mBasicStrategyPlayer\u001b[49m\u001b[43m)\u001b[49m\n\u001b[1;32m     48\u001b[0m card_counting_winnings \u001b[38;5;241m=\u001b[39m run_game_with_strategy(CountingPlayer)\n\u001b[1;32m     50\u001b[0m \u001b[38;5;28mprint\u001b[39m(\u001b[38;5;124mf\u001b[39m\u001b[38;5;124m\"\u001b[39m\u001b[38;5;124mWinnings with Basic Strategy: \u001b[39m\u001b[38;5;132;01m{\u001b[39;00mbasic_strategy_winnings\u001b[38;5;132;01m}\u001b[39;00m\u001b[38;5;124m\"\u001b[39m)\n",
      "Cell \u001b[0;32mIn[43], line 38\u001b[0m, in \u001b[0;36mrun_game_with_strategy\u001b[0;34m(strategy_player_class)\u001b[0m\n\u001b[1;32m     36\u001b[0m \u001b[38;5;66;03m# Play rounds\u001b[39;00m\n\u001b[1;32m     37\u001b[0m \u001b[38;5;28;01mfor\u001b[39;00m i \u001b[38;5;129;01min\u001b[39;00m \u001b[38;5;28mrange\u001b[39m(rounds_to_play):\n\u001b[0;32m---> 38\u001b[0m     \u001b[43mgame\u001b[49m\u001b[38;5;241;43m.\u001b[39;49m\u001b[43mplay_round\u001b[49m\u001b[43m(\u001b[49m\u001b[43m)\u001b[49m\n\u001b[1;32m     39\u001b[0m     game\u001b[38;5;241m.\u001b[39mreset_game()\n\u001b[1;32m     41\u001b[0m \u001b[38;5;66;03m# Compute strategy player's winnings\u001b[39;00m\n",
      "Cell \u001b[0;32mIn[31], line 66\u001b[0m, in \u001b[0;36mBlackjackGame.play_round\u001b[0;34m(self)\u001b[0m\n\u001b[1;32m     64\u001b[0m \u001b[38;5;28;01melif\u001b[39;00m player\u001b[38;5;241m.\u001b[39mhand\u001b[38;5;241m.\u001b[39mget_value() \u001b[38;5;241m==\u001b[39m \u001b[38;5;28mself\u001b[39m\u001b[38;5;241m.\u001b[39mdealer\u001b[38;5;241m.\u001b[39mhand\u001b[38;5;241m.\u001b[39mget_value():\n\u001b[1;32m     65\u001b[0m     \u001b[38;5;28mprint\u001b[39m(\u001b[38;5;124mf\u001b[39m\u001b[38;5;124m\"\u001b[39m\u001b[38;5;132;01m{\u001b[39;00mplayer\u001b[38;5;241m.\u001b[39mname\u001b[38;5;132;01m}\u001b[39;00m\u001b[38;5;124m pushes!\u001b[39m\u001b[38;5;124m\"\u001b[39m)\n\u001b[0;32m---> 66\u001b[0m     player\u001b[38;5;241m.\u001b[39mbalance \u001b[38;5;241m+\u001b[39m\u001b[38;5;241m=\u001b[39m \u001b[43mplayer\u001b[49m\u001b[38;5;241;43m.\u001b[39;49m\u001b[43mbet\u001b[49m\n",
      "\u001b[0;31mAttributeError\u001b[0m: 'Player' object has no attribute 'bet'"
     ]
    }
   ],
   "source": [
    "class BasicStrategyPlayer(Player):\n",
    "    def __init__(self, name):\n",
    "        super().__init__(name)\n",
    "\n",
    "    def hit_or_stand(self, dealer_upcard):\n",
    "        hand_value = self.hand.get_value()\n",
    "        if hand_value <= 11:\n",
    "            return 'hit'\n",
    "        elif 12 <= hand_value <= 16:\n",
    "            if dealer_upcard in ['10', 'Jack', 'Queen', 'King', 'Ace', '7', '8', '9']:\n",
    "                return 'hit'\n",
    "            else:\n",
    "                return 'stand'\n",
    "        else:\n",
    "            return 'stand'\n",
    "\n",
    "# Function to run a single game of 50 rounds and return strategy player's winnings for a given strategy\n",
    "def run_game_with_strategy(strategy_player_class):\n",
    "    class StrategyPlayer(strategy_player_class):\n",
    "        def hit(self, deck):\n",
    "            if self.hit_or_stand(dealer.hand.cards[1].value) == 'hit':\n",
    "                super().hit(deck)\n",
    "                print(f\"{self.name} hits.\")\n",
    "            else:\n",
    "                self.stand()\n",
    "                print(f\"{self.name} stands.\")\n",
    "\n",
    "    game = BlackjackGame(num_players=4)\n",
    "    rounds_to_play = 50\n",
    "    starting_chips = 1000\n",
    "\n",
    "    # Set starting balance for all players\n",
    "    for player in game.players:\n",
    "        player.balance = starting_chips\n",
    "\n",
    "    # Play rounds\n",
    "    for i in range(rounds_to_play):\n",
    "        game.play_round()\n",
    "        game.reset_game()\n",
    "\n",
    "    # Compute strategy player's winnings\n",
    "    strategy_player = [player for player in game.players if isinstance(player, StrategyPlayer)][0]\n",
    "    strategy_player_winnings = strategy_player.balance - starting_chips\n",
    "    return strategy_player_winnings\n",
    "\n",
    "# Run simulations for both Basic Strategy and Card Counting Strategy\n",
    "basic_strategy_winnings = run_game_with_strategy(BasicStrategyPlayer)\n",
    "card_counting_winnings = run_game_with_strategy(CountingPlayer)\n",
    "\n",
    "print(f\"Winnings with Basic Strategy: {basic_strategy_winnings}\")\n",
    "print(f\"Winnings with Card Counting Strategy: {card_counting_winnings}\")\n"
   ]
  }
 ],
 "metadata": {
  "kernelspec": {
   "display_name": "Python 3 (ipykernel)",
   "language": "python",
   "name": "python3"
  },
  "language_info": {
   "codemirror_mode": {
    "name": "ipython",
    "version": 3
   },
   "file_extension": ".py",
   "mimetype": "text/x-python",
   "name": "python",
   "nbconvert_exporter": "python",
   "pygments_lexer": "ipython3",
   "version": "3.10.12"
  }
 },
 "nbformat": 4,
 "nbformat_minor": 4
}
